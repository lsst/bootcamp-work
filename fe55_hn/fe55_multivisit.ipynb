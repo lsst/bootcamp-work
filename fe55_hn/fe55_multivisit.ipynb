{
 "cells": [
  {
   "cell_type": "code",
   "execution_count": null,
   "metadata": {},
   "outputs": [],
   "source": []
  },
  {
   "cell_type": "markdown",
   "metadata": {},
   "source": [
    "# Example Fe55 notebook\n",
    "\n",
    "Initially written for the bootcamp at SLAC Nov 2018 by Simon Krughoff"
   ]
  },
  {
   "cell_type": "markdown",
   "metadata": {},
   "source": [
    "### Setup\n",
    "\n",
    "Before running this notebook, you'll need to set up the `obs_lsst` package. Before doing the setup procedure below, you might want to run the notebook until it crashes so you see what the error message looks like.\n",
    "\n",
    "Step-by-step instructions:\n",
    "\n",
    "1. Start a terminal in JupyterLab. In the terminal, setup the Stack with the command `source /opt/lsst/software/stack/loadLSST.bash` and then issue the command `setup lsst_distrib` to allow you to run scons in a subsequent step.\n",
    "\n",
    "2. Create and/or switch into a folder where you want to put your local versions of the LSST Stack (e.g., `~/repos`)\n",
    "\n",
    "Run the following commands\n",
    "\n",
    "```\n",
    "git clone https://github.com/lsst/obs_lsstCam.git\n",
    "cd obs_lsstCam\n",
    "setup -j -r .\n",
    "scons\n",
    "```\n",
    "\n",
    "3. Add `setup -k -r path_to_repos/obs_lsstCam` to `$HOME/notebooks/.user_setups`.\n",
    "\n",
    "4. Restart your kernel.\n",
    "\n",
    "Just for fun, check what version of the Stack you are using. This notebook has been tested on `w_2018_45`."
   ]
  },
  {
   "cell_type": "code",
   "execution_count": 1,
   "metadata": {},
   "outputs": [
    {
     "name": "stdout",
     "output_type": "stream",
     "text": [
      "lsst_distrib          16.0-1-g3bbe181+32 \tcurrent d_2018_11_13 setup\n"
     ]
    }
   ],
   "source": [
    "! eups list -s | grep lsst_distrib"
   ]
  },
  {
   "cell_type": "markdown",
   "metadata": {},
   "source": [
    "### Imports"
   ]
  },
  {
   "cell_type": "code",
   "execution_count": 1,
   "metadata": {},
   "outputs": [],
   "source": [
    "%matplotlib inline\n",
    "\n",
    "# system imports\n",
    "from matplotlib import pylab as plt\n",
    "from scipy.optimize import leastsq\n",
    "import numpy\n",
    "import os\n",
    "\n",
    "# LSST stack imports\n",
    "from lsst.daf.persistence import Butler\n",
    "import lsst.afw.display as afwDisplay\n",
    "from lsst.ip.isr import IsrTask\n",
    "import lsst.afw.detection as afwDetection\n",
    "\n",
    "\n",
    "# Firefly client imports\n",
    "from firefly_client import FireflyClient\n",
    "from IPython.display import IFrame"
   ]
  },
  {
   "cell_type": "markdown",
   "metadata": {},
   "source": [
    "### Set up the config for the ISR task.  This essentially turns off all processing other than overscan and bias correction."
   ]
  },
  {
   "cell_type": "code",
   "execution_count": 2,
   "metadata": {},
   "outputs": [],
   "source": [
    "isr_config = IsrTask.ConfigClass()\n",
    "\n",
    "isr_config.doDark=False\n",
    "isr_config.doFlat=False\n",
    "isr_config.doFringe=False\n",
    "isr_config.doDefect=False\n",
    "isr_config.doAddDistortionModel=False\n",
    "isr_config.doLinearize=False"
   ]
  },
  {
   "cell_type": "markdown",
   "metadata": {},
   "source": [
    "### Construct the `IsrTask` with the above configuration"
   ]
  },
  {
   "cell_type": "code",
   "execution_count": 3,
   "metadata": {},
   "outputs": [],
   "source": [
    "isr = IsrTask(config=isr_config)"
   ]
  },
  {
   "cell_type": "code",
   "execution_count": 4,
   "metadata": {},
   "outputs": [],
   "source": [
    "def double_gaussian(x, params):\n",
    "    (c1, mu1, sigma1, c2, mu2, sigma2) = params\n",
    "    res =  c1 * numpy.exp(-(x - mu1)**2.0/(2.0 * sigma1**2.0)) \\\n",
    "          + c2 * numpy.exp(-(x - mu2)**2.0/(2.0 * sigma2**2.0))\n",
    "    return res\n",
    "\n",
    "def double_gaussian_fit(params, x, y):\n",
    "    fit = double_gaussian( x, params )\n",
    "    return (fit - y)"
   ]
  },
  {
   "cell_type": "markdown",
   "metadata": {},
   "source": [
    "### Loop over amps and fit a double gaussian to the distribution of counts in detections"
   ]
  },
  {
   "cell_type": "code",
   "execution_count": 75,
   "metadata": {},
   "outputs": [],
   "source": [
    "xs = []\n",
    "ys = []\n",
    "fits = []\n",
    "\n",
    "def fit_foots():\n",
    "    \n",
    "    amp_names = []\n",
    "    counts = {}\n",
    "\n",
    "    first = True\n",
    "    for vs in visits :\n",
    "\n",
    "        dId = {'visit': vs, 'detector': 2}\n",
    "        raw = butler.get('raw', **dId)\n",
    "        bias = butler.get('bias', **dId)\n",
    "\n",
    "#        print(\"raw files = \",raw)\n",
    "    \n",
    "        result = isr.run(raw, bias=bias)\n",
    "#        print(\"result = \",result)\n",
    "\n",
    "        detector = result.exposure.getDetector()\n",
    "    \n",
    "        i_amp = 0\n",
    "        for amp in detector:\n",
    "            masked_img = result.exposure.getMaskedImage()\n",
    "            work_img = masked_img[amp.getBBox()]\n",
    "            arr = work_img.getImage().getArray()\n",
    "    \n",
    "            bkgd = numpy.median(arr) # estimate a background and subtract it\n",
    "#            print(\"amp = \",amp.getName(),\"bkgd = %11.3e\" % bkgd)\n",
    "            arr -= bkgd\n",
    "\n",
    "            thresh = afwDetection.Threshold(100)\n",
    "            fs = afwDetection.FootprintSet(work_img, thresh) # detect hits\n",
    "            fs = afwDetection.FootprintSet(fs, 1, False) # grow the detection footprints\n",
    "            fs.makeHeavy(work_img)\n",
    "\n",
    "            foots = fs.getFootprints()\n",
    "\n",
    "            if first :\n",
    "                counts[amp.getName()] = []\n",
    "                amp_names.append(amp.getName())\n",
    "\n",
    "            for foot in foots:\n",
    "#        print (\"foot print dump:\")\n",
    "#        print (foot.getImageArray())\n",
    "                if foot.getImageArray().size < 25:  # throw out big footprints/CRs since we know the hits should be in a single pixel modulo the charge diffusion.\n",
    "                    counts[amp.getName()].append(numpy.sum(foot.getImageArray()))\n",
    "        first = False\n",
    "        \n",
    "    print(\"amp_names = \",amp_names)\n",
    "    for amp_name in amp_names:\n",
    "#        print (\"working on \",amp_name)\n",
    "        hist = numpy.histogram(counts[amp_name], bins=2100.+numpy.array(range(80))*10.) # generate distribution to fit\n",
    "\n",
    "        y = hist[0]\n",
    "        x = [(hist[1][i]+hist[1][i+1])/2 for i in range(len(hist[1])-1)]\n",
    "\n",
    "        first_peak_guess = numpy.sum(x*y)/numpy.sum(y)\n",
    "        second_peak_guess = first_peak_guess+200.0\n",
    "        hit_sum = sum(counts[amp_name])\n",
    "        print('amp_name = ',amp_name,' number of hits = ',hit_sum)\n",
    "        Kalpha_amp_guess = hit_sum / 100000\n",
    "        Kbeta_amp_guess = Kalpha_amp_guess / 5\n",
    "        fit = leastsq(double_gaussian_fit, [Kalpha_amp_guess,first_peak_guess,50.,Kbeta_amp_guess,second_peak_guess,40.], args=(x, y)) # starting parameters were determined by examining a representative distribution\n",
    "        \n",
    "#        fit = leastsq(double_gaussian_fit, [50.,2270.,50.,10.,2550.,40.], args=(x, y)) # starting parameters were determined by examining a representative distribution\n",
    "#        print(\"fit \")\n",
    "        xs.append(x)\n",
    "        ys.append(y)\n",
    "#        print(ys)\n",
    "        fits.append(fit)"
   ]
  },
  {
   "cell_type": "markdown",
   "metadata": {},
   "source": [
    "### Retrieve the data necessary to perform ISR.  This is just the raw data and the bias frame.  Note there are multiple integrations.  This notebook only looks at one of them."
   ]
  },
  {
   "cell_type": "code",
   "execution_count": 76,
   "metadata": {},
   "outputs": [
    {
     "name": "stdout",
     "output_type": "stream",
     "text": [
      "[258334666, 258334978, 258335291, 258335602, 258335913]\n"
     ]
    }
   ],
   "source": [
    "BOOTCAMP_REPO_DIR= '/project/bootcamp/repo_RTM-007/'\n",
    "butler = Butler(BOOTCAMP_REPO_DIR)\n",
    "\n",
    "visits = butler.queryMetadata('raw', ['visit'], dataId={'imageType': 'FE55', 'testType': 'FE55'})\n",
    "print(visits)\n",
    "\n"
   ]
  },
  {
   "cell_type": "code",
   "execution_count": 77,
   "metadata": {},
   "outputs": [
    {
     "name": "stdout",
     "output_type": "stream",
     "text": [
      "amp_names =  ['C10', 'C11', 'C12', 'C13', 'C14', 'C15', 'C16', 'C17', 'C07', 'C06', 'C05', 'C04', 'C03', 'C02', 'C01', 'C00']\n",
      "amp_name =  C10  number of hits =  12294561.73009491\n",
      "amp_name =  C11  number of hits =  13471452.279968262\n",
      "amp_name =  C12  number of hits =  14847938.315078735\n",
      "amp_name =  C13  number of hits =  16755791.97795105\n",
      "amp_name =  C14  number of hits =  18996533.610466003\n",
      "amp_name =  C15  number of hits =  21656858.1124115\n",
      "amp_name =  C16  number of hits =  24953364.049118042\n",
      "amp_name =  C17  number of hits =  28192446.84461975\n",
      "amp_name =  C07  number of hits =  21362478.72390747\n",
      "amp_name =  C06  number of hits =  18818302.767807007\n",
      "amp_name =  C05  number of hits =  16968004.8775177\n",
      "amp_name =  C04  number of hits =  15064344.030136108\n",
      "amp_name =  C03  number of hits =  13764033.095085144\n",
      "amp_name =  C02  number of hits =  12696422.826217651\n",
      "amp_name =  C01  number of hits =  11628518.169662476\n",
      "amp_name =  C00  number of hits =  10970245.821685791\n"
     ]
    }
   ],
   "source": [
    "fit_foots()"
   ]
  },
  {
   "cell_type": "markdown",
   "metadata": {},
   "source": [
    "### Set up the necessary classes for using firefly to look at the data."
   ]
  },
  {
   "cell_type": "code",
   "execution_count": 78,
   "metadata": {},
   "outputs": [],
   "source": [
    "my_channel = '{}_test_channel'.format(os.environ['USER'])\n",
    "server = 'https://lsst-lspdev.ncsa.illinois.edu'\n",
    "\n",
    "\n",
    "#ff='{}/firefly/slate.html?__wsch={}'.format(server, my_channel)\n",
    "#IFrame(ff,800,600)"
   ]
  },
  {
   "cell_type": "code",
   "execution_count": 54,
   "metadata": {},
   "outputs": [],
   "source": [
    "#afwDisplay.setDefaultBackend('firefly')\n",
    "#afw_display = afwDisplay.getDisplay(frame=1, \n",
    "#                                    name=my_channel)"
   ]
  },
  {
   "cell_type": "markdown",
   "metadata": {},
   "source": [
    "### Display the frame after ISR"
   ]
  },
  {
   "cell_type": "code",
   "execution_count": 55,
   "metadata": {},
   "outputs": [],
   "source": [
    "#afw_display.mtv(result.exposure)"
   ]
  },
  {
   "cell_type": "markdown",
   "metadata": {},
   "source": [
    "### Set up the functions doing the fit"
   ]
  },
  {
   "cell_type": "markdown",
   "metadata": {},
   "source": [
    "### plot distributions for all 16 amps."
   ]
  },
  {
   "cell_type": "code",
   "execution_count": 79,
   "metadata": {},
   "outputs": [
    {
     "data": {
      "image/png": "[encoded data removed]",
      "text/plain": [
       "<Figure size 720x720 with 16 Axes>"
      ]
     },
     "metadata": {
      "needs_background": "light"
     },
     "output_type": "display_data"
    }
   ],
   "source": [
    "fig, axs = plt.subplots(4, 4, figsize=(10, 10))\n",
    "for i in range(16):\n",
    "    x = xs[i]\n",
    "    y = ys[i]\n",
    "    fit = fits[i]\n",
    "    indx = i%4\n",
    "    indy = i//4\n",
    "    axs[indx][indy].bar(x, y, width=10)\n",
    "    axs[indx][indy].plot(x, double_gaussian(x, fit[0]), c='r')\n",
    "    if indx == 3:\n",
    "        axs[indx][indy].set_xlabel('Counts (ADU)')\n",
    "    if indy == 0:\n",
    "        axs[indx][indy].set_ylabel('N')"
   ]
  },
  {
   "cell_type": "code",
   "execution_count": null,
   "metadata": {},
   "outputs": [],
   "source": [
    "afw_display.mtv(work_img) # have a look at an example amp"
   ]
  },
  {
   "cell_type": "code",
   "execution_count": null,
   "metadata": {},
   "outputs": [],
   "source": [
    "FE55_electrons = 1594"
   ]
  },
  {
   "cell_type": "markdown",
   "metadata": {},
   "source": [
    "### Calculate gain and print them"
   ]
  },
  {
   "cell_type": "code",
   "execution_count": null,
   "metadata": {},
   "outputs": [],
   "source": [
    "for i in range(16):\n",
    "    print(\"Gain for amp %s -- %.5f\"%(detector[i].getName(), FE55_electrons/fits[i][0][1]))"
   ]
  }
 ],
 "metadata": {
  "kernelspec": {
   "display_name": "LSST",
   "language": "python",
   "name": "lsst"
  },
  "language_info": {
   "codemirror_mode": {
    "name": "ipython",
    "version": 3
   },
   "file_extension": ".py",
   "mimetype": "text/x-python",
   "name": "python",
   "nbconvert_exporter": "python",
   "pygments_lexer": "ipython3",
   "version": "3.6.6"
  }
 },
 "nbformat": 4,
 "nbformat_minor": 2
}
