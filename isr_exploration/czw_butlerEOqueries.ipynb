{
 "cells": [
  {
   "cell_type": "markdown",
   "metadata": {},
   "source": [
    "## Coming up with some concrete example of what can be done linking DM and Camera (using Butler and eTraveler)"
   ]
  },
  {
   "cell_type": "markdown",
   "metadata": {},
   "source": [
    "# Load all the appropriate libraries.\n",
    "Load the EO access libraries and establish a connection to the eTraveler production database."
   ]
  },
  {
   "cell_type": "markdown",
   "metadata": {},
   "source": [
    "Repos available from:\n",
    "\n",
    "https://github.com/lsst-camera-dh/eTraveler-clientAPI.git\n",
    "\n",
    "https://github.com/lsst-camera-dh/datacat-utilities.git"
   ]
  },
  {
   "cell_type": "code",
   "execution_count": 1,
   "metadata": {},
   "outputs": [],
   "source": [
    "from get_EO_analysis_results import get_EO_analysis_results\n",
    "from get_EO_analysis_files import get_EO_analysis_files\n",
    "from exploreFocalPlane import exploreFocalPlane\n",
    "from exploreRaft import exploreRaft\n",
    "from eTraveler.clientAPI.connection import Connection"
   ]
  },
  {
   "cell_type": "markdown",
   "metadata": {},
   "source": [
    "These methods give three views into the Camera side eTraveler system:\n",
    " * `eR` describes the camera setup, based on how the devices are arranged in the raft.\n",
    " * `gf` provides an access point into the files generated on the camera side. I do not understand this at this point (2018-11-15).\n",
    " * `g` proves an access point into the camera validation tests that have been performed as part of a particular data run."
   ]
  },
  {
   "cell_type": "code",
   "execution_count": 2,
   "metadata": {},
   "outputs": [],
   "source": [
    "eR = exploreRaft(db='Prod')\n",
    "gf = get_EO_analysis_files(db='Prod')\n",
    "g = get_EO_analysis_results(db='Prod')"
   ]
  },
  {
   "cell_type": "markdown",
   "metadata": {},
   "source": [
    "Load the DM stack, along with miscellaneous other libraries.  This is a direct copy from the DM Bootcam Fe55 notebook, because it's easier to copy."
   ]
  },
  {
   "cell_type": "code",
   "execution_count": 3,
   "metadata": {},
   "outputs": [],
   "source": [
    "%matplotlib inline\n",
    "\n",
    "# system imports\n",
    "from matplotlib import pylab as plt\n",
    "from scipy.optimize import leastsq\n",
    "import numpy\n",
    "import os\n",
    "import re\n",
    "\n",
    "# LSST stack imports\n",
    "from lsst.daf.persistence import Butler\n",
    "import lsst.afw.display as afwDisplay\n",
    "from lsst.ip.isr import IsrTask\n",
    "import lsst.afw.detection as afwDetection"
   ]
  },
  {
   "cell_type": "markdown",
   "metadata": {},
   "source": [
    "Generate a Butler that is aware of the example bootcamp repository.  This is a TS8 repository with a single run, which I know ahead of time is `run=7086`."
   ]
  },
  {
   "cell_type": "code",
   "execution_count": 4,
   "metadata": {},
   "outputs": [],
   "source": [
    "REPO = '/project/bootcamp/repo_RTM-007/'\n",
    "butler = Butler(REPO)"
   ]
  },
  {
   "cell_type": "markdown",
   "metadata": {},
   "source": [
    "Once the Butler connection is made, it's helpful to learn what keys it expects to specify data.  `getKeys()` provides that list"
   ]
  },
  {
   "cell_type": "code",
   "execution_count": 5,
   "metadata": {},
   "outputs": [
    {
     "data": {
      "text/plain": [
       "{'run': str, 'visit': int, 'detectorName': str, 'detector': int}"
      ]
     },
     "execution_count": 5,
     "metadata": {},
     "output_type": "execute_result"
    }
   ],
   "source": [
    "butler.getKeys('raw')"
   ]
  },
  {
   "cell_type": "markdown",
   "metadata": {},
   "source": [
    "Get a list of runs available in this Butler by querying for `raw` data, and asking for the set of `run` values:"
   ]
  },
  {
   "cell_type": "code",
   "execution_count": 6,
   "metadata": {},
   "outputs": [
    {
     "name": "stdout",
     "output_type": "stream",
     "text": [
      "['7086']\n"
     ]
    }
   ],
   "source": [
    "runList = butler.queryMetadata('raw', ['run'])\n",
    "print(runList)"
   ]
  },
  {
   "cell_type": "markdown",
   "metadata": {},
   "source": [
    "As expected, this list is a single element long, containing the expected run number.\n",
    "\n",
    "From the `visit` key in Butler, we can get a list of \"full\" exposures available in the Butler.  This key is constructed by the Butler during data ingest, and is used to organize data taken at the same time (the time is used to construct the key).  This is also going to return a list, but we will only consider the first element for the time being."
   ]
  },
  {
   "cell_type": "code",
   "execution_count": 7,
   "metadata": {},
   "outputs": [
    {
     "name": "stdout",
     "output_type": "stream",
     "text": [
      "258333657\n"
     ]
    }
   ],
   "source": [
    "dataId = {'run': runList[0]}\n",
    "visitList = butler.queryMetadata('raw', ['visit'], dataId=dataId)\n",
    "print(visitList[0])"
   ]
  },
  {
   "cell_type": "markdown",
   "metadata": {},
   "source": [
    "From this single visit, determine the single CCD images that comprise that \"full exposure\", using the `detectorName` and `detector` keys.  Get one of those single-device images, and pull the formal device name from the header."
   ]
  },
  {
   "cell_type": "code",
   "execution_count": 8,
   "metadata": {},
   "outputs": [
    {
     "name": "stdout",
     "output_type": "stream",
     "text": [
      "('S00', 0)\n"
     ]
    }
   ],
   "source": [
    "dataId.update({'visit': visitList[0]})\n",
    "imageList = butler.queryMetadata('raw', ['detectorName', 'detector'], dataId=dataId)\n",
    "print(imageList[0])"
   ]
  },
  {
   "cell_type": "markdown",
   "metadata": {},
   "source": [
    "This query returns a DM `Exposure` object, which contains a set of (value, mask, variance) images, a WCS, and associated other metadata.  It can be displayed, but I am skipping this step for now.  Either of `detectorName` and `detector` can be used to uniquely identify the device image data, but as both are available in the results from the previous query, I'm supplying both."
   ]
  },
  {
   "cell_type": "code",
   "execution_count": 9,
   "metadata": {},
   "outputs": [
    {
     "name": "stdout",
     "output_type": "stream",
     "text": [
      "<lsst.afw.image.exposure.exposure.ExposureF object at 0x7f9ce91dc810>\n"
     ]
    }
   ],
   "source": [
    "dataId.update({'detectorName': imageList[0][0], 'detector': imageList[0][1]})\n",
    "image = butler.get('raw', dataId=dataId)\n",
    "print(image)"
   ]
  },
  {
   "cell_type": "markdown",
   "metadata": {},
   "source": [
    "The DM metadata contains the original image header, accessible with DM methods.  From a scan of the full list (the commented `print(image.getMetadata())`, I was able to identify that the `LSST_NUM` keyword contained values that match the CCD device names."
   ]
  },
  {
   "cell_type": "code",
   "execution_count": 10,
   "metadata": {},
   "outputs": [
    {
     "name": "stdout",
     "output_type": "stream",
     "text": [
      "E2V-CCD250-260\n"
     ]
    }
   ],
   "source": [
    "deviceName = image.getMetadata().getScalar('LSST_NUM')\n",
    "print(deviceName)\n",
    "#print(image.getMetadata())"
   ]
  },
  {
   "cell_type": "markdown",
   "metadata": {},
   "source": [
    "RHL suggests that the header isn't entirely trustworthy, and that perhaps we should be pulling detector serial numbers from the camera geometry (as defined by the `obs_lsstCam/policy/ts8/R00.yaml` file).  This file is manually generated.  The `Exposure` selected above has a `Detector` property that links it to this camera geometry file.  From that `Detector`, we can request the serial number and the name, which identifies its position in the camera."
   ]
  },
  {
   "cell_type": "code",
   "execution_count": 11,
   "metadata": {},
   "outputs": [
    {
     "name": "stdout",
     "output_type": "stream",
     "text": [
      "E2V-CCD250-266-Dev\n",
      "R00_S00\n"
     ]
    }
   ],
   "source": [
    "detector = image.getDetector()\n",
    "#help(detector)\n",
    "detectorDeviceName = detector.getSerial()\n",
    "print(detector.getSerial())\n",
    "print(detector.getName())"
   ]
  },
  {
   "cell_type": "markdown",
   "metadata": {},
   "source": [
    "eTraveler does not know about this `detectorDeviceName` based on previous explorations.  I will continue with the `deviceName` selected previously, and leave this difference for the future."
   ]
  },
  {
   "cell_type": "markdown",
   "metadata": {},
   "source": [
    "From the `run` and `deviceName` obtained from Butler, query the eTraveler system to obtain test results and test files.  This returns the raft name used for this run, and from the results, we have a list of `deviceNames` along with the arrays containing the per-amplifier values for each test.  I have pulled two test results as an example.\n",
    "\n",
    "I have also attempted to pull files from the eTraveler system, but the call fails with a `GetResultsNoDataException`.  I don't know if this fails only for this run, or if there are other issues with my query.  To avoid issues, I've simply surrounded the query with a `try`."
   ]
  },
  {
   "cell_type": "raw",
   "metadata": {},
   "source": [
    "Dec 5 addendum:  test results accessible:\n",
    "\n",
    "       self.raft_dataTypes = ['gain', 'gain_error', 'psf_sigma', 'read_noise', 'system_noise',\n",
    "                          'total_noise', 'bright_pixels', 'bright_columns', 'dark_pixels',\n",
    "                          'dark_columns', 'num_traps',\n",
    "                          'cti_low_serial', 'cti_high_serial', 'cti_low_parallel', 'cti_high_parallel',\n",
    "                          'nonlinearity', 'dark_current_95CL', 'ptc_gain', 'pixel_mean', 'full_well',\n",
    "                           'max_frac_dev']\n"
   ]
  },
  {
   "cell_type": "code",
   "execution_count": 12,
   "metadata": {},
   "outputs": [
    {
     "name": "stdout",
     "output_type": "stream",
     "text": [
      "7086\n",
      "LCA-11021_RTM-007\n",
      "odict_keys(['E2V-CCD250-260', 'E2V-CCD250-182', 'E2V-CCD250-175', 'E2V-CCD250-167', 'E2V-CCD250-195', 'E2V-CCD250-201', 'E2V-CCD250-222', 'E2V-CCD250-213', 'E2V-CCD250-177'])\n",
      "[0, 0, 0, 0, 0, 0, 0, 0, 0, 0, 0, 0, 0, 0, 0, 0]\n",
      "[0.7101629376411438, 0.7143053412437439, 0.7206076383590698, 0.7239463329315186, 0.721765398979187, 0.73038649559021, 0.7361469864845276, 0.7402608394622803, 0.7090623378753662, 0.7078778743743896, 0.7105268836021423, 0.7073314189910889, 0.7138391733169556, 0.7099373936653137, 0.7040491104125977, 0.688077449798584]\n",
      "[]\n"
     ]
    }
   ],
   "source": [
    "for run in runList:\n",
    "    print(run)\n",
    "    raft_list, data = g.get_tests(site_type=\"I&T-Raft\", run=run)\n",
    "    res = g.get_results(test_type=\"bright_columns\", data=data, device=raft_list)\n",
    "    print(raft_list)\n",
    "    print(res.keys())\n",
    "    print(res[deviceName])\n",
    "    res2 = g.get_results(test_type=\"ptc_gain\", data=data, device=raft_list)\n",
    "    print(res2[deviceName])\n",
    "    try:\n",
    "        testFiles = gf.get_files(run=run)\n",
    "    except:\n",
    "        testFiles = []\n",
    "    print(testFiles)"
   ]
  },
  {
   "cell_type": "markdown",
   "metadata": {},
   "source": [
    "## This is quite a bit of information.  Can I do something useful with it?"
   ]
  },
  {
   "cell_type": "markdown",
   "metadata": {},
   "source": [
    "As an example, is it possible to construct a R00.yaml based entirely on eTraveler data?"
   ]
  },
  {
   "cell_type": "markdown",
   "metadata": {},
   "source": [
    "Explicitly set the run here, to ensure this section completes independently of the previous queries.  From that run, pull the test results that are used in the yaml file."
   ]
  },
  {
   "cell_type": "code",
   "execution_count": 13,
   "metadata": {},
   "outputs": [],
   "source": [
    "run = 7086  # Explicitly choosing the same as above.\n",
    "raftList, data = g.get_tests(site_type=\"I&T-Raft\", run=run)\n",
    "gainRes = g.get_results(test_type=\"gain\", data=data, device=raftList)\n",
    "readNoiseRes = g.get_results(test_type=\"read_noise\", data=data, device=raftList)"
   ]
  },
  {
   "cell_type": "markdown",
   "metadata": {},
   "source": [
    "The raft information contains the CCD type, and contains the serial number for this raft configuration (?? I do not actually know what defines a raft serial number)."
   ]
  },
  {
   "cell_type": "code",
   "execution_count": 14,
   "metadata": {},
   "outputs": [
    {
     "name": "stdout",
     "output_type": "stream",
     "text": [
      "R00 :\n",
      "  detectorType : e2v\n",
      "  raftSerial : LCA-11021_RTM-007\n",
      "  ccdSerials :\n"
     ]
    }
   ],
   "source": [
    "raftInfo = eR.raftContents(raftName=raftList, run=run)\n",
    "raftType = eR.raft_type(raft=raftList)\n",
    "\n",
    "print(\"R00 :\")\n",
    "print(\"  detectorType : %s\" % (raftType))\n",
    "print(\"  raftSerial : %s\" % (raftList))\n",
    "print(\"  ccdSerials :\")"
   ]
  },
  {
   "cell_type": "markdown",
   "metadata": {},
   "source": [
    "Iterate over the detectors of the raft, and print the mapping between the detector location on the raft, and the detector serial number."
   ]
  },
  {
   "cell_type": "code",
   "execution_count": 15,
   "metadata": {},
   "outputs": [
    {
     "name": "stdout",
     "output_type": "stream",
     "text": [
      "    S00 : E2V-CCD250-260\n",
      "    S01 : E2V-CCD250-182\n",
      "    S02 : E2V-CCD250-175\n",
      "    S10 : E2V-CCD250-167\n",
      "    S11 : E2V-CCD250-195\n",
      "    S12 : E2V-CCD250-201\n",
      "    S20 : E2V-CCD250-222\n",
      "    S21 : E2V-CCD250-213\n",
      "    S22 : E2V-CCD250-177\n"
     ]
    }
   ],
   "source": [
    "# print(raftInfo) # (deviceName, deviceLocation, REB)\n",
    "for ccd in raftInfo:\n",
    "    print(\"    %s : %s\" % (ccd[1], ccd[0]))"
   ]
  },
  {
   "cell_type": "markdown",
   "metadata": {},
   "source": [
    "For each detector in the raft, we would like to know the gain and read noise for each amplifier.  I could not identify a location of the `C00` amplifier names in eTraveler, but I do not know if that means that information does not exist.  Instead, I've assumed that a simple iterator will provide the correct amplifier identifier."
   ]
  },
  {
   "cell_type": "code",
   "execution_count": 16,
   "metadata": {},
   "outputs": [
    {
     "name": "stdout",
     "output_type": "stream",
     "text": [
      "\n",
      "  amplifiers :\n",
      "    S00 :\n",
      "      C00 : { gain : 1.425768, readNoise : 5.196356}\n",
      "      C01 : { gain : 1.416527, readNoise : 4.981935}\n",
      "      C02 : { gain : 1.397792, readNoise : 4.890378}\n",
      "      C03 : { gain : 1.396435, readNoise : 5.003916}\n",
      "      C04 : { gain : 1.396115, readNoise : 4.983557}\n",
      "      C05 : { gain : 1.382393, readNoise : 5.162814}\n",
      "      C06 : { gain : 1.366971, readNoise : 5.184981}\n",
      "      C07 : { gain : 1.367701, readNoise : 5.297394}\n",
      "      C10 : { gain : 1.416200, readNoise : 5.458410}\n",
      "      C11 : { gain : 1.426139, readNoise : 5.273975}\n",
      "      C12 : { gain : 1.416797, readNoise : 5.307252}\n",
      "      C13 : { gain : 1.424342, readNoise : 5.134071}\n",
      "      C14 : { gain : 1.408973, readNoise : 5.678471}\n",
      "      C15 : { gain : 1.417583, readNoise : 5.734850}\n",
      "      C16 : { gain : 1.428731, readNoise : 5.803617}\n",
      "      C17 : { gain : 1.461123, readNoise : 5.937781}\n",
      "    S01 :\n",
      "      C00 : { gain : 1.381113, readNoise : 4.864641}\n",
      "      C01 : { gain : 1.390683, readNoise : 4.865966}\n",
      "      C02 : { gain : 1.373320, readNoise : 4.860666}\n",
      "      C03 : { gain : 1.375400, readNoise : 4.849601}\n",
      "      C04 : { gain : 1.369674, readNoise : 5.048857}\n",
      "      C05 : { gain : 1.371018, readNoise : 5.110760}\n",
      "      C06 : { gain : 1.367257, readNoise : 4.985714}\n",
      "      C07 : { gain : 1.375607, readNoise : 5.283281}\n",
      "      C10 : { gain : 1.452923, readNoise : 4.861379}\n",
      "      C11 : { gain : 1.453358, readNoise : 4.935189}\n",
      "      C12 : { gain : 1.460431, readNoise : 4.825943}\n",
      "      C13 : { gain : 1.465187, readNoise : 4.883279}\n",
      "      C14 : { gain : 1.464042, readNoise : 4.892909}\n",
      "      C15 : { gain : 1.477830, readNoise : 4.930952}\n",
      "      C16 : { gain : 1.475684, readNoise : 4.939462}\n",
      "      C17 : { gain : 1.474113, readNoise : 5.164266}\n",
      "    S02 :\n",
      "      C00 : { gain : 1.469370, readNoise : 4.534455}\n",
      "      C01 : { gain : 1.478476, readNoise : 4.623284}\n",
      "      C02 : { gain : 1.478922, readNoise : 4.608122}\n",
      "      C03 : { gain : 1.477265, readNoise : 4.612621}\n",
      "      C04 : { gain : 1.471607, readNoise : 4.598947}\n",
      "      C05 : { gain : 1.489272, readNoise : 4.754879}\n",
      "      C06 : { gain : 1.477083, readNoise : 4.720863}\n",
      "      C07 : { gain : 1.468545, readNoise : 4.863598}\n",
      "      C10 : { gain : 1.484554, readNoise : 4.819451}\n",
      "      C11 : { gain : 1.494677, readNoise : 4.705887}\n",
      "      C12 : { gain : 1.485346, readNoise : 4.661147}\n",
      "      C13 : { gain : 1.490985, readNoise : 4.661834}\n",
      "      C14 : { gain : 1.486085, readNoise : 4.964228}\n",
      "      C15 : { gain : 1.492240, readNoise : 4.929253}\n",
      "      C16 : { gain : 1.494703, readNoise : 4.940608}\n",
      "      C17 : { gain : 1.496914, readNoise : 5.118816}\n",
      "    S10 :\n",
      "      C00 : { gain : 1.405873, readNoise : 4.756271}\n",
      "      C01 : { gain : 1.395911, readNoise : 4.792308}\n",
      "      C02 : { gain : 1.379638, readNoise : 4.807931}\n",
      "      C03 : { gain : 1.362828, readNoise : 4.862144}\n",
      "      C04 : { gain : 1.373730, readNoise : 4.874578}\n",
      "      C05 : { gain : 1.364405, readNoise : 5.018934}\n",
      "      C06 : { gain : 1.363117, readNoise : 4.933498}\n",
      "      C07 : { gain : 1.356864, readNoise : 5.092542}\n",
      "      C10 : { gain : 1.399754, readNoise : 5.086913}\n",
      "      C11 : { gain : 1.402811, readNoise : 4.967480}\n",
      "      C12 : { gain : 1.382477, readNoise : 4.891891}\n",
      "      C13 : { gain : 1.395053, readNoise : 4.926368}\n",
      "      C14 : { gain : 1.383297, readNoise : 4.956997}\n",
      "      C15 : { gain : 1.380308, readNoise : 5.000899}\n",
      "      C16 : { gain : 1.388813, readNoise : 5.065765}\n",
      "      C17 : { gain : 1.416019, readNoise : 4.954587}\n",
      "    S11 :\n",
      "      C00 : { gain : 1.401447, readNoise : 4.863114}\n",
      "      C01 : { gain : 1.379919, readNoise : 4.901200}\n",
      "      C02 : { gain : 1.383519, readNoise : 4.840997}\n",
      "      C03 : { gain : 1.401523, readNoise : 4.785403}\n",
      "      C04 : { gain : 1.399087, readNoise : 4.727534}\n",
      "      C05 : { gain : 1.399276, readNoise : 4.769125}\n",
      "      C06 : { gain : 1.410422, readNoise : 4.740956}\n",
      "      C07 : { gain : 1.400831, readNoise : 4.870989}\n",
      "      C10 : { gain : 1.443579, readNoise : 5.034616}\n",
      "      C11 : { gain : 1.445778, readNoise : 4.858357}\n",
      "      C12 : { gain : 1.441881, readNoise : 4.841334}\n",
      "      C13 : { gain : 1.428567, readNoise : 4.876249}\n",
      "      C14 : { gain : 1.424380, readNoise : 4.909019}\n",
      "      C15 : { gain : 1.399768, readNoise : 5.002524}\n",
      "      C16 : { gain : 1.374833, readNoise : 5.095594}\n",
      "      C17 : { gain : 1.375983, readNoise : 5.220798}\n",
      "    S12 :\n",
      "      C00 : { gain : 1.460378, readNoise : 5.030483}\n",
      "      C01 : { gain : 1.458051, readNoise : 4.889864}\n",
      "      C02 : { gain : 1.452460, readNoise : 4.893318}\n",
      "      C03 : { gain : 1.455157, readNoise : 4.874253}\n",
      "      C04 : { gain : 1.454422, readNoise : 4.873510}\n",
      "      C05 : { gain : 1.448992, readNoise : 4.961479}\n",
      "      C06 : { gain : 1.446533, readNoise : 4.974305}\n",
      "      C07 : { gain : 1.434202, readNoise : 5.210713}\n",
      "      C10 : { gain : 1.438520, readNoise : 4.959251}\n",
      "      C11 : { gain : 1.442712, readNoise : 4.793636}\n",
      "      C12 : { gain : 1.436569, readNoise : 4.782115}\n",
      "      C13 : { gain : 1.447717, readNoise : 4.931472}\n",
      "      C14 : { gain : 1.449653, readNoise : 4.856476}\n",
      "      C15 : { gain : 1.438728, readNoise : 4.876770}\n",
      "      C16 : { gain : 1.447546, readNoise : 4.910235}\n",
      "      C17 : { gain : 1.451759, readNoise : 5.069909}\n",
      "    S20 :\n",
      "      C00 : { gain : 1.387978, readNoise : 5.043787}\n",
      "      C01 : { gain : 1.362261, readNoise : 5.086843}\n",
      "      C02 : { gain : 1.367314, readNoise : 5.031266}\n",
      "      C03 : { gain : 1.370258, readNoise : 5.087980}\n",
      "      C04 : { gain : 1.363092, readNoise : 5.075427}\n",
      "      C05 : { gain : 1.366522, readNoise : 5.064800}\n",
      "      C06 : { gain : 1.360834, readNoise : 5.189383}\n",
      "      C07 : { gain : 1.368344, readNoise : 5.228122}\n",
      "      C10 : { gain : 1.423689, readNoise : 5.068752}\n",
      "      C11 : { gain : 1.429608, readNoise : 5.037061}\n",
      "      C12 : { gain : 1.413405, readNoise : 4.944379}\n",
      "      C13 : { gain : 1.410143, readNoise : 4.953371}\n",
      "      C14 : { gain : 1.411236, readNoise : 5.024664}\n",
      "      C15 : { gain : 1.404045, readNoise : 5.081628}\n",
      "      C16 : { gain : 1.393527, readNoise : 5.171291}\n",
      "      C17 : { gain : 1.423415, readNoise : 5.168167}\n",
      "    S21 :\n",
      "      C00 : { gain : 1.380937, readNoise : 5.394986}\n",
      "      C01 : { gain : 1.364614, readNoise : 5.353010}\n",
      "      C02 : { gain : 1.368584, readNoise : 5.344610}\n",
      "      C03 : { gain : 1.365551, readNoise : 5.359310}\n",
      "      C04 : { gain : 1.365112, readNoise : 5.182212}\n",
      "      C05 : { gain : 1.380653, readNoise : 5.199718}\n",
      "      C06 : { gain : 1.389018, readNoise : 5.169595}\n",
      "      C07 : { gain : 1.382494, readNoise : 5.292328}\n",
      "      C10 : { gain : 1.398747, readNoise : 5.122813}\n",
      "      C11 : { gain : 1.389625, readNoise : 5.145289}\n",
      "      C12 : { gain : 1.402235, readNoise : 5.038185}\n",
      "      C13 : { gain : 1.397532, readNoise : 4.996224}\n",
      "      C14 : { gain : 1.399283, readNoise : 4.977660}\n",
      "      C15 : { gain : 1.397936, readNoise : 5.187133}\n",
      "      C16 : { gain : 1.408857, readNoise : 5.016979}\n",
      "      C17 : { gain : 1.410440, readNoise : 5.131283}\n",
      "    S22 :\n",
      "      C00 : { gain : 1.490562, readNoise : 4.697607}\n",
      "      C01 : { gain : 1.502416, readNoise : 4.737714}\n",
      "      C02 : { gain : 1.504713, readNoise : 4.651000}\n",
      "      C03 : { gain : 1.501153, readNoise : 4.936820}\n",
      "      C04 : { gain : 1.482868, readNoise : 4.720490}\n",
      "      C05 : { gain : 1.488618, readNoise : 4.763844}\n",
      "      C06 : { gain : 1.481191, readNoise : 4.859917}\n",
      "      C07 : { gain : 1.477526, readNoise : 5.018805}\n",
      "      C10 : { gain : 1.510892, readNoise : 4.820271}\n",
      "      C11 : { gain : 1.529598, readNoise : 4.755236}\n",
      "      C12 : { gain : 1.527785, readNoise : 4.732319}\n",
      "      C13 : { gain : 1.533954, readNoise : 4.777412}\n",
      "      C14 : { gain : 1.536172, readNoise : 4.778271}\n",
      "      C15 : { gain : 1.531320, readNoise : 4.927081}\n",
      "      C16 : { gain : 1.524744, readNoise : 4.778814}\n",
      "      C17 : { gain : 1.546483, readNoise : 4.783311}\n"
     ]
    }
   ],
   "source": [
    "print(\"\")\n",
    "print(\"  amplifiers :\")\n",
    "for ccd in raftInfo:\n",
    "    print(\"    %s :\" % (ccd[1]))\n",
    "    for idx, (gain, rn) in enumerate(zip(gainRes[ccd[0]], readNoiseRes[ccd[0]])):\n",
    "        print(\"      C%02o : { gain : %f, readNoise : %f}\" % (idx, 1/gain, rn)) # this may not need to be 1/gain"
   ]
  },
  {
   "cell_type": "markdown",
   "metadata": {},
   "source": [
    "Put it all together to return the R00.yaml contents in a single cell output:"
   ]
  },
  {
   "cell_type": "code",
   "execution_count": 17,
   "metadata": {},
   "outputs": [
    {
     "name": "stdout",
     "output_type": "stream",
     "text": [
      "R00 :\n",
      "  detectorType : e2v\n",
      "  raftSerial : LCA-11021_RTM-007\n",
      "  ccdSerials :\n",
      "    S00 : E2V-CCD250-260\n",
      "    S01 : E2V-CCD250-182\n",
      "    S02 : E2V-CCD250-175\n",
      "    S10 : E2V-CCD250-167\n",
      "    S11 : E2V-CCD250-195\n",
      "    S12 : E2V-CCD250-201\n",
      "    S20 : E2V-CCD250-222\n",
      "    S21 : E2V-CCD250-213\n",
      "    S22 : E2V-CCD250-177\n",
      "\n",
      "  amplifiers :\n",
      "    S00 :\n",
      "      C00 : { gain : 1.425768, readNoise : 5.196356}\n",
      "      C01 : { gain : 1.416527, readNoise : 4.981935}\n",
      "      C02 : { gain : 1.397792, readNoise : 4.890378}\n",
      "      C03 : { gain : 1.396435, readNoise : 5.003916}\n",
      "      C04 : { gain : 1.396115, readNoise : 4.983557}\n",
      "      C05 : { gain : 1.382393, readNoise : 5.162814}\n",
      "      C06 : { gain : 1.366971, readNoise : 5.184981}\n",
      "      C07 : { gain : 1.367701, readNoise : 5.297394}\n",
      "      C10 : { gain : 1.416200, readNoise : 5.458410}\n",
      "      C11 : { gain : 1.426139, readNoise : 5.273975}\n",
      "      C12 : { gain : 1.416797, readNoise : 5.307252}\n",
      "      C13 : { gain : 1.424342, readNoise : 5.134071}\n",
      "      C14 : { gain : 1.408973, readNoise : 5.678471}\n",
      "      C15 : { gain : 1.417583, readNoise : 5.734850}\n",
      "      C16 : { gain : 1.428731, readNoise : 5.803617}\n",
      "      C17 : { gain : 1.461123, readNoise : 5.937781}\n",
      "    S01 :\n",
      "      C00 : { gain : 1.381113, readNoise : 4.864641}\n",
      "      C01 : { gain : 1.390683, readNoise : 4.865966}\n",
      "      C02 : { gain : 1.373320, readNoise : 4.860666}\n",
      "      C03 : { gain : 1.375400, readNoise : 4.849601}\n",
      "      C04 : { gain : 1.369674, readNoise : 5.048857}\n",
      "      C05 : { gain : 1.371018, readNoise : 5.110760}\n",
      "      C06 : { gain : 1.367257, readNoise : 4.985714}\n",
      "      C07 : { gain : 1.375607, readNoise : 5.283281}\n",
      "      C10 : { gain : 1.452923, readNoise : 4.861379}\n",
      "      C11 : { gain : 1.453358, readNoise : 4.935189}\n",
      "      C12 : { gain : 1.460431, readNoise : 4.825943}\n",
      "      C13 : { gain : 1.465187, readNoise : 4.883279}\n",
      "      C14 : { gain : 1.464042, readNoise : 4.892909}\n",
      "      C15 : { gain : 1.477830, readNoise : 4.930952}\n",
      "      C16 : { gain : 1.475684, readNoise : 4.939462}\n",
      "      C17 : { gain : 1.474113, readNoise : 5.164266}\n",
      "    S02 :\n",
      "      C00 : { gain : 1.469370, readNoise : 4.534455}\n",
      "      C01 : { gain : 1.478476, readNoise : 4.623284}\n",
      "      C02 : { gain : 1.478922, readNoise : 4.608122}\n",
      "      C03 : { gain : 1.477265, readNoise : 4.612621}\n",
      "      C04 : { gain : 1.471607, readNoise : 4.598947}\n",
      "      C05 : { gain : 1.489272, readNoise : 4.754879}\n",
      "      C06 : { gain : 1.477083, readNoise : 4.720863}\n",
      "      C07 : { gain : 1.468545, readNoise : 4.863598}\n",
      "      C10 : { gain : 1.484554, readNoise : 4.819451}\n",
      "      C11 : { gain : 1.494677, readNoise : 4.705887}\n",
      "      C12 : { gain : 1.485346, readNoise : 4.661147}\n",
      "      C13 : { gain : 1.490985, readNoise : 4.661834}\n",
      "      C14 : { gain : 1.486085, readNoise : 4.964228}\n",
      "      C15 : { gain : 1.492240, readNoise : 4.929253}\n",
      "      C16 : { gain : 1.494703, readNoise : 4.940608}\n",
      "      C17 : { gain : 1.496914, readNoise : 5.118816}\n",
      "    S10 :\n",
      "      C00 : { gain : 1.405873, readNoise : 4.756271}\n",
      "      C01 : { gain : 1.395911, readNoise : 4.792308}\n",
      "      C02 : { gain : 1.379638, readNoise : 4.807931}\n",
      "      C03 : { gain : 1.362828, readNoise : 4.862144}\n",
      "      C04 : { gain : 1.373730, readNoise : 4.874578}\n",
      "      C05 : { gain : 1.364405, readNoise : 5.018934}\n",
      "      C06 : { gain : 1.363117, readNoise : 4.933498}\n",
      "      C07 : { gain : 1.356864, readNoise : 5.092542}\n",
      "      C10 : { gain : 1.399754, readNoise : 5.086913}\n",
      "      C11 : { gain : 1.402811, readNoise : 4.967480}\n",
      "      C12 : { gain : 1.382477, readNoise : 4.891891}\n",
      "      C13 : { gain : 1.395053, readNoise : 4.926368}\n",
      "      C14 : { gain : 1.383297, readNoise : 4.956997}\n",
      "      C15 : { gain : 1.380308, readNoise : 5.000899}\n",
      "      C16 : { gain : 1.388813, readNoise : 5.065765}\n",
      "      C17 : { gain : 1.416019, readNoise : 4.954587}\n",
      "    S11 :\n",
      "      C00 : { gain : 1.401447, readNoise : 4.863114}\n",
      "      C01 : { gain : 1.379919, readNoise : 4.901200}\n",
      "      C02 : { gain : 1.383519, readNoise : 4.840997}\n",
      "      C03 : { gain : 1.401523, readNoise : 4.785403}\n",
      "      C04 : { gain : 1.399087, readNoise : 4.727534}\n",
      "      C05 : { gain : 1.399276, readNoise : 4.769125}\n",
      "      C06 : { gain : 1.410422, readNoise : 4.740956}\n",
      "      C07 : { gain : 1.400831, readNoise : 4.870989}\n",
      "      C10 : { gain : 1.443579, readNoise : 5.034616}\n",
      "      C11 : { gain : 1.445778, readNoise : 4.858357}\n",
      "      C12 : { gain : 1.441881, readNoise : 4.841334}\n",
      "      C13 : { gain : 1.428567, readNoise : 4.876249}\n",
      "      C14 : { gain : 1.424380, readNoise : 4.909019}\n",
      "      C15 : { gain : 1.399768, readNoise : 5.002524}\n",
      "      C16 : { gain : 1.374833, readNoise : 5.095594}\n",
      "      C17 : { gain : 1.375983, readNoise : 5.220798}\n",
      "    S12 :\n",
      "      C00 : { gain : 1.460378, readNoise : 5.030483}\n",
      "      C01 : { gain : 1.458051, readNoise : 4.889864}\n",
      "      C02 : { gain : 1.452460, readNoise : 4.893318}\n",
      "      C03 : { gain : 1.455157, readNoise : 4.874253}\n",
      "      C04 : { gain : 1.454422, readNoise : 4.873510}\n",
      "      C05 : { gain : 1.448992, readNoise : 4.961479}\n",
      "      C06 : { gain : 1.446533, readNoise : 4.974305}\n",
      "      C07 : { gain : 1.434202, readNoise : 5.210713}\n",
      "      C10 : { gain : 1.438520, readNoise : 4.959251}\n",
      "      C11 : { gain : 1.442712, readNoise : 4.793636}\n",
      "      C12 : { gain : 1.436569, readNoise : 4.782115}\n",
      "      C13 : { gain : 1.447717, readNoise : 4.931472}\n",
      "      C14 : { gain : 1.449653, readNoise : 4.856476}\n",
      "      C15 : { gain : 1.438728, readNoise : 4.876770}\n",
      "      C16 : { gain : 1.447546, readNoise : 4.910235}\n",
      "      C17 : { gain : 1.451759, readNoise : 5.069909}\n",
      "    S20 :\n",
      "      C00 : { gain : 1.387978, readNoise : 5.043787}\n",
      "      C01 : { gain : 1.362261, readNoise : 5.086843}\n",
      "      C02 : { gain : 1.367314, readNoise : 5.031266}\n",
      "      C03 : { gain : 1.370258, readNoise : 5.087980}\n",
      "      C04 : { gain : 1.363092, readNoise : 5.075427}\n",
      "      C05 : { gain : 1.366522, readNoise : 5.064800}\n",
      "      C06 : { gain : 1.360834, readNoise : 5.189383}\n",
      "      C07 : { gain : 1.368344, readNoise : 5.228122}\n",
      "      C10 : { gain : 1.423689, readNoise : 5.068752}\n",
      "      C11 : { gain : 1.429608, readNoise : 5.037061}\n",
      "      C12 : { gain : 1.413405, readNoise : 4.944379}\n",
      "      C13 : { gain : 1.410143, readNoise : 4.953371}\n",
      "      C14 : { gain : 1.411236, readNoise : 5.024664}\n",
      "      C15 : { gain : 1.404045, readNoise : 5.081628}\n",
      "      C16 : { gain : 1.393527, readNoise : 5.171291}\n",
      "      C17 : { gain : 1.423415, readNoise : 5.168167}\n",
      "    S21 :\n",
      "      C00 : { gain : 1.380937, readNoise : 5.394986}\n",
      "      C01 : { gain : 1.364614, readNoise : 5.353010}\n",
      "      C02 : { gain : 1.368584, readNoise : 5.344610}\n",
      "      C03 : { gain : 1.365551, readNoise : 5.359310}\n",
      "      C04 : { gain : 1.365112, readNoise : 5.182212}\n",
      "      C05 : { gain : 1.380653, readNoise : 5.199718}\n",
      "      C06 : { gain : 1.389018, readNoise : 5.169595}\n",
      "      C07 : { gain : 1.382494, readNoise : 5.292328}\n",
      "      C10 : { gain : 1.398747, readNoise : 5.122813}\n",
      "      C11 : { gain : 1.389625, readNoise : 5.145289}\n",
      "      C12 : { gain : 1.402235, readNoise : 5.038185}\n",
      "      C13 : { gain : 1.397532, readNoise : 4.996224}\n",
      "      C14 : { gain : 1.399283, readNoise : 4.977660}\n",
      "      C15 : { gain : 1.397936, readNoise : 5.187133}\n",
      "      C16 : { gain : 1.408857, readNoise : 5.016979}\n",
      "      C17 : { gain : 1.410440, readNoise : 5.131283}\n",
      "    S22 :\n",
      "      C00 : { gain : 1.490562, readNoise : 4.697607}\n",
      "      C01 : { gain : 1.502416, readNoise : 4.737714}\n",
      "      C02 : { gain : 1.504713, readNoise : 4.651000}\n",
      "      C03 : { gain : 1.501153, readNoise : 4.936820}\n",
      "      C04 : { gain : 1.482868, readNoise : 4.720490}\n",
      "      C05 : { gain : 1.488618, readNoise : 4.763844}\n",
      "      C06 : { gain : 1.481191, readNoise : 4.859917}\n",
      "      C07 : { gain : 1.477526, readNoise : 5.018805}\n",
      "      C10 : { gain : 1.510892, readNoise : 4.820271}\n",
      "      C11 : { gain : 1.529598, readNoise : 4.755236}\n",
      "      C12 : { gain : 1.527785, readNoise : 4.732319}\n",
      "      C13 : { gain : 1.533954, readNoise : 4.777412}\n",
      "      C14 : { gain : 1.536172, readNoise : 4.778271}\n",
      "      C15 : { gain : 1.531320, readNoise : 4.927081}\n",
      "      C16 : { gain : 1.524744, readNoise : 4.778814}\n",
      "      C17 : { gain : 1.546483, readNoise : 4.783311}\n"
     ]
    }
   ],
   "source": [
    "run = 7086  # Explicitly choosing the same as above.\n",
    "raftList, data = g.get_tests(site_type=\"I&T-Raft\", run=run)\n",
    "gainRes = g.get_results(test_type=\"gain\", data=data, device=raftList)\n",
    "readNoiseRes = g.get_results(test_type=\"read_noise\", data=data, device=raftList)\n",
    "\n",
    "raftInfo = eR.raftContents(raftName=raftList, run=run)\n",
    "raftType = eR.raft_type(raft=raftList)\n",
    "\n",
    "print(\"R00 :\")\n",
    "print(\"  detectorType : %s\" % (raftType))\n",
    "print(\"  raftSerial : %s\" % (raftList))\n",
    "print(\"  ccdSerials :\")\n",
    "\n",
    "# print(raftInfo) # (deviceName, deviceLocation, deviceTravelerId???)\n",
    "for ccd in raftInfo:\n",
    "    print(\"    %s : %s\" % (ccd[1], ccd[0]))\n",
    "    \n",
    "print(\"\")\n",
    "print(\"  amplifiers :\")\n",
    "for ccd in raftInfo:\n",
    "    print(\"    %s :\" % (ccd[1]))\n",
    "    for idx, (gain, rn) in enumerate(zip(gainRes[ccd[0]], readNoiseRes[ccd[0]])):\n",
    "        print(\"      C%02o : { gain : %f, readNoise : %f}\" % (idx, 1/gain, rn))  # this may not need to be 1/gain"
   ]
  },
  {
   "cell_type": "code",
   "execution_count": null,
   "metadata": {},
   "outputs": [],
   "source": []
  }
 ],
 "metadata": {
  "kernelspec": {
   "display_name": "LSST",
   "language": "python",
   "name": "lsst"
  },
  "language_info": {
   "codemirror_mode": {
    "name": "ipython",
    "version": 3
   },
   "file_extension": ".py",
   "mimetype": "text/x-python",
   "name": "python",
   "nbconvert_exporter": "python",
   "pygments_lexer": "ipython3",
   "version": "3.6.6"
  }
 },
 "nbformat": 4,
 "nbformat_minor": 2
}
