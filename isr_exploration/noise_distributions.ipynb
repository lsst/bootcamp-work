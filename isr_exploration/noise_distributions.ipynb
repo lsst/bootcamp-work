{
 "cells": [
  {
   "cell_type": "markdown",
   "metadata": {},
   "source": [
    "# Read Noise Distributions\n",
    "\n",
    "<br>Owner: **Emily Phillips Longley** and **Keith Bechtol**\n",
    "<br>Last Verified to Run: **2018-11-14**\n",
    "<br>Verified Stack Release: **w_2018_45**\n",
    "\n",
    "This notebook requires the package `obs_lsst`, which is not currently distributed in the LSP. If the following cell raises an exception, see the instructions in `welcome_to_FE55.ipynb`.\n",
    "\n",
    "See examples in the eotest:\n",
    "* [read_noise.py](https://github.com/lsst-camera-dh/eotest/blob/master/python/lsst/eotest/sensor/read_noise.py)\n",
    "* [total_noise_histograms.py](https://github.com/lsst-camera-dh/eotest/blob/master/python/lsst/eotest/sensor/total_noise_histograms.py)\n",
    "\n",
    "Our goal is to compute determine the noise distributions for each amplifier. The total noise has contributions from read noise, system noise, and shot noise added in quadrature.\n",
    "\n",
    "$\\sigma_{\\rm total} = \\sqrt{\\sigma_{\\rm read}^{2} + \\sigma_{\\rm system}^{2} + \\sigma_{\\rm shot}^{2}}$\n",
    "\n",
    "**Read noise:**\n",
    "\n",
    "**System noise:**\n",
    "\n",
    "**Total read noise:**\n",
    "\n",
    "To get the gain, use flats. This is an approximation.\n",
    "\n",
    "$\\left< \\frac{(I_1 - I_2)^2}{I_1 + I_2} \\right> = \\frac{2 \\mu g^{-2}}{2 \\mu g^{-1}} = \\frac{1}{g}$\n",
    "\n",
    "For Poisson distribution\n",
    "\n",
    "$\\sigma^2 = \\mu$\n",
    "\n",
    "Use bias frames\n",
    "\n",
    "$(I_1 - I_2)^2 = \\frac{2 \\sigma^2}{g^2}$\n",
    "\n",
    "**Shot noise:** Poisson noise contribution from dark current. The variance is equal to the dark current (electrons per second) multiplied by the exposure time (seconds).\n",
    "\n",
    "Other things to check. Look at adjascent pixels. Correlations. Some will be correlated, some will be uncorrelated.\n",
    "\n",
    "Inputs include the \n",
    "* gain per amp, \n",
    "* dark current array over pixels"
   ]
  },
  {
   "cell_type": "code",
   "execution_count": 1,
   "metadata": {},
   "outputs": [
    {
     "name": "stdout",
     "output_type": "stream",
     "text": [
      "lsst_distrib          16.0-1-g3bbe181+31 \tcurrent w_2018_45 setup\n"
     ]
    }
   ],
   "source": [
    "! eups list -s | grep lsst_distrib"
   ]
  },
  {
   "cell_type": "code",
   "execution_count": 2,
   "metadata": {},
   "outputs": [],
   "source": [
    "%matplotlib inline\n",
    "#%matplotlib notebook\n",
    "\n",
    "# system imports\n",
    "import os\n",
    "import pickle\n",
    "import numpy as np\n",
    "from matplotlib import pylab as plt\n",
    "\n",
    "# LSST stack imports\n",
    "from lsst.daf.persistence import Butler\n",
    "from lsst.ip.isr import IsrTask\n",
    "import lsst.afw.display as afwDisplay\n",
    "import lsst.afw.math as afwMath\n",
    "\n",
    "# Firefly client imports\n",
    "from firefly_client import FireflyClient\n",
    "from IPython.display import IFrame"
   ]
  },
  {
   "cell_type": "markdown",
   "metadata": {},
   "source": [
    "We will neeed the gains as input."
   ]
  },
  {
   "cell_type": "code",
   "execution_count": 3,
   "metadata": {},
   "outputs": [
    {
     "name": "stdout",
     "output_type": "stream",
     "text": [
      "{'C10': 0.6856116841023682, 'C11': 0.6828370373440649, 'C12': 0.6805327849191469, 'C13': 0.6831846044769826, 'C14': 0.6849149825346197, 'C15': 0.6789655903769061, 'C16': 0.6829431546099424, 'C17': 0.6876745548876412, 'C07': 0.6810742462801476, 'C06': 0.6756125428248168, 'C05': 0.6789986278561932, 'C04': 0.6769254142894018, 'C03': 0.6782587666477135, 'C02': 0.6773377949311571, 'C01': 0.6754054168143772, 'C00': 0.6720678721650647}\n"
     ]
    }
   ],
   "source": [
    "reader = open('../examples/gain_detector_2.pkl', 'rb')\n",
    "gain_dict = pickle.load(reader)\n",
    "reader.close()\n",
    "\n",
    "# Unit is electrons per ADU\n",
    "print(gain_dict)"
   ]
  },
  {
   "cell_type": "markdown",
   "metadata": {},
   "source": [
    "Run the ISR task through correction with the master bias."
   ]
  },
  {
   "cell_type": "code",
   "execution_count": 4,
   "metadata": {},
   "outputs": [],
   "source": [
    "isr_config = IsrTask.ConfigClass()\n",
    "\n",
    "isr_config.doDark=False\n",
    "isr_config.doFlat=False\n",
    "isr_config.doFringe=False\n",
    "isr_config.doDefect=False\n",
    "isr_config.doAddDistortionModel=False\n",
    "isr_config.doLinearize=False\n",
    "\n",
    "isr_bias = IsrTask(config=isr_config)\n",
    "\n",
    "#isr_config.toDict()"
   ]
  },
  {
   "cell_type": "markdown",
   "metadata": {},
   "source": [
    "Alternative ISR configuration to run the ISR task through CCD assembly. This includes overscan subtraction."
   ]
  },
  {
   "cell_type": "code",
   "execution_count": 5,
   "metadata": {},
   "outputs": [],
   "source": [
    "isr_config = IsrTask.ConfigClass()\n",
    "\n",
    "isr_config.doBias=False\n",
    "isr_config.doDark=False\n",
    "isr_config.doFlat=False\n",
    "isr_config.doFringe=False\n",
    "isr_config.doDefect=False\n",
    "isr_config.doAddDistortionModel=False\n",
    "isr_config.doLinearize=False\n",
    "\n",
    "isr_assemble = IsrTask(config=isr_config)"
   ]
  },
  {
   "cell_type": "code",
   "execution_count": 6,
   "metadata": {},
   "outputs": [
    {
     "data": {
      "text/plain": [
       "['BIAS', 'DARK', 'FE55', 'FLAT', 'fluxcalib', 'PPUMP']"
      ]
     },
     "execution_count": 6,
     "metadata": {},
     "output_type": "execute_result"
    }
   ],
   "source": [
    "# Instantiate butler and print out what types of raw exposures exist in this data repository\n",
    "BOOTCAMP_REPO_DIR = '/project/bootcamp/repo_RTM-007/'\n",
    "butler = Butler(BOOTCAMP_REPO_DIR)\n",
    "butler.queryMetadata('raw', ['imageType'])"
   ]
  },
  {
   "cell_type": "markdown",
   "metadata": {},
   "source": [
    "## Read noise"
   ]
  },
  {
   "cell_type": "code",
   "execution_count": 7,
   "metadata": {},
   "outputs": [
    {
     "name": "stdout",
     "output_type": "stream",
     "text": [
      "[258334360, 258334672, 258334985, 258335297, 258335608, 258338033, 258338346, 258338660, 258338973, 258339284, 258339732, 258339799, 258339867, 258339937, 258340007, 258340077, 258340152, 258340195, 258340236, 258340282, 258340332, 258340383, 258340438, 258340500, 258340568, 258340646, 258340740, 258340850, 258340989, 258341162, 258341382, 258341635, 258341916, 258342229, 258342550, 258342881, 258343221, 258343573, 258343932, 258344308, 258344701, 258345114, 258345543, 258345990, 258346455, 258346938, 258347437, 258347953, 258348488, 258350158, 258350371, 258350670, 258350693, 258350717, 258350742, 258350767, 258350790, 258350815, 258350838, 258350863, 258350887, 258350911, 258350935, 258350959, 258350984, 258351008, 258351032, 258351057, 258351081, 258351105, 258351130, 258351154, 258351178, 258351202, 258351226, 258351250, 258351292, 258351436, 258351575, 258351712, 258351849, 258351986, 258352118, 258352254, 258352394, 258352528, 258353336, 258353632, 258353884, 258354053, 258354195, 258354305, 258354401, 258354484, 258354565, 258354646, 258354727, 258354810, 258354896, 258354982, 258355067, 258355156, 258355251, 258355347, 258355452, 258355562, 258355673, 258355815, 258355952, 258356005, 258356167, 258356290, 258356393, 258356477, 258356547, 258356648, 258356714, 258356815, 258356975, 258357285, 258357597, 258357908]\n"
     ]
    }
   ],
   "source": [
    "# Start by identifying one bias frame\n",
    "visits = butler.queryMetadata('raw', ['visit'], dataId={'imageType': 'BIAS'})\n",
    "print(visits)"
   ]
  },
  {
   "cell_type": "code",
   "execution_count": 8,
   "metadata": {},
   "outputs": [
    {
     "name": "stdout",
     "output_type": "stream",
     "text": [
      "{'visit': 258334360, 'detector': 2}\n"
     ]
    }
   ],
   "source": [
    "dId = dict(visit=visits[0], detector=2) # Note that detector is a required keyword\n",
    "print(dId)"
   ]
  },
  {
   "cell_type": "code",
   "execution_count": 9,
   "metadata": {},
   "outputs": [],
   "source": [
    "raw = butler.get('raw', dId)\n",
    "raw_assemble = raw.clone() # We are worried that there is modify in place\n",
    "raw_bias = raw.clone()\n",
    "\n",
    "# Show metadata for this frame\n",
    "#print(raw.getMetadata())\n",
    "\n",
    "# Show the detector name\n",
    "#raw.getDetector().getName()"
   ]
  },
  {
   "cell_type": "code",
   "execution_count": 10,
   "metadata": {},
   "outputs": [],
   "source": [
    "# Get the corresponding master bias and master dark\n",
    "bias = butler.get('bias', dId)\n",
    "dark = butler.get('dark', dId)"
   ]
  },
  {
   "cell_type": "code",
   "execution_count": 11,
   "metadata": {},
   "outputs": [],
   "source": [
    "result_assemble = isr_assemble.run(raw_assemble)\n",
    "result_bias = isr_bias.run(raw_bias, bias=bias)"
   ]
  },
  {
   "cell_type": "code",
   "execution_count": 12,
   "metadata": {},
   "outputs": [
    {
     "name": "stdout",
     "output_type": "stream",
     "text": [
      "7.5743413\n",
      "7.0380545\n",
      "(4004, 4096)\n",
      "(4004, 4096)\n"
     ]
    },
    {
     "data": {
      "text/plain": [
       "<matplotlib.legend.Legend at 0x7f7130de0630>"
      ]
     },
     "execution_count": 12,
     "metadata": {},
     "output_type": "execute_result"
    },
    {
     "data": {
      "image/png": "[encoded data removed]",
      "text/plain": [
       "<Figure size 432x288 with 1 Axes>"
      ]
     },
     "metadata": {
      "needs_background": "light"
     },
     "output_type": "display_data"
    }
   ],
   "source": [
    "raw_image = raw.getMaskedImage().getImage().getArray()\n",
    "assemble_corrected_image = result_assemble.exposure.getMaskedImage().getImage().getArray()\n",
    "bias_corrected_image = result_bias.exposure.getMaskedImage().getImage().getArray()\n",
    "master_bias_image = bias.getMaskedImage().getImage().getArray()\n",
    "\n",
    "print(np.std(assemble_corrected_image))\n",
    "print(np.std(bias_corrected_image))\n",
    "print(assemble_corrected_image.shape)\n",
    "print(bias_corrected_image.shape)\n",
    "\n",
    "bins = np.linspace(-50, 50, 401)\n",
    "plt.figure()\n",
    "plt.yscale('log')\n",
    "plt.hist(master_bias_image.flatten(), bins=bins, alpha=0.5, label='Master Bias')\n",
    "plt.hist(assemble_corrected_image.flatten(), bins=bins, alpha=0.5, label='Assembled')\n",
    "plt.hist(bias_corrected_image.flatten(), bins=bins, alpha=0.5, label='Bias Corrected')\n",
    "plt.legend(loc='upper right')"
   ]
  },
  {
   "cell_type": "code",
   "execution_count": 13,
   "metadata": {},
   "outputs": [
    {
     "data": {
      "text/plain": [
       "<matplotlib.colorbar.Colorbar at 0x7f712c6b5630>"
      ]
     },
     "execution_count": 13,
     "metadata": {},
     "output_type": "execute_result"
    },
    {
     "data": {
      "image/png": "[encoded data removed]",
      "text/plain": [
       "<Figure size 432x288 with 2 Axes>"
      ]
     },
     "metadata": {
      "needs_background": "light"
     },
     "output_type": "display_data"
    }
   ],
   "source": [
    "plt.figure()\n",
    "plt.imshow(raw_image)\n",
    "plt.colorbar()"
   ]
  },
  {
   "cell_type": "code",
   "execution_count": 14,
   "metadata": {},
   "outputs": [
    {
     "data": {
      "image/png": "[encoded data removed]",
      "text/plain": [
       "<Figure size 432x288 with 1 Axes>"
      ]
     },
     "metadata": {
      "needs_background": "light"
     },
     "output_type": "display_data"
    }
   ],
   "source": [
    "#afw_display = afwDisplay.getDisplay(frame=1, \n",
    "#                                    name=my_channel)\n",
    "#afw_display.mtv(result.exposure)\n",
    "\n",
    "afwDisplay.setDefaultBackend('matplotlib')\n",
    "my_display = afwDisplay.Display()\n",
    "my_display.scale(\"asinh\", \"zscale\")\n",
    "my_display.mtv(raw.getMaskedImage()) # Plot the raw image\n",
    "#my_display.mtv(result_assemble.exposure) # Plot the CCD assembled, overscan subtracted image\n",
    "#my_display.mtv(result_bias.exposure) # Plot the master bias corrected image\n",
    "#my_display.mtv(bias.getMaskedImage()) # Plot the master bias"
   ]
  },
  {
   "cell_type": "code",
   "execution_count": 15,
   "metadata": {},
   "outputs": [
    {
     "data": {
      "text/html": [
       "\n",
       "        <iframe\n",
       "            width=\"800\"\n",
       "            height=\"600\"\n",
       "            src=\"https://lsst-lspdev.ncsa.illinois.edu/firefly/slate.html?__wsch=kbechtol_test_channel\"\n",
       "            frameborder=\"0\"\n",
       "            allowfullscreen\n",
       "        ></iframe>\n",
       "        "
      ],
      "text/plain": [
       "<IPython.lib.display.IFrame at 0x7f712c621e10>"
      ]
     },
     "execution_count": 15,
     "metadata": {},
     "output_type": "execute_result"
    }
   ],
   "source": [
    "my_channel = '{}_test_channel'.format(os.environ['USER'])\n",
    "server = 'https://lsst-lspdev.ncsa.illinois.edu'\n",
    "\n",
    "ff='{}/firefly/slate.html?__wsch={}'.format(server, my_channel)\n",
    "IFrame(ff,800,600)"
   ]
  },
  {
   "cell_type": "code",
   "execution_count": 16,
   "metadata": {},
   "outputs": [
    {
     "data": {
      "text/html": [
       "Open your web browser to <a href=\"https://lsst-lspdev.ncsa.illinois.edu/firefly//slate.html?__wsch=kbechtol_test_channel\"\" target=\"_blank\">this link</a>"
      ],
      "text/plain": [
       "<IPython.core.display.HTML object>"
      ]
     },
     "metadata": {},
     "output_type": "display_data"
    }
   ],
   "source": [
    "afwDisplay.setDefaultBackend('firefly')\n",
    "afw_display = afwDisplay.getDisplay(frame=1, \n",
    "                                    name=my_channel)"
   ]
  },
  {
   "cell_type": "code",
   "execution_count": 17,
   "metadata": {},
   "outputs": [],
   "source": [
    "afw_display.mtv(result_assemble.exposure)\n",
    "#afw_display.mtv(bias.getMaskedImage())"
   ]
  },
  {
   "cell_type": "code",
   "execution_count": 18,
   "metadata": {},
   "outputs": [
    {
     "name": "stdout",
     "output_type": "stream",
     "text": [
      "  Amp      Noise (e)\n",
      "  C10           4.55\n",
      "  C11           4.61\n",
      "  C12           4.61\n",
      "  C13           4.61\n",
      "  C14           4.61\n",
      "  C15           4.77\n",
      "  C16           4.74\n",
      "  C17           4.91\n",
      "  C07           4.90\n",
      "  C06           4.73\n",
      "  C05           4.73\n",
      "  C04           4.70\n",
      "  C03           5.02\n",
      "  C02           4.96\n",
      "  C01           4.96\n",
      "  C00           5.11\n"
     ]
    }
   ],
   "source": [
    "# Let's do the calculation\n",
    "detector = result_bias.exposure.getDetector()\n",
    "noise_from_master_bias = np.empty(len(detector))\n",
    "print('%5s%15s'%('Amp', 'Noise (e)'))\n",
    "for ii, amp in enumerate(detector):\n",
    "    amp_image = result_bias.exposure.getMaskedImage()[amp.getBBox()]\n",
    "    stats = afwMath.makeStatistics(amp_image, afwMath.STDEV)\n",
    "    noise_from_master_bias[ii] = gain_dict[amp.getName()] * stats.getValue(afwMath.STDEV)\n",
    "    print('%5s%15.2f'%(amp.getName(), \n",
    "                       noise_from_master_bias[ii]))"
   ]
  },
  {
   "cell_type": "markdown",
   "metadata": {},
   "source": [
    "Let's compute the read noise in a different way."
   ]
  },
  {
   "cell_type": "code",
   "execution_count": 19,
   "metadata": {},
   "outputs": [],
   "source": [
    "dId_1 = dict(visit=visits[0], detector=2)\n",
    "dId_2 = dict(visit=visits[1], detector=2)\n",
    "\n",
    "raw_1 = butler.get('raw', dId_1)\n",
    "raw_2 = butler.get('raw', dId_2)\n",
    "\n",
    "result_assemble_1 = isr_assemble.run(raw_1)\n",
    "result_assemble_2 = isr_assemble.run(raw_2)"
   ]
  },
  {
   "cell_type": "code",
   "execution_count": 20,
   "metadata": {},
   "outputs": [
    {
     "name": "stdout",
     "output_type": "stream",
     "text": [
      "  C10           4.57\n",
      "  C11           4.63\n",
      "  C12           4.62\n",
      "  C13           4.64\n",
      "  C14           4.63\n",
      "  C15           4.78\n",
      "  C16           4.76\n",
      "  C17           4.94\n",
      "  C07           4.92\n",
      "  C06           4.75\n",
      "  C05           4.74\n",
      "  C04           4.71\n",
      "  C03           5.04\n",
      "  C02           4.98\n",
      "  C01           4.98\n",
      "  C00           5.13\n"
     ]
    }
   ],
   "source": [
    "noise_from_difference = np.empty(len(detector))\n",
    "for ii, amp in enumerate(detector):\n",
    "    sub_im1 = result_assemble_1.exposure.getMaskedImage()[amp.getBBox()]\n",
    "    sub_im2 = result_assemble_2.exposure.getMaskedImage()[amp.getBBox()]\n",
    "    \n",
    "    # From RHL, 1/g = <(I1-I2)**2/(I1+I2)>\n",
    "    diff_im = sub_im1.clone()\n",
    "    diff_im -= sub_im2\n",
    "    \n",
    "    stats = afwMath.makeStatistics(diff_im, afwMath.STDEV)\n",
    "    \n",
    "    noise_from_difference[ii] = gain_dict[amp.getName()] * (np.sqrt(2))**(-1) * stats.getValue(afwMath.STDEV)\n",
    "    \n",
    "    print('%5s%15.2f'%(amp.getName(), \n",
    "                       noise_from_difference[ii]))"
   ]
  },
  {
   "cell_type": "code",
   "execution_count": 21,
   "metadata": {},
   "outputs": [],
   "source": [
    "#a = np.random.uniform(size=10000)\n",
    "#print(np.std(a * 100))\n",
    "#print(100 * np.std(a))"
   ]
  },
  {
   "cell_type": "code",
   "execution_count": 22,
   "metadata": {},
   "outputs": [
    {
     "data": {
      "text/plain": [
       "Text(0,0.5,'Noise (e)')"
      ]
     },
     "execution_count": 22,
     "metadata": {},
     "output_type": "execute_result"
    },
    {
     "data": {
      "image/png": "[encoded data removed]",
      "text/plain": [
       "<Figure size 432x288 with 1 Axes>"
      ]
     },
     "metadata": {
      "needs_background": "light"
     },
     "output_type": "display_data"
    }
   ],
   "source": [
    "plt.figure()\n",
    "x = np.arange(16)\n",
    "plt.scatter(x, noise_from_master_bias, label='Noise from Master Bias')\n",
    "plt.scatter(x, noise_from_difference, label='Noise from Difference')\n",
    "#plt.scatter(x, noise_from_difference / noise_from_master_bias, label='Noise from Difference')\n",
    "plt.legend()\n",
    "plt.xlabel('Detector')\n",
    "plt.ylabel('Noise (e)')"
   ]
  },
  {
   "cell_type": "markdown",
   "metadata": {},
   "source": [
    "## Dark Noise\n",
    "\n",
    "In the next section, we will compute the shot noise due to dark current"
   ]
  },
  {
   "cell_type": "code",
   "execution_count": 23,
   "metadata": {},
   "outputs": [],
   "source": [
    "EXPTIME = 16 # seconds"
   ]
  },
  {
   "cell_type": "code",
   "execution_count": 24,
   "metadata": {},
   "outputs": [
    {
     "name": "stdout",
     "output_type": "stream",
     "text": [
      "OBSTYPE = \"dark\"\n",
      "CALIB_CREATION_DATE = \"2018-11-05\"\n",
      "CALIB_CREATION_TIME = \"08:20:17 CST\"\n",
      "CALIB_INPUT_0 = \"(258338339,)\"\n",
      "CALIB_INPUT_1 = \"(258338653,)\"\n",
      "CALIB_INPUT_2 = \"(258338967,)\"\n",
      "CALIB_INPUT_3 = \"(258339279,)\"\n",
      "CALIB_INPUT_4 = \"(258339589,)\"\n",
      "CALIB_ID = \"detector=2 detectorName=S02 filter=NONE calibDate=2018-03-10\"\n",
      "MD5_IMAGE = \"7c9d7be0b0bac1e635c2ec43ce35f1be\"\n",
      "MD5_MASK = \"b3471c2dc5290d80ba8b2171d87bc084\"\n",
      "MD5_VARIANCE = \"c6d3244b1f464b706eaa8fb5750b6d7a\"\n",
      "TTYPE1 = \"COMPRESSED_DATA\"\n",
      "// label for field   1\n",
      "TFORM1 = \"1PB(14430)\"\n",
      "// data format of field: variable length array\n",
      "ZQUANTIZ = \"NONE\"\n",
      "// Lossless compression without quantization\n",
      "\n"
     ]
    }
   ],
   "source": [
    "dark.getMaskedImage().getImage().getArray()\n",
    "\n",
    "# Find out what calibration frames went into creating the dark\n",
    "print(dark.getMetadata())"
   ]
  },
  {
   "cell_type": "code",
   "execution_count": 25,
   "metadata": {},
   "outputs": [],
   "source": [
    "#dir(dark.getMaskedImage().getImage())\n",
    "#dir(dark.getInfo())"
   ]
  },
  {
   "cell_type": "markdown",
   "metadata": {},
   "source": [
    "---"
   ]
  },
  {
   "cell_type": "markdown",
   "metadata": {},
   "source": [
    "## Code Scraps"
   ]
  },
  {
   "cell_type": "code",
   "execution_count": 26,
   "metadata": {},
   "outputs": [],
   "source": [
    "# Here's how to find out what visits went into making the master bias\n",
    "#print(bias.getMetadata())"
   ]
  },
  {
   "cell_type": "code",
   "execution_count": 27,
   "metadata": {},
   "outputs": [
    {
     "data": {
      "text/plain": [
       "[(0, 'S00'),\n",
       " (1, 'S01'),\n",
       " (2, 'S02'),\n",
       " (3, 'S10'),\n",
       " (4, 'S11'),\n",
       " (5, 'S12'),\n",
       " (6, 'S20'),\n",
       " (7, 'S21'),\n",
       " (8, 'S22')]"
      ]
     },
     "execution_count": 27,
     "metadata": {},
     "output_type": "execute_result"
    }
   ],
   "source": [
    "butler.queryMetadata('raw', ['detector', 'detectorName'])"
   ]
  },
  {
   "cell_type": "code",
   "execution_count": 28,
   "metadata": {},
   "outputs": [
    {
     "name": "stdout",
     "output_type": "stream",
     "text": [
      "C10 7.0 1.7\n",
      "C11 7.0 1.7\n",
      "C12 7.0 1.7\n",
      "C13 7.0 1.7\n",
      "C14 7.0 1.7\n",
      "C15 7.0 1.7\n",
      "C16 7.0 1.7\n",
      "C17 7.0 1.7\n",
      "C07 7.0 1.7\n",
      "C06 7.0 1.7\n",
      "C05 7.0 1.7\n",
      "C04 7.0 1.7\n",
      "C03 7.0 1.7\n",
      "C02 7.0 1.7\n",
      "C01 7.0 1.7\n",
      "C00 7.0 1.7\n"
     ]
    }
   ],
   "source": [
    "dark = butler.get('dark', dId)\n",
    "dark.getMetadata().toDict()\n",
    "\n",
    "for a in raw.getDetector():\n",
    "    print(a.getName(), a.getReadNoise(), a.getGain())"
   ]
  },
  {
   "cell_type": "code",
   "execution_count": null,
   "metadata": {},
   "outputs": [],
   "source": []
  }
 ],
 "metadata": {
  "kernelspec": {
   "display_name": "LSST",
   "language": "python",
   "name": "lsst"
  },
  "language_info": {
   "codemirror_mode": {
    "name": "ipython",
    "version": 3
   },
   "file_extension": ".py",
   "mimetype": "text/x-python",
   "name": "python",
   "nbconvert_exporter": "python",
   "pygments_lexer": "ipython3",
   "version": "3.6.6"
  }
 },
 "nbformat": 4,
 "nbformat_minor": 2
}
