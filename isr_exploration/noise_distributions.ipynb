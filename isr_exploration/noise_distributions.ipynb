{
 "cells": [
  {
   "cell_type": "markdown",
   "metadata": {},
   "source": [
    "# Read Noise Distributions\n",
    "\n",
    "<br>Owner: **Emily Phillips Longley** and **Keith Bechtol**\n",
    "<br>Last Verified to Run: **2018-11-14**\n",
    "<br>Verified Stack Release: **w_2018_45**\n",
    "\n",
    "See examples in the eotest:\n",
    "* [read_noise.py](https://github.com/lsst-camera-dh/eotest/blob/master/python/lsst/eotest/sensor/read_noise.py)\n",
    "* [total_noise_histograms.py](https://github.com/lsst-camera-dh/eotest/blob/master/python/lsst/eotest/sensor/total_noise_histograms.py)\n",
    "\n",
    "Our goal is to compute determine the noise distributions for each amplifier. The total noise has contributions from read noise, system noise, and shot noise added in quadrature.\n",
    "\n",
    "$\\sigma_{\\rm total} = \\sqrt{\\sigma_{\\rm read}^{2} + \\sigma_{\\rm system}^{2} + \\sigma_{\\rm shot}^{2}}$\n",
    "\n",
    "**Read noise:**\n",
    "\n",
    "**System noise:**\n",
    "\n",
    "**Total read noise:**\n",
    "\n",
    "To get the gain, use flats. This is an approximation.\n",
    "\n",
    "$\\left< \\frac{(I_1 - I_2)^2}{I_1 + I_2} \\right> = \\frac{2 \\mu g^{-2}}{2 \\mu g^{-1}} = \\frac{1}{g}$\n",
    "\n",
    "For Poisson distribution\n",
    "\n",
    "$\\sigma^2 = \\mu$\n",
    "\n",
    "Use bias frames\n",
    "\n",
    "$(I_1 - I_2)^2 = \\frac{2 \\sigma^2}{g^2}$\n",
    "\n",
    "**Shot noise:** Poisson noise contribution from dark current. The variance is equal to the dark current (electrons per second) multiplied by the exposure time (seconds).\n",
    "\n",
    "Other things to check. Look at adjascent pixels. Correlations. Some will be correlated, some will be uncorrelated.\n",
    "\n",
    "Inputs include the \n",
    "* gain per amp, \n",
    "* dark current array over pixels"
   ]
  },
  {
   "cell_type": "code",
   "execution_count": 1,
   "metadata": {},
   "outputs": [
    {
     "name": "stdout",
     "output_type": "stream",
     "text": [
      "lsst_distrib          16.0-1-g3bbe181+31 \tcurrent w_2018_45 setup\n"
     ]
    }
   ],
   "source": [
    "! eups list -s | grep lsst_distrib"
   ]
  },
  {
   "cell_type": "code",
   "execution_count": 29,
   "metadata": {},
   "outputs": [],
   "source": [
    "%matplotlib inline\n",
    "#%matplotlib notebook\n",
    "\n",
    "# system imports\n",
    "import os\n",
    "import pickle\n",
    "import numpy as np\n",
    "from matplotlib import pylab as plt\n",
    "\n",
    "# LSST stack imports\n",
    "from lsst.daf.persistence import Butler\n",
    "from lsst.ip.isr import IsrTask\n",
    "import lsst.afw.display as afwDisplay\n",
    "\n",
    "# Firefly client imports\n",
    "from firefly_client import FireflyClient\n",
    "from IPython.display import IFrame"
   ]
  },
  {
   "cell_type": "markdown",
   "metadata": {},
   "source": [
    "We will neeed the gains as input."
   ]
  },
  {
   "cell_type": "code",
   "execution_count": 55,
   "metadata": {},
   "outputs": [
    {
     "name": "stdout",
     "output_type": "stream",
     "text": [
      "{'C10': 0.6856116841023682, 'C11': 0.6828370373440649, 'C12': 0.6805327849191469, 'C13': 0.6831846044769826, 'C14': 0.6849149825346197, 'C15': 0.6789655903769061, 'C16': 0.6829431546099424, 'C17': 0.6876745548876412, 'C07': 0.6810742462801476, 'C06': 0.6756125428248168, 'C05': 0.6789986278561932, 'C04': 0.6769254142894018, 'C03': 0.6782587666477135, 'C02': 0.6773377949311571, 'C01': 0.6754054168143772, 'C00': 0.6720678721650647}\n"
     ]
    }
   ],
   "source": [
    "reader = open('../examples/gain_detector_2.pkl', 'rb')\n",
    "gain_dict = pickle.load(reader)\n",
    "reader.close()\n",
    "\n",
    "print(gain_dict)"
   ]
  },
  {
   "cell_type": "markdown",
   "metadata": {},
   "source": [
    "Run the ISR task through correction with the master bias."
   ]
  },
  {
   "cell_type": "code",
   "execution_count": 53,
   "metadata": {},
   "outputs": [],
   "source": [
    "isr_config = IsrTask.ConfigClass()\n",
    "\n",
    "isr_config.doDark=False\n",
    "isr_config.doFlat=False\n",
    "isr_config.doFringe=False\n",
    "isr_config.doDefect=False\n",
    "isr_config.doAddDistortionModel=False\n",
    "isr_config.doLinearize=False\n",
    "\n",
    "isr_bias = IsrTask(config=isr_config)\n",
    "\n",
    "#isr_config.toDict()"
   ]
  },
  {
   "cell_type": "markdown",
   "metadata": {},
   "source": [
    "Alternative ISR configuration to run the ISR task through CCD assembly. This includes overscan subtraction."
   ]
  },
  {
   "cell_type": "code",
   "execution_count": 4,
   "metadata": {},
   "outputs": [],
   "source": [
    "isr_config = IsrTask.ConfigClass()\n",
    "\n",
    "isr_config.doBias=False\n",
    "isr_config.doDark=False\n",
    "isr_config.doFlat=False\n",
    "isr_config.doFringe=False\n",
    "isr_config.doDefect=False\n",
    "isr_config.doAddDistortionModel=False\n",
    "isr_config.doLinearize=False\n",
    "\n",
    "isr_assemble = IsrTask(config=isr_config)"
   ]
  },
  {
   "cell_type": "code",
   "execution_count": 5,
   "metadata": {},
   "outputs": [
    {
     "data": {
      "text/plain": [
       "['BIAS', 'DARK', 'FE55', 'FLAT', 'fluxcalib', 'PPUMP']"
      ]
     },
     "execution_count": 5,
     "metadata": {},
     "output_type": "execute_result"
    }
   ],
   "source": [
    "# Instantiate butler and print out what types of raw exposures exist in this data repository\n",
    "BOOTCAMP_REPO_DIR = '/project/bootcamp/repo_RTM-007/'\n",
    "butler = Butler(BOOTCAMP_REPO_DIR)\n",
    "butler.queryMetadata('raw', ['imageType'])"
   ]
  },
  {
   "cell_type": "markdown",
   "metadata": {},
   "source": [
    "## Read noise"
   ]
  },
  {
   "cell_type": "code",
   "execution_count": 6,
   "metadata": {},
   "outputs": [
    {
     "name": "stdout",
     "output_type": "stream",
     "text": [
      "[258334360, 258334672, 258334985, 258335297, 258335608, 258338033, 258338346, 258338660, 258338973, 258339284, 258339732, 258339799, 258339867, 258339937, 258340007, 258340077, 258340152, 258340195, 258340236, 258340282, 258340332, 258340383, 258340438, 258340500, 258340568, 258340646, 258340740, 258340850, 258340989, 258341162, 258341382, 258341635, 258341916, 258342229, 258342550, 258342881, 258343221, 258343573, 258343932, 258344308, 258344701, 258345114, 258345543, 258345990, 258346455, 258346938, 258347437, 258347953, 258348488, 258350158, 258350371, 258350670, 258350693, 258350717, 258350742, 258350767, 258350790, 258350815, 258350838, 258350863, 258350887, 258350911, 258350935, 258350959, 258350984, 258351008, 258351032, 258351057, 258351081, 258351105, 258351130, 258351154, 258351178, 258351202, 258351226, 258351250, 258351292, 258351436, 258351575, 258351712, 258351849, 258351986, 258352118, 258352254, 258352394, 258352528, 258353336, 258353632, 258353884, 258354053, 258354195, 258354305, 258354401, 258354484, 258354565, 258354646, 258354727, 258354810, 258354896, 258354982, 258355067, 258355156, 258355251, 258355347, 258355452, 258355562, 258355673, 258355815, 258355952, 258356005, 258356167, 258356290, 258356393, 258356477, 258356547, 258356648, 258356714, 258356815, 258356975, 258357285, 258357597, 258357908]\n"
     ]
    }
   ],
   "source": [
    "# Start by identifying one bias frame\n",
    "visits = butler.queryMetadata('raw', ['visit'], dataId={'imageType': 'BIAS'})\n",
    "print(visits)"
   ]
  },
  {
   "cell_type": "code",
   "execution_count": 7,
   "metadata": {},
   "outputs": [
    {
     "name": "stdout",
     "output_type": "stream",
     "text": [
      "{'visit': 258334360, 'detector': 2}\n"
     ]
    }
   ],
   "source": [
    "dId = dict(visit=visits[0], detector=2) # Note that detector is a required keyword\n",
    "print(dId)"
   ]
  },
  {
   "cell_type": "code",
   "execution_count": 16,
   "metadata": {},
   "outputs": [],
   "source": [
    "raw = butler.get('raw', dId)\n",
    "raw_assemble = raw.clone() # We are worried that there is modify in place\n",
    "raw_bias = raw.clone()\n",
    "\n",
    "# Show metadata for this frame\n",
    "# print(raw.getMetadata())\n",
    "\n",
    "# Show the detector name\n",
    "# raw.getDetector().getName()"
   ]
  },
  {
   "cell_type": "code",
   "execution_count": 17,
   "metadata": {},
   "outputs": [],
   "source": [
    "# Get the corresponding master bias and master dark\n",
    "bias = butler.get('bias', dId)\n",
    "dark = butler.get('dark', dId)"
   ]
  },
  {
   "cell_type": "code",
   "execution_count": 18,
   "metadata": {},
   "outputs": [],
   "source": [
    "result_assemble = isr_assemble.run(raw_assemble)\n",
    "result_bias = isr_bias.run(raw_bias, bias=bias)"
   ]
  },
  {
   "cell_type": "code",
   "execution_count": 19,
   "metadata": {},
   "outputs": [
    {
     "name": "stdout",
     "output_type": "stream",
     "text": [
      "7.5743413\n",
      "7.0380545\n",
      "(4004, 4096)\n",
      "(4004, 4096)\n"
     ]
    },
    {
     "data": {
      "text/plain": [
       "<matplotlib.legend.Legend at 0x7f23c54a4160>"
      ]
     },
     "execution_count": 19,
     "metadata": {},
     "output_type": "execute_result"
    },
    {
     "data": {
      "image/png": "[encoded data removed]",
      "text/plain": [
       "<Figure size 432x288 with 1 Axes>"
      ]
     },
     "metadata": {
      "needs_background": "light"
     },
     "output_type": "display_data"
    }
   ],
   "source": [
    "raw_image = raw.getMaskedImage().getImage().getArray()\n",
    "assemble_corrected_image = result_assemble.exposure.getMaskedImage().getImage().getArray()\n",
    "bias_corrected_image = result_bias.exposure.getMaskedImage().getImage().getArray()\n",
    "master_bias_image = bias.getMaskedImage().getImage().getArray()\n",
    "\n",
    "print(np.std(assemble_corrected_image))\n",
    "print(np.std(bias_corrected_image))\n",
    "print(assemble_corrected_image.shape)\n",
    "print(bias_corrected_image.shape)\n",
    "\n",
    "bins = np.linspace(-30, 30, 201)\n",
    "plt.figure()\n",
    "plt.hist(master_bias_image.flatten(), bins=bins, alpha=0.5, label='Master Bias')\n",
    "plt.hist(assemble_corrected_image.flatten(), bins=bins, alpha=0.5, label='Assembled')\n",
    "plt.hist(bias_corrected_image.flatten(), bins=bins, alpha=0.5, label='Bias Corrected')\n",
    "plt.legend(loc='upper right')"
   ]
  },
  {
   "cell_type": "code",
   "execution_count": null,
   "metadata": {},
   "outputs": [],
   "source": [
    "plt.figure()\n",
    "plt.imshow(raw_image)\n",
    "plt.colorbar()"
   ]
  },
  {
   "cell_type": "code",
   "execution_count": 27,
   "metadata": {},
   "outputs": [
    {
     "data": {
      "image/png": "[encoded data removed]",
      "text/plain": [
       "<Figure size 432x288 with 1 Axes>"
      ]
     },
     "metadata": {
      "needs_background": "light"
     },
     "output_type": "display_data"
    }
   ],
   "source": [
    "#afw_display = afwDisplay.getDisplay(frame=1, \n",
    "#                                    name=my_channel)\n",
    "#afw_display.mtv(result.exposure)\n",
    "\n",
    "afwDisplay.setDefaultBackend('matplotlib')\n",
    "my_display = afwDisplay.Display()\n",
    "my_display.scale(\"asinh\", \"zscale\")\n",
    "my_display.mtv(raw.getMaskedImage()) # Plot the raw image\n",
    "#my_display.mtv(result_assemble.exposure) # Plot the CCD assembled, overscan subtracted image\n",
    "#my_display.mtv(result_bias.exposure) # Plot the master bias corrected image\n",
    "#my_display.mtv(bias.getMaskedImage()) # Plot the master bias"
   ]
  },
  {
   "cell_type": "code",
   "execution_count": null,
   "metadata": {},
   "outputs": [],
   "source": [
    "my_channel = '{}_test_channel'.format(os.environ['USER'])\n",
    "server = 'https://lsst-lspdev.ncsa.illinois.edu'\n",
    "\n",
    "ff='{}/firefly/slate.html?__wsch={}'.format(server, my_channel)\n",
    "IFrame(ff,800,600)"
   ]
  },
  {
   "cell_type": "code",
   "execution_count": null,
   "metadata": {},
   "outputs": [],
   "source": [
    "afwDisplay.setDefaultBackend('firefly')\n",
    "afw_display = afwDisplay.getDisplay(frame=1, \n",
    "                                    name=my_channel)"
   ]
  },
  {
   "cell_type": "code",
   "execution_count": null,
   "metadata": {},
   "outputs": [],
   "source": [
    "afw_display.mtv(result_assemble.exposure)\n",
    "#afw_display.mtv(bias.getMaskedImage())"
   ]
  },
  {
   "cell_type": "markdown",
   "metadata": {},
   "source": [
    "---"
   ]
  },
  {
   "cell_type": "code",
   "execution_count": null,
   "metadata": {},
   "outputs": [],
   "source": [
    "butler.queryMetadata('raw', ['detector', 'detectorName'])"
   ]
  },
  {
   "cell_type": "code",
   "execution_count": null,
   "metadata": {},
   "outputs": [],
   "source": [
    "\n",
    "\n",
    "butler.getKeys('bias')\n",
    "butler.queryMetadata('bias', ['detector'])\n",
    "#bias = butler.queryMetadata('bias', ['visit'])\n",
    "#print(bias)"
   ]
  },
  {
   "cell_type": "code",
   "execution_count": 44,
   "metadata": {},
   "outputs": [],
   "source": [
    "dId = dict(visit=visits[0], detector=2)\n",
    "raw = butler.get('raw', dId, visit=258345990)"
   ]
  },
  {
   "cell_type": "code",
   "execution_count": 52,
   "metadata": {},
   "outputs": [
    {
     "name": "stdout",
     "output_type": "stream",
     "text": [
      "C10 7.0 1.7\n",
      "C11 7.0 1.7\n",
      "C12 7.0 1.7\n",
      "C13 7.0 1.7\n",
      "C14 7.0 1.7\n",
      "C15 7.0 1.7\n",
      "C16 7.0 1.7\n",
      "C17 7.0 1.7\n",
      "C07 7.0 1.7\n",
      "C06 7.0 1.7\n",
      "C05 7.0 1.7\n",
      "C04 7.0 1.7\n",
      "C03 7.0 1.7\n",
      "C02 7.0 1.7\n",
      "C01 7.0 1.7\n",
      "C00 7.0 1.7\n"
     ]
    }
   ],
   "source": [
    "dark = butler.get('dark', dId)\n",
    "dark.getMetadata().toDict()\n",
    "\n",
    "for a in raw.getDetector():\n",
    "    print(a.getName(), a.getReadNoise(), a.getGain())\n",
    "    \n",
    "#raw.getDetector().getAmpInfoCatalog().getReadNoiseKey()"
   ]
  },
  {
   "cell_type": "code",
   "execution_count": null,
   "metadata": {},
   "outputs": [],
   "source": [
    "result = isr.run(raw, bias=bias)"
   ]
  },
  {
   "cell_type": "markdown",
   "metadata": {},
   "source": [
    "## Creating master dark"
   ]
  },
  {
   "cell_type": "markdown",
   "metadata": {},
   "source": [
    "---"
   ]
  },
  {
   "cell_type": "code",
   "execution_count": null,
   "metadata": {},
   "outputs": [],
   "source": [
    "%matplotlib inline\n",
    "\n",
    "# system imports\n",
    "from matplotlib import pylab as plt\n",
    "import numpy\n",
    "import os\n",
    "\n",
    "# LSST stack imports\n",
    "from lsst.daf.persistence import Butler\n",
    "import lsst.afw.display as afwDisplay"
   ]
  },
  {
   "cell_type": "code",
   "execution_count": null,
   "metadata": {},
   "outputs": [],
   "source": [
    "import matplotlib\n",
    "matplotlib.rcParams['figure.dpi'] = 120"
   ]
  },
  {
   "cell_type": "markdown",
   "metadata": {},
   "source": [
    "This notebook requires the package `obs_lsst`, which is not currently distributed in the LSP. If the following cell raises an exception, see the instructions in `welcome_to_FE55.ipynb`."
   ]
  },
  {
   "cell_type": "code",
   "execution_count": null,
   "metadata": {},
   "outputs": [],
   "source": [
    "import eups\n",
    "assert eups.getSetupVersion(\"obs_lsst\")"
   ]
  },
  {
   "cell_type": "code",
   "execution_count": null,
   "metadata": {},
   "outputs": [],
   "source": [
    "my_channel = '{}_test_channel'.format(os.environ['USER'])\n",
    "server = 'https://lsst-lspdev.ncsa.illinois.edu'\n",
    "\n",
    "\n",
    "afwDisplay.setDefaultBackend('firefly')\n",
    "afw_display = afwDisplay.getDisplay(frame=1, \n",
    "                                    name=my_channel)"
   ]
  },
  {
   "cell_type": "code",
   "execution_count": null,
   "metadata": {},
   "outputs": [],
   "source": [
    "BOOTCAMP_REPO_DIR= '/project/bootcamp/repo_RTM-007/'\n",
    "butler = Butler(BOOTCAMP_REPO_DIR)\n",
    "visits = butler.queryMetadata('raw', ['visit'], dataId={'imageType': 'FLAT', 'testType': 'FLAT'})"
   ]
  },
  {
   "cell_type": "code",
   "execution_count": null,
   "metadata": {},
   "outputs": [],
   "source": [
    "dId = {'visit': visits[0], 'detector': 2}\n",
    "raw = butler.get('raw', **dId)"
   ]
  },
  {
   "cell_type": "code",
   "execution_count": null,
   "metadata": {},
   "outputs": [],
   "source": [
    "detector = raw.getDetector()"
   ]
  },
  {
   "cell_type": "code",
   "execution_count": null,
   "metadata": {},
   "outputs": [],
   "source": [
    "afw_display.mtv(raw)"
   ]
  },
  {
   "cell_type": "code",
   "execution_count": null,
   "metadata": {},
   "outputs": [],
   "source": [
    "# for the geometry we've chosen, the y=0 amps are in the top\n",
    "# Normally the read corner would tell you this, but there is currently a bug\n",
    "flipXY = {'C00':(False, True),\n",
    "          'C01':(False, True),\n",
    "          'C02':(False, True),\n",
    "          'C03':(False, True),\n",
    "          'C04':(False, True),\n",
    "          'C05':(False, True),\n",
    "          'C06':(False, True),\n",
    "          'C07':(False, True),\n",
    "          'C10':(True, False),\n",
    "          'C11':(True, False),\n",
    "          'C12':(True, False),\n",
    "          'C13':(True, False),\n",
    "          'C14':(True, False),\n",
    "          'C15':(True, False),\n",
    "          'C16':(True, False),\n",
    "          'C17':(True, False)}"
   ]
  },
  {
   "cell_type": "code",
   "execution_count": null,
   "metadata": {},
   "outputs": [],
   "source": [
    "overscans = {}\n",
    "for key, value in flipXY.items():\n",
    "    bbox = detector[key].getRawHorizontalOverscanBBox()\n",
    "    overscans[key] = raw[bbox].getMaskedImage().getImage().clone() # since these are views into the pixels, we want a copy so we don't mess with the pixels in the original image"
   ]
  },
  {
   "cell_type": "code",
   "execution_count": null,
   "metadata": {},
   "outputs": [],
   "source": [
    "for channel_name, flips in flipXY.items():\n",
    "    # get all the overscans in the same orientation and plot the mean along the y-axis\n",
    "    arr = overscans[channel_name].getArray() # pull out numpy array\n",
    "    oscan = numpy.mean(arr)\n",
    "    fx, fy = flips\n",
    "    if fx:\n",
    "        arr = numpy.flip(arr, axis=1)\n",
    "    if fy:\n",
    "        arr = numpy.flip(arr, axis=0)\n",
    "    # aggregate along y-axis.  It's ok to use array math here since we don't have any masks to begin with.\n",
    "    mean = numpy.mean(arr, axis=0)\n",
    "    plt.plot(mean-oscan, label=channel_name)\n",
    "\n",
    "plt.xlabel('pixel index')\n",
    "plt.ylabel('mean counts along parallel direction')\n",
    "plt.xlim(0, 65)\n",
    "plt.ylim(-0.5, 0.5)\n",
    "plt.legend()"
   ]
  },
  {
   "cell_type": "code",
   "execution_count": null,
   "metadata": {},
   "outputs": [],
   "source": []
  }
 ],
 "metadata": {
  "kernelspec": {
   "display_name": "LSST",
   "language": "python",
   "name": "lsst"
  },
  "language_info": {
   "codemirror_mode": {
    "name": "ipython",
    "version": 3
   },
   "file_extension": ".py",
   "mimetype": "text/x-python",
   "name": "python",
   "nbconvert_exporter": "python",
   "pygments_lexer": "ipython3",
   "version": "3.6.6"
  }
 },
 "nbformat": 4,
 "nbformat_minor": 2
}
