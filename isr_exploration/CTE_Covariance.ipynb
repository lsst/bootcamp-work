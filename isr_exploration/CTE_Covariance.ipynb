{
 "cells": [
  {
   "cell_type": "markdown",
   "metadata": {},
   "source": [
    "# Calculate CTE Covariance"
   ]
  },
  {
   "cell_type": "code",
   "execution_count": 1,
   "metadata": {},
   "outputs": [],
   "source": [
    "%matplotlib inline\n",
    "\n",
    "# system imports\n",
    "from matplotlib import pylab as plt\n",
    "import numpy\n",
    "import os\n",
    "\n",
    "# LSST stack imports\n",
    "from lsst.daf.persistence import Butler\n",
    "import lsst.afw.display as afwDisplay\n",
    "from lsst.ip.isr import IsrTask\n",
    "import lsst.afw.geom as afwGeom\n",
    "import lsst.afw.math as afwMath\n",
    "\n",
    "\n",
    "# Firefly client imports\n",
    "from IPython.display import IFrame"
   ]
  },
  {
   "cell_type": "code",
   "execution_count": 2,
   "metadata": {},
   "outputs": [],
   "source": [
    "import matplotlib\n",
    "matplotlib.rcParams['figure.dpi'] = 120"
   ]
  },
  {
   "cell_type": "markdown",
   "metadata": {},
   "source": [
    "### Set up the config for the ISR task.  This essentially turns off all processing other than overscan and bias correction."
   ]
  },
  {
   "cell_type": "code",
   "execution_count": 3,
   "metadata": {},
   "outputs": [],
   "source": [
    "isr_config = IsrTask.ConfigClass()\n",
    "\n",
    "isr_config.doDark=False\n",
    "isr_config.doFlat=False\n",
    "isr_config.doFringe=False\n",
    "isr_config.doDefect=False\n",
    "isr_config.doAddDistortionModel=False\n",
    "isr_config.doLinearize=False\n",
    "isr_config.doSaturationInterpolation=False"
   ]
  },
  {
   "cell_type": "markdown",
   "metadata": {},
   "source": [
    "### Construct the `IsrTask` with the above configuration"
   ]
  },
  {
   "cell_type": "code",
   "execution_count": 4,
   "metadata": {},
   "outputs": [],
   "source": [
    "isr = IsrTask(config=isr_config)"
   ]
  },
  {
   "cell_type": "code",
   "execution_count": 5,
   "metadata": {},
   "outputs": [],
   "source": [
    "BOOTCAMP_REPO_DIR = '/project/bootcamp/repo_RTM-007/'\n",
    "butler = Butler(BOOTCAMP_REPO_DIR)\n",
    "visits = butler.queryMetadata('raw', ['visit'], dataId={'imageType': 'FLAT', 'testType': 'SFLAT_500'})"
   ]
  },
  {
   "cell_type": "code",
   "execution_count": 6,
   "metadata": {},
   "outputs": [
    {
     "name": "stdout",
     "output_type": "stream",
     "text": [
      "Mismatched exptimes\n",
      "35\n",
      "34\n"
     ]
    }
   ],
   "source": [
    "# Handle non-even series of images\n",
    "# Tried to do something more clever, but not fully worked through yet\n",
    "#etimes = []\n",
    "#for visit in visits:\n",
    "#    dId = {'visit': visit, 'detector': 2}\n",
    "#    raw = butler.get('raw', **dId)\n",
    "#    etimes.append(raw.getInfo().getVisitInfo().getExposureTime())\n",
    "#exposure_times = numpy.array(etimes)\n",
    "#unique_times, unique_indicies = numpy.unique(exposure_times, return_index=True)\n",
    "#print(unique_indicies)\n",
    "#indicies = unique_indicies.tolist() + [exposure_times.size - 1]\n",
    "\n",
    "# Brute force for RTM-007, but inaccurate for all cases\n",
    "bad_visits = []\n",
    "for visit1, visit2 in zip(visits[:-1:2], visits[1::2]):\n",
    "    dId = {'visit': visit1, 'detector': 2}\n",
    "    raw1 = butler.get('raw', **dId)\n",
    "    time1 = raw1.getInfo().getVisitInfo().getExposureTime()\n",
    "    \n",
    "    # Get ISR data for second image\n",
    "    dId = {'visit': visit2, 'detector': 2}\n",
    "    raw2 = butler.get('raw', **dId)\n",
    "    time2 = raw2.getInfo().getVisitInfo().getExposureTime()\n",
    "    if abs(time1 - time2) > 0.01:\n",
    "        print(\"Mismatched exptimes\")\n",
    "        bad_visits.append(visit1)\n",
    "\n",
    "print(len(visits))\n",
    "for bad_visit in bad_visits:\n",
    "    visits.remove(bad_visit)\n",
    "print(len(visits))"
   ]
  },
  {
   "cell_type": "code",
   "execution_count": 8,
   "metadata": {},
   "outputs": [
    {
     "name": "stdout",
     "output_type": "stream",
     "text": [
      "(minimum=(1536, 0), maximum=(2047, 2001))\n",
      "1050.132356432354 1061.287303008515\n"
     ]
    }
   ],
   "source": [
    "gain = {}\n",
    "exp_time = {}\n",
    "\n",
    "visits = visits[0:2]\n",
    "\n",
    "i = 1\n",
    "for visit1, visit2 in zip(visits[:-1:2], visits[1::2]): # loop over pairs of images\n",
    "    # Get ISR data for first image\n",
    "    dId = {'visit': visit1, 'detector': 2}\n",
    "    raw1 = butler.get('raw', **dId)\n",
    "    bias1 = butler.get('bias', **dId)\n",
    "    time1 = raw1.getInfo().getVisitInfo().getExposureTime()\n",
    "    \n",
    "    # Get ISR data for second image\n",
    "    dId = {'visit': visit2, 'detector': 2}\n",
    "    raw2 = butler.get('raw', **dId)\n",
    "    bias2 = butler.get('bias', **dId)\n",
    "    time2 = raw2.getInfo().getVisitInfo().getExposureTime()\n",
    "    if abs(time1 - time2) > 0.01:\n",
    "        print(\"Mismatched exptimes\")\n",
    "        continue\n",
    "    \n",
    "    # run ISR on both images\n",
    "    result1 = isr.run(raw1, bias=bias1)\n",
    "    result2 = isr.run(raw2, bias=bias2)\n",
    "    \n",
    "    detector = result1.exposure.getDetector()\n",
    "    amp = detector[3]\n",
    "\n",
    "    sub_im1 = result1.exposure.getMaskedImage()[amp.getBBox()]\n",
    "    #arr1 = sub_im1.getImage().getArray()\n",
    "    sub_im2 = result2.exposure.getMaskedImage()[amp.getBBox()]\n",
    "    #arr2 = sub_im2.getImage().getArray()\n",
    "    #print(sub_im1.getImage().getArray().shape)\n",
    "    \n",
    "    stats_im1 = afwMath.makeStatistics(sub_im1, afwMath.MEDIAN)\n",
    "    stats_im2 = afwMath.makeStatistics(sub_im2, afwMath.MEDIAN)\n",
    "    \n",
    "    avg_flux1 = stats_im1.getValue(afwMath.MEDIAN)\n",
    "    avg_flux2 = stats_im2.getValue(afwMath.MEDIAN)\n",
    "    print(avg_flux1, avg_flux2)\n",
    "    \n",
    "    avg_flux = (avg_flux1 + avg_flux2) / 2\n",
    "    \n",
    "    sub_im1 /= avg_flux1\n",
    "    sub_im2 /= avg_flux2\n",
    "    \n",
    "    # From RHL, 1/g = <(I1-I2)**2/(I1+I2)>\n",
    "    diff_im = sub_im1.clone()\n",
    "    diff_im -= sub_im2\n",
    "    \n",
    "    diff_im /= avg_flux\n",
    "    \n",
    "    sum_im = sub_im1.clone()\n",
    "    sum_im += sub_im2\n",
    "    \n",
    "    diff_im *= diff_im\n",
    "    diff_im /= sum_im"
   ]
  },
  {
   "cell_type": "code",
   "execution_count": null,
   "metadata": {},
   "outputs": [],
   "source": []
  }
 ],
 "metadata": {
  "kernelspec": {
   "display_name": "LSST",
   "language": "python",
   "name": "lsst"
  },
  "language_info": {
   "codemirror_mode": {
    "name": "ipython",
    "version": 3
   },
   "file_extension": ".py",
   "mimetype": "text/x-python",
   "name": "python",
   "nbconvert_exporter": "python",
   "pygments_lexer": "ipython3",
   "version": "3.6.6"
  }
 },
 "nbformat": 4,
 "nbformat_minor": 2
}
