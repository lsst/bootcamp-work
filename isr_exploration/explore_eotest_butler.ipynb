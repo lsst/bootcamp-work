{
 "cells": [
  {
   "cell_type": "markdown",
   "metadata": {},
   "source": [
    "Thie notebook explores a Butler data repository and retrieve relevant eotest results. The `obs_lsst` package is required."
   ]
  },
  {
   "cell_type": "code",
   "execution_count": null,
   "metadata": {},
   "outputs": [],
   "source": [
    "! eups list -s lsst_distrib"
   ]
  },
  {
   "cell_type": "code",
   "execution_count": null,
   "metadata": {},
   "outputs": [],
   "source": [
    "import eups\n",
    "assert eups.getSetupVersion(\"lsst_distrib\")\n",
    "print(eups.getSetupVersion(\"obs_lsst\"))"
   ]
  },
  {
   "cell_type": "code",
   "execution_count": null,
   "metadata": {},
   "outputs": [],
   "source": [
    "import lsst.afw.detection as afwDetection\n",
    "from lsst.daf.persistence import Butler\n",
    "\n",
    "import matplotlib.pyplot as plt\n",
    "import numpy"
   ]
  },
  {
   "cell_type": "code",
   "execution_count": null,
   "metadata": {},
   "outputs": [],
   "source": [
    "BOOTCAMP_REPO_DIR= '/project/bootcamp/repo_RTM-007/'\n",
    "butler = Butler(BOOTCAMP_REPO_DIR)\n",
    "# Look up what runs are available\n",
    "runs = butler.queryMetadata('raw', ['run'], dataId={'imageType': 'FE55', 'testType': 'FE55'})\n",
    "print(\"Available runs: \", runs)\n",
    "# Look up what visits are available in this run\n",
    "print(\"Available visits: \", butler.queryMetadata('raw', ['visit'], dataId={'imageType': 'FE55', 'testType': 'FE55', 'run': '7086' }))\n",
    "\n",
    "# The old obs_lsst had a bug, so the dataId 'detector' was used instaed of 'detectorName'\n",
    "# As of Nov 15, the new master of obs_lsst allow us to use `detectorName`\n",
    "dId = {'visit': 258334666, 'detectorName': 'S00'}\n",
    "raw = butler.get('raw', **dId)\n",
    "\n",
    "# The following does not work at this moment; bug DM-16553 has been filed\n",
    "#bias = butler.get('bias', visit=258334666, detectorName='S00')\n",
    "# Use 'detector' before the bug is fixed\n",
    "bias = butler.get('bias', visit=258334666, detector=0)\n",
    "\n",
    "# One way to know which file this is:\n",
    "#print(butler.get('raw_filename', **dId))"
   ]
  },
  {
   "cell_type": "code",
   "execution_count": null,
   "metadata": {},
   "outputs": [],
   "source": [
    "# Alternatively, one can use butler subset feature \n",
    "# To match the same queryMetadata condition in the above cell\n",
    "dataId = {'run': '7086', 'detectorName': 'S00', 'imageType': 'FE55', 'testType': 'FE55'}\n",
    "subset = butler.subset(\"raw\", **dataId)\n",
    "print(len(subset))\n",
    "\n",
    "n = 0\n",
    "for ref in subset:\n",
    "    print(ref.get(\"raw\"))\n",
    "    print(ref.dataId)\n",
    "    # or more complicated operation can be done here\n",
    "    n += 1\n",
    "    if n > 3:\n",
    "        break"
   ]
  },
  {
   "cell_type": "code",
   "execution_count": null,
   "metadata": {},
   "outputs": [],
   "source": [
    "# Another way to get the detector name\n",
    "raw.getDetector().getName()"
   ]
  },
  {
   "cell_type": "code",
   "execution_count": null,
   "metadata": {},
   "outputs": [],
   "source": [
    "raw.getDetector().getSerial()"
   ]
  },
  {
   "cell_type": "code",
   "execution_count": null,
   "metadata": {},
   "outputs": [],
   "source": [
    "# hard-coded gains in the camera definition inside obs_lsst\n",
    "gains = [ccd.getGain() for ccd in raw.getDetector()]\n",
    "print(gains)"
   ]
  },
  {
   "cell_type": "markdown",
   "metadata": {},
   "source": [
    "To get EO test results from database, install the following packages to your area:\n",
    "\n",
    "```\n",
    "git clone https://github.com/lsst-camera-dh/eTraveler-clientAPI.git\n",
    "git clone https://github.com/lsst-camera-dh/datacat-utilities.git \n",
    "cd datacat-utilities\n",
    "git checkout python3\n",
    "```\n",
    "\n",
    "As of Nov 15, one need comment out all imports of `datacat` in `python/DataCatalog.py`; `datacat` is not needed to get the EO test results.\n",
    "\n",
    "\n",
    "edit $HOME/notebooks/.user_setups with:\n",
    "\n",
    "```\n",
    "export PYTHONPATH=$PYTHONPATH:/path/to/eTraveler-clientAPI/python\n",
    "export PYTHONPATH=$PYTHONPATH:/path/to/datacat-utilities/python\n",
    "```"
   ]
  },
  {
   "cell_type": "code",
   "execution_count": null,
   "metadata": {},
   "outputs": [],
   "source": [
    "from get_EO_analysis_results import get_EO_analysis_results\n",
    "from get_EO_analysis_files import get_EO_analysis_files\n",
    "from exploreFocalPlane import exploreFocalPlane\n",
    "from exploreRaft import exploreRaft\n",
    "from eTraveler.clientAPI.connection import Connection"
   ]
  },
  {
   "cell_type": "code",
   "execution_count": null,
   "metadata": {},
   "outputs": [],
   "source": [
    "# Get EO analysis results access results from the eTraveler database\n",
    "g = get_EO_analysis_results(db='Dev')"
   ]
  },
  {
   "cell_type": "code",
   "execution_count": null,
   "metadata": {},
   "outputs": [],
   "source": [
    "# Some examples of getting eotest results\n",
    "raft_list, data = g.get_tests(site_type=\"I&T-Raft\", test_type=\"bright_columns\", run ='5943D')  # get the data for I&T-Raft\n",
    "res = g.get_results(test_type='bright_columns', data=data, device=raft_list[0])  # get the data for a raft\n",
    "\n",
    "raft_list, data = g.get_tests(site_type=\"I&T-Raft\", run ='5943D')\n",
    "res = g.get_all_results(data=data, device=raft_list)\n",
    "res.keys()"
   ]
  },
  {
   "cell_type": "code",
   "execution_count": null,
   "metadata": {},
   "outputs": [],
   "source": [
    "# run numbers ending with 'D' is in the 'Dev' db\n",
    "# run numbers ending without 'D' is in the 'Prod' db\n",
    "g_prod = get_EO_analysis_results(db='Prod')\n",
    "# Here we ask for the same run as the data in the Butler repo\n",
    "raft_list, data = g_prod.get_tests(site_type=\"I&T-Raft\", run ='7086')\n",
    "res = g_prod.get_all_results(data=data, device=raft_list)"
   ]
  },
  {
   "cell_type": "code",
   "execution_count": null,
   "metadata": {},
   "outputs": [],
   "source": [
    "res['gain'].keys()"
   ]
  },
  {
   "cell_type": "markdown",
   "metadata": {},
   "source": [
    "Wait... The ccd names are different from those obtained from `exposure.getDetector().getSerial()`!\n",
    "\n",
    "---> See ChrisW's notebook for more exploration!"
   ]
  },
  {
   "cell_type": "code",
   "execution_count": null,
   "metadata": {},
   "outputs": [],
   "source": [
    "ccd_name = 'E2V-CCD250-260'\n",
    "res['gain'][ccd_name]"
   ]
  },
  {
   "cell_type": "code",
   "execution_count": null,
   "metadata": {},
   "outputs": [],
   "source": [
    "fig, axs = plt.subplots(1, 9, figsize=(20, 10), sharex=True, sharey=True)\n",
    "fig.subplots_adjust(hspace=0, wspace=0)\n",
    "for i, ccd in enumerate(res['gain']):\n",
    "    p = axs[i]\n",
    "    p.set_title(ccd)\n",
    "    p.errorbar(range(1,17),res['gain'][ccd],yerr=res['gain_error'][ccd],color='blue',label='Fe55 Gain', fmt='o')\n",
    "    p.errorbar(range(1,17),res['ptc_gain'][ccd],yerr=res['ptc_gain_error'][ccd],color='red',label='PTC Gain', fmt='o')\n",
    "\n",
    "\n",
    "from matplotlib.lines import Line2D\n",
    "custom_lines = [Line2D([0], [0], color='blue', lw=4),\n",
    "                Line2D([0], [0], color='red', lw=4)]\n",
    "fig.legend(custom_lines, ['Fe55 Gain', 'PTC Gain'])\n",
    "fig.suptitle(str(dId), fontsize=12)\n",
    "fig.savefig(\"plot.png\")"
   ]
  },
  {
   "cell_type": "markdown",
   "metadata": {},
   "source": [
    "### To make a mosaic plot using eotest"
   ]
  },
  {
   "cell_type": "code",
   "execution_count": null,
   "metadata": {},
   "outputs": [],
   "source": [
    "import lsst.eotest.raft as raftTest"
   ]
  },
  {
   "cell_type": "code",
   "execution_count": null,
   "metadata": {},
   "outputs": [],
   "source": [
    "import os\n",
    "import glob"
   ]
  },
  {
   "cell_type": "code",
   "execution_count": null,
   "metadata": {},
   "outputs": [],
   "source": [
    "visit = 258334666"
   ]
  },
  {
   "cell_type": "code",
   "execution_count": null,
   "metadata": {},
   "outputs": [],
   "source": [
    "# Use file names\n",
    "infiles = sorted(glob.glob(os.path.join(\"/project/bootcamp/repo_RTM-007/raw/7086/\",\n",
    "                                        \"*\"+str(visit)+\"*\")))\n",
    "\n",
    "file_dict = {filename.split('-')[-2]: filename for filename in infiles}\n",
    "print(file_dict)"
   ]
  },
  {
   "cell_type": "code",
   "execution_count": null,
   "metadata": {},
   "outputs": [],
   "source": [
    "# Alternatively, use Butler\n",
    "subset = butler.subset(\"raw\", visit=visit)\n",
    "assert(len(subset)==9)\n",
    "file_dict = {ref.dataId['detectorName']: ref.get(\"raw_filename\")[0][:-3] for ref in subset}"
   ]
  },
  {
   "cell_type": "code",
   "execution_count": null,
   "metadata": {},
   "outputs": [],
   "source": [
    "raft_mosaic = raftTest.RaftMosaic(file_dict, bias_subtract=False)\n",
    "raft_mosaic.plot(title='Test pattern')"
   ]
  },
  {
   "cell_type": "markdown",
   "metadata": {},
   "source": []
  }
 ],
 "metadata": {
  "kernelspec": {
   "display_name": "LSST",
   "language": "python",
   "name": "lsst"
  },
  "language_info": {
   "codemirror_mode": {
    "name": "ipython",
    "version": 3
   },
   "file_extension": ".py",
   "mimetype": "text/x-python",
   "name": "python",
   "nbconvert_exporter": "python",
   "pygments_lexer": "ipython3",
   "version": "3.6.6"
  }
 },
 "nbformat": 4,
 "nbformat_minor": 2
}
