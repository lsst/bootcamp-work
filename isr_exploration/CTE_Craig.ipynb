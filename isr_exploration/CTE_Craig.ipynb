{
 "cells": [
  {
   "cell_type": "code",
   "execution_count": 1,
   "metadata": {},
   "outputs": [],
   "source": [
    "%matplotlib inline\n",
    "\n",
    "# system imports\n",
    "from matplotlib import pylab as plt\n",
    "import numpy\n",
    "import os\n",
    "\n",
    "# LSST stack imports\n",
    "from lsst.daf.persistence import Butler\n",
    "import lsst.afw.display as afwDisplay"
   ]
  },
  {
   "cell_type": "code",
   "execution_count": 2,
   "metadata": {},
   "outputs": [],
   "source": [
    "import matplotlib\n",
    "matplotlib.rcParams['figure.dpi'] = 120"
   ]
  },
  {
   "cell_type": "markdown",
   "metadata": {},
   "source": [
    "This notebook requires the package `obs_lsst`, which is not currently distributed in the LSP. If the following cell raises an exception, see the instructions in `welcome_to_FE55.ipynb`."
   ]
  },
  {
   "cell_type": "code",
   "execution_count": 3,
   "metadata": {},
   "outputs": [],
   "source": [
    "import eups\n",
    "assert eups.getSetupVersion(\"obs_lsst\")"
   ]
  },
  {
   "cell_type": "code",
   "execution_count": 4,
   "metadata": {},
   "outputs": [
    {
     "data": {
      "text/html": [
       "Open your web browser to <a href=\"https://lsst-lspdev.ncsa.illinois.edu/firefly//slate.html?__wsch=cslage_test_channel\"\" target=\"_blank\">this link</a>"
      ],
      "text/plain": [
       "<IPython.core.display.HTML object>"
      ]
     },
     "metadata": {},
     "output_type": "display_data"
    }
   ],
   "source": [
    "my_channel = '{}_test_channel'.format(os.environ['USER'])\n",
    "server = 'https://lsst-lspdev.ncsa.illinois.edu'\n",
    "\n",
    "\n",
    "afwDisplay.setDefaultBackend('firefly')\n",
    "afw_display = afwDisplay.getDisplay(frame=1, \n",
    "                                    name=my_channel)"
   ]
  },
  {
   "cell_type": "code",
   "execution_count": 130,
   "metadata": {},
   "outputs": [],
   "source": [
    "BOOTCAMP_REPO_DIR= '/project/bootcamp/repo_RTM-007/'\n",
    "butler = Butler(BOOTCAMP_REPO_DIR)\n",
    "visits = butler.queryMetadata('raw', ['visit'], dataId={'imageType': 'FLAT', 'testType': 'FLAT'})"
   ]
  },
  {
   "cell_type": "code",
   "execution_count": 124,
   "metadata": {},
   "outputs": [],
   "source": [
    "BOOTCAMP_REPO_DIR= '/project/bootcamp/repo_RTM-011/'\n",
    "butler = Butler(BOOTCAMP_REPO_DIR)\n",
    "visits = butler.queryMetadata('raw', ['visit'], dataId={'imageType': 'FLAT', 'testType': 'FLAT'})"
   ]
  },
  {
   "cell_type": "code",
   "execution_count": 82,
   "metadata": {},
   "outputs": [
    {
     "name": "stdout",
     "output_type": "stream",
     "text": [
      "78\n"
     ]
    }
   ],
   "source": [
    "print(len(visits))"
   ]
  },
  {
   "cell_type": "code",
   "execution_count": 131,
   "metadata": {},
   "outputs": [],
   "source": [
    "dId = {'visit': visits[50], 'detector': 2}\n",
    "raw = butler.get('raw', **dId)\n",
    "bias = butler.get('bias', **dId)"
   ]
  },
  {
   "cell_type": "code",
   "execution_count": 132,
   "metadata": {},
   "outputs": [],
   "source": [
    "detector = raw.getDetector()"
   ]
  },
  {
   "cell_type": "code",
   "execution_count": 8,
   "metadata": {},
   "outputs": [],
   "source": [
    "afw_display.mtv(raw)"
   ]
  },
  {
   "cell_type": "code",
   "execution_count": 119,
   "metadata": {},
   "outputs": [],
   "source": [
    "# for the geometry we've chosen, the y=0 amps are in the top\n",
    "# Normally the read corner would tell you this, but there is currently a bug\n",
    "flipXY = {'C00':(False, True),\n",
    "          'C01':(False, True),\n",
    "          'C02':(False, True),\n",
    "          'C03':(False, True),\n",
    "          'C04':(False, True),\n",
    "          'C05':(False, True),\n",
    "          'C06':(False, True),\n",
    "          'C07':(False, True),\n",
    "          'C10':(True, False),\n",
    "          'C11':(True, False),\n",
    "          'C12':(True, False),\n",
    "          'C13':(True, False),\n",
    "          'C14':(True, False),\n",
    "          'C15':(True, False),\n",
    "          'C16':(True, False),\n",
    "          'C17':(True, False)}"
   ]
  },
  {
   "cell_type": "code",
   "execution_count": 32,
   "metadata": {},
   "outputs": [],
   "source": [
    "overscans = {}\n",
    "for key, value in flipXY.items():\n",
    "    bbox = detector[key].getRawHorizontalOverscanBBox()\n",
    "    overscans[key] = raw[bbox].getMaskedImage().getImage().clone() # since these are views into the pixels, we want a copy so we don't mess with the pixels in the original image"
   ]
  },
  {
   "cell_type": "code",
   "execution_count": 33,
   "metadata": {},
   "outputs": [
    {
     "name": "stdout",
     "output_type": "stream",
     "text": [
      "C00 (minimum=(522, 2094), maximum=(575, 4095)) (minimum=(10, 2094), maximum=(521, 4095))\n",
      "C01 (minimum=(1098, 2094), maximum=(1151, 4095)) (minimum=(586, 2094), maximum=(1097, 4095))\n",
      "C02 (minimum=(1674, 2094), maximum=(1727, 4095)) (minimum=(1162, 2094), maximum=(1673, 4095))\n",
      "C03 (minimum=(2250, 2094), maximum=(2303, 4095)) (minimum=(1738, 2094), maximum=(2249, 4095))\n",
      "C04 (minimum=(2826, 2094), maximum=(2879, 4095)) (minimum=(2314, 2094), maximum=(2825, 4095))\n",
      "C05 (minimum=(3402, 2094), maximum=(3455, 4095)) (minimum=(2890, 2094), maximum=(3401, 4095))\n",
      "C06 (minimum=(3978, 2094), maximum=(4031, 4095)) (minimum=(3466, 2094), maximum=(3977, 4095))\n",
      "C07 (minimum=(4554, 2094), maximum=(4607, 4095)) (minimum=(4042, 2094), maximum=(4553, 4095))\n"
     ]
    }
   ],
   "source": [
    "overscans = {}\n",
    "for key, value in list(flipXY.items())[0:8]:\n",
    "    bbox = detector[key].getRawHorizontalOverscanBBox()\n",
    "    data_bbox = detector[key].getRawDataBBox()\n",
    "    print(key, bbox, data_bbox)"
   ]
  },
  {
   "cell_type": "code",
   "execution_count": 133,
   "metadata": {},
   "outputs": [],
   "source": [
    "from lsst.geom import Point2I, Extent2I, Box2I\n",
    "new_overscans = {}\n",
    "for key, value in list(flipXY.items())[0:8]:\n",
    "    bbox = detector[key].getRawHorizontalOverscanBBox()\n",
    "    new_point = Point2I(bbox.getMinX()-3, bbox.getMinY())\n",
    "    new_extent = bbox.getDimensions()\n",
    "    new_bbox = Box2I(new_point, new_extent)\n",
    "    new_overscans[key] = raw[new_bbox].getMaskedImage().getImage().clone()\n",
    "\n"
   ]
  },
  {
   "cell_type": "code",
   "execution_count": 136,
   "metadata": {},
   "outputs": [
    {
     "name": "stdout",
     "output_type": "stream",
     "text": [
      "(2002, 54)\n",
      "(2002, 54)\n",
      "(2002, 54)\n",
      "(2002, 54)\n",
      "(2002, 54)\n",
      "(2002, 54)\n"
     ]
    },
    {
     "data": {
      "text/plain": [
       "<matplotlib.legend.Legend at 0x7f1cf63f43c8>"
      ]
     },
     "execution_count": 136,
     "metadata": {},
     "output_type": "execute_result"
    },
    {
     "data": {
      "image/png": "[encoded data removed]",
      "text/plain": [
       "<Figure size 720x480 with 1 Axes>"
      ]
     },
     "metadata": {
      "needs_background": "light"
     },
     "output_type": "display_data"
    }
   ],
   "source": [
    "for channel_name, flips in list(flipXY.items())[0:6]:\n",
    "    # get all the overscans in the same orientation and plot the mean along the y-axis\n",
    "    arr = new_overscans[channel_name].getArray() # pull out numpy array\n",
    "    oscan = numpy.mean(arr[:,30:-1],axis=1)\n",
    "    oscan = oscan.reshape(2002,1)\n",
    "    arr_oscan = arr-oscan\n",
    "    print(arr_oscan.shape)\n",
    "    fx, fy = flips\n",
    "    if fx:\n",
    "        arr = numpy.flip(arr, axis=1)\n",
    "    if fy:\n",
    "        arr = numpy.flip(arr, axis=0)\n",
    "    # aggregate along y-axis.  It's ok to use array math here since we don't have any masks to begin with.\n",
    "    oscan_mean = numpy.clip(numpy.mean(arr_oscan, axis=0),0.01,1.0E6)\n",
    "    plt.plot(oscan_mean,label=channel_name)\n",
    "\n",
    "plt.xlabel('pixel index')\n",
    "plt.ylabel('mean counts along parallel direction')\n",
    "plt.yscale('log')\n",
    "plt.xlim(0, 15)\n",
    "#plt.ylim(-0.5, 0.5)\n",
    "plt.legend()"
   ]
  },
  {
   "cell_type": "code",
   "execution_count": 135,
   "metadata": {},
   "outputs": [
    {
     "name": "stdout",
     "output_type": "stream",
     "text": [
      "(2002, 54)\n",
      "(2002, 1)\n",
      "(54,)\n",
      "[ 9.3097391e+04  9.4686391e+04  9.3350391e+04  2.3390625e+01\n",
      " -1.1609375e+01 -4.6093750e+00 -6.0937500e-01  3.9062500e-01\n",
      " -7.6093750e+00 -2.6093750e+00 -6.6093750e+00 -2.6093750e+00\n",
      "  7.3906250e+00  2.3906250e+00  7.3906250e+00  9.3906250e+00\n",
      " -8.6093750e+00  1.1390625e+01  5.3906250e+00 -1.0609375e+01\n",
      " -1.6093750e+00 -1.3609375e+01  5.3906250e+00 -7.6093750e+00\n",
      " -6.0937500e-01  3.9062500e-01  7.3906250e+00 -8.6093750e+00\n",
      "  7.3906250e+00  3.3906250e+00 -5.6093750e+00  2.3906250e+00\n",
      " -6.0937500e-01 -4.6093750e+00 -1.6093750e+00  1.1390625e+01\n",
      " -1.6093750e+00 -7.6093750e+00  2.3906250e+00  5.3906250e+00\n",
      " -6.6093750e+00 -4.6093750e+00 -6.0937500e-01  3.9062500e-01\n",
      "  3.3906250e+00  3.3906250e+00 -3.6093750e+00  2.3906250e+00\n",
      " -6.6093750e+00 -8.6093750e+00  5.3906250e+00  5.3906250e+00\n",
      "  1.0390625e+01  4.3906250e+00]\n"
     ]
    }
   ],
   "source": [
    "print(arr.shape)\n",
    "print(oscan.shape)\n",
    "print(oscan_mean.shape)\n",
    "print(arr_oscan[500])\n"
   ]
  },
  {
   "cell_type": "code",
   "execution_count": null,
   "metadata": {},
   "outputs": [],
   "source": []
  }
 ],
 "metadata": {
  "kernelspec": {
   "display_name": "LSST",
   "language": "python",
   "name": "lsst"
  },
  "language_info": {
   "codemirror_mode": {
    "name": "ipython",
    "version": 3
   },
   "file_extension": ".py",
   "mimetype": "text/x-python",
   "name": "python",
   "nbconvert_exporter": "python",
   "pygments_lexer": "ipython3",
   "version": "3.6.6"
  }
 },
 "nbformat": 4,
 "nbformat_minor": 2
}
