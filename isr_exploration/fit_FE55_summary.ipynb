{
 "cells": [
  {
   "cell_type": "markdown",
   "metadata": {},
   "source": [
    "# notebook for determining FE55 gains and camera charge diffusion\n",
    "\n",
    "Eric Charles and Bo Xin\n",
    "\n",
    "References:\n",
    "\n",
    "    o. https://github.com/lsst/bootcamp-work/blob/master/examples/welcome_to_FE55.ipynb\n",
    "\n",
    "    o. https://github.com/lsst-camera-dh/eotest/blob/master/python/lsst/eotest/sensor/fe55_psf.py"
   ]
  },
  {
   "cell_type": "markdown",
   "metadata": {},
   "source": [
    "### Setup\n",
    "\n",
    "Before running this notebook, you'll need to set up the `obs_lsst` package. Before doing the setup procedure below, you might want to run the notebook until it crashes so you see what the error message looks like.\n",
    "\n",
    "Step-by-step instructions:\n",
    "\n",
    "1. Start a terminal in JupyterLab. In the terminal, setup the Stack with the command `source /opt/lsst/software/stack/loadLSST.bash` and then issue the command `setup lsst_distrib` to allow you to run scons in a subsequent step.\n",
    "\n",
    "2. Create and/or switch into a folder where you want to put your local versions of the LSST Stack (e.g., `~/repos`)\n",
    "\n",
    "Run the following commands\n",
    "\n",
    "```\n",
    "git clone https://github.com/lsst/obs_lsstCam.git\n",
    "cd obs_lsstCam\n",
    "setup -j -r .\n",
    "scons\n",
    "```\n",
    "\n",
    "3. Add `setup -k -r path_to_repos/obs_lsstCam` to `$HOME/notebooks/.user_setups`.\n",
    "\n",
    "4. Restart your kernel.\n",
    "\n",
    "Just for fun, check what version of the Stack you are using. This notebook has been tested on `w_2018_45`."
   ]
  },
  {
   "cell_type": "markdown",
   "metadata": {},
   "source": [
    "### Imports"
   ]
  },
  {
   "cell_type": "code",
   "execution_count": null,
   "metadata": {},
   "outputs": [],
   "source": [
    "%load_ext autoreload\n",
    "%autoreload 2\n",
    "%matplotlib inline\n",
    "\n",
    "# system imports\n",
    "from matplotlib import pylab as plt\n",
    "from scipy.optimize import leastsq\n",
    "import numpy\n",
    "import os\n",
    "import yaml\n",
    "\n",
    "\n",
    "# Firefly client imports\n",
    "from firefly_client import FireflyClient\n",
    "from IPython.display import IFrame\n",
    "\n",
    "import stats_utils\n",
    "import table_utils\n",
    "from scipy.special import erf, gammaincc\n",
    "from astropy.table import Table"
   ]
  },
  {
   "cell_type": "code",
   "execution_count": null,
   "metadata": {},
   "outputs": [],
   "source": [
    "import FE55_psf_func\n",
    "import stats_utils\n",
    "import table_utils\n",
    "import plot_utils"
   ]
  },
  {
   "cell_type": "code",
   "execution_count": null,
   "metadata": {},
   "outputs": [],
   "source": [
    "infile_base = \"FE55_clusters\"\n",
    "outfilehist_base = \"FE55_summary\"\n",
    "\n",
    "bin_dict = dict(sigmax=(0.25, 0.75, 50),\n",
    "                sigmay=(0.25, 0.75, 50),\n",
    "                dn=(2000, 3000., 100),\n",
    "                x0=(None, None, 100),\n",
    "                y0=(None, None, 100),\n",
    "                dn_fp=(2000, 3500, 100),\n",
    "                chiprob=(0., 1., 100),\n",
    "                chi2=(None, None, 100),\n",
    "                dof=(0, 50, 50))\n",
    "                                \n",
    "gauss_fits = ['sigmax', 'sigmay']\n",
    "double_gauss_fits = ['dn', 'dn_fp']\n",
    "ccd_hists_list = []\n",
    "for iamp in range(16):\n",
    "    infile = \"%s_%02i.fits\" % (infile_base, iamp)\n",
    "    intable = Table.read(infile)\n",
    "    \n",
    "    ccd_hists = stats_utils.bin_lists(intable, bin_dict)\n",
    "    stats_utils.fit_hists_gaussian(ccd_hists, gauss_fits)\n",
    "    stats_utils.fit_hists_double_gaussian(ccd_hists, double_gauss_fits)\n",
    "\n",
    "    ccd_hists_list.append(ccd_hists)\n",
    "    \n",
    "    if outfilehist_base is None:\n",
    "        outstream = sys.stdout\n",
    "    else:\n",
    "        outstream = open(\"%s_%02i.yaml\" %(outfilehist_base, iamp), 'w')\n",
    "    yaml.dump(ccd_hists, outstream)\n",
    "    if outfilehist_base is not None:\n",
    "        outstream.close()\n",
    "    "
   ]
  },
  {
   "cell_type": "markdown",
   "metadata": {},
   "source": [
    "### Set up the necessary classes for using firefly to look at the data."
   ]
  },
  {
   "cell_type": "markdown",
   "metadata": {},
   "source": [
    "### plot distributions for all 16 amps."
   ]
  },
  {
   "cell_type": "code",
   "execution_count": null,
   "metadata": {},
   "outputs": [],
   "source": [
    "my_channel = '{}_test_channel'.format(os.environ['USER'])\n",
    "server = 'https://lsst-lspdev.ncsa.illinois.edu'\n",
    "\n",
    "\n",
    "ff='{}/firefly/slate.html?__wsch={}'.format(server, my_channel)\n",
    "IFrame(ff,800,600)"
   ]
  },
  {
   "cell_type": "code",
   "execution_count": null,
   "metadata": {},
   "outputs": [],
   "source": [
    "fig, axs = plot_utils.plot_all_amps(ccd_hists_list, 'sigmax',\n",
    "                                    xlabel='sigma x', ylabel='N clusters', savepng='sigmax.png')"
   ]
  },
  {
   "cell_type": "code",
   "execution_count": null,
   "metadata": {},
   "outputs": [],
   "source": [
    "fig, axs = plot_utils.plot_all_amps(ccd_hists_list, 'sigmay',\n",
    "                                    xlabel='sigma y', ylabel='N clusters', savepng='sigmay.png')"
   ]
  },
  {
   "cell_type": "code",
   "execution_count": null,
   "metadata": {},
   "outputs": [],
   "source": [
    "fig, axs = plot_utils.plot_all_amps(ccd_hists_list, 'dn',\n",
    "                                    xlabel='n[e]', ylabel='N clusters', savepng='dn.png')"
   ]
  },
  {
   "cell_type": "code",
   "execution_count": null,
   "metadata": {},
   "outputs": [],
   "source": [
    "fig, axs = plot_utils.plot_all_amps(ccd_hists_list, 'dn_fp',\n",
    "                                    xlabel=r'$n_{foot}$[e]', ylabel='N clusters', savepng='dn.png')"
   ]
  },
  {
   "cell_type": "code",
   "execution_count": null,
   "metadata": {},
   "outputs": [],
   "source": [
    "fig, axs = plot_utils.plot_all_amps(ccd_hists_list, 'chiprob',\n",
    "                                    xlabel='P($\\chi^2)', ylabel='N clusters', savepng='chiprob.png')"
   ]
  },
  {
   "cell_type": "code",
   "execution_count": null,
   "metadata": {},
   "outputs": [],
   "source": [
    "FE55_electrons = 1594\n",
    "gain_clusterFit = numpy.zeros((16,1))\n",
    "for i in range(16):\n",
    "    gain_clusterFit[i] = FE55_electrons/ccd_hists_list[i]['dn']['fit'][0][1]\n",
    "    print(\"Gain for amp %02i -- %.5f\"%(i, gain_clusterFit[i]))"
   ]
  },
  {
   "cell_type": "code",
   "execution_count": null,
   "metadata": {},
   "outputs": [],
   "source": [
    "# gain measurements from Simon's demo notebook\n",
    "gain_demo = [\n",
    "    0.68561, 0.68284, 0.68053, 0.68318, \n",
    "    0.68491, 0.67897, 0.68294, 0.68767, \n",
    "    0.68107, 0.67561, 0.67900, 0.67693, \n",
    "    0.67826, 0.67734, 0.67541, 0.67207]"
   ]
  },
  {
   "cell_type": "code",
   "execution_count": null,
   "metadata": {},
   "outputs": [],
   "source": [
    "xp=numpy.arange(16)\n",
    "plt.plot(xp, gain_clusterFit, 'ro', label = 'Gains from fitting to FE55 clusters')\n",
    "plt.plot(xp, gain_demo, 'b*', label = 'Gains from Simon demo notebook')\n",
    "plt.legend()"
   ]
  },
  {
   "cell_type": "code",
   "execution_count": null,
   "metadata": {},
   "outputs": [],
   "source": []
  }
 ],
 "metadata": {
  "kernelspec": {
   "display_name": "LSST",
   "language": "python",
   "name": "lsst"
  },
  "language_info": {
   "codemirror_mode": {
    "name": "ipython",
    "version": 3
   },
   "file_extension": ".py",
   "mimetype": "text/x-python",
   "name": "python",
   "nbconvert_exporter": "python",
   "pygments_lexer": "ipython3",
   "version": "3.6.6"
  }
 },
 "nbformat": 4,
 "nbformat_minor": 2
}
