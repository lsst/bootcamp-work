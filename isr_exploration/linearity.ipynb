{
 "cells": [
  {
   "cell_type": "markdown",
   "metadata": {},
   "source": [
    "### Imports"
   ]
  },
  {
   "cell_type": "code",
   "execution_count": 10,
   "metadata": {},
   "outputs": [],
   "source": [
    "%matplotlib inline\n",
    "\n",
    "# system imports\n",
    "from matplotlib import pylab as plt\n",
    "import numpy\n",
    "from scipy import stats as scistats\n",
    "import os\n",
    "\n",
    "# LSST stack imports\n",
    "from lsst.daf.persistence import Butler\n",
    "import lsst.afw.display as afwDisplay\n",
    "from lsst.ip.isr import IsrTask\n",
    "import lsst.afw.math as afwMath\n",
    "\n",
    "\n",
    "# Firefly client imports\n",
    "from IPython.display import IFrame"
   ]
  },
  {
   "cell_type": "code",
   "execution_count": 2,
   "metadata": {},
   "outputs": [],
   "source": [
    "import matplotlib\n",
    "matplotlib.rcParams['figure.dpi'] = 120"
   ]
  },
  {
   "cell_type": "markdown",
   "metadata": {},
   "source": [
    "This notebook requires the package `obs_lsst`, which is not currently distributed in the LSP. If the following cell raises an exception, see the instructions in `welcome_to_FE55.ipynb`."
   ]
  },
  {
   "cell_type": "code",
   "execution_count": 3,
   "metadata": {},
   "outputs": [],
   "source": [
    "import eups\n",
    "assert eups.getSetupVersion(\"obs_lsst\")"
   ]
  },
  {
   "cell_type": "markdown",
   "metadata": {},
   "source": [
    "### Set up the config for the ISR task.  This essentially turns off all processing other than overscan and bias correction."
   ]
  },
  {
   "cell_type": "code",
   "execution_count": 4,
   "metadata": {},
   "outputs": [],
   "source": [
    "isr_config = IsrTask.ConfigClass()\n",
    "\n",
    "isr_config.doDark=False\n",
    "isr_config.doFlat=False\n",
    "isr_config.doFringe=False\n",
    "isr_config.doDefect=False\n",
    "isr_config.doAddDistortionModel=False\n",
    "isr_config.doLinearize=False\n",
    "isr_config.doSaturationInterpolation=False"
   ]
  },
  {
   "cell_type": "markdown",
   "metadata": {},
   "source": [
    "### Construct the `IsrTask` with the above configuration"
   ]
  },
  {
   "cell_type": "code",
   "execution_count": 5,
   "metadata": {},
   "outputs": [],
   "source": [
    "isr = IsrTask(config=isr_config)"
   ]
  },
  {
   "cell_type": "markdown",
   "metadata": {},
   "source": [
    "### Setup firefly to do image visualization"
   ]
  },
  {
   "cell_type": "code",
   "execution_count": 6,
   "metadata": {},
   "outputs": [
    {
     "data": {
      "text/html": [
       "Open your web browser to <a href=\"https://lsst-lspdev.ncsa.illinois.edu/firefly//slate.html?__wsch=slm23_test_channel\"\" target=\"_blank\">this link</a>"
      ],
      "text/plain": [
       "<IPython.core.display.HTML object>"
      ]
     },
     "metadata": {},
     "output_type": "display_data"
    }
   ],
   "source": [
    "my_channel = '{}_test_channel'.format(os.environ['USER'])\n",
    "server = 'https://lsst-lspdev.ncsa.illinois.edu'\n",
    "\n",
    "\n",
    "ff='{}/firefly/slate.html?__wsch={}'.format(server, my_channel)\n",
    "IFrame(ff,800,600)\n",
    "\n",
    "afwDisplay.setDefaultBackend('firefly')\n",
    "afw_display = afwDisplay.getDisplay(frame=1, \n",
    "                                    name=my_channel)"
   ]
  },
  {
   "cell_type": "code",
   "execution_count": 15,
   "metadata": {},
   "outputs": [
    {
     "name": "stdout",
     "output_type": "stream",
     "text": [
      "signal=90.76335144042969   pdtot=0.01710784290144993   visit=258339739\n",
      "signal=91.48408508300781   pdtot=0.0027507738060010166   visit=258339769\n",
      "signal=179.12879943847656   pdtot=0.9171503118199329   visit=258339875\n",
      "signal=180.37820434570312   pdtot=0.013708184633193114   visit=258339908\n",
      "signal=327.2234191894531   pdtot=4.208405222815219   visit=258340014\n",
      "signal=327.16082763671875   pdtot=4.231452371476741   visit=258340047\n",
      "signal=772.9136962890625   pdtot=10.030393653655276   visit=258340159\n",
      "signal=768.8203430175781   pdtot=9.951000152976786   visit=258340176\n",
      "signal=1362.2302856445312   pdtot=17.597584922674983   visit=258340244\n",
      "signal=1348.1442260742188   pdtot=17.382056212293353   visit=258340265\n",
      "signal=2414.52197265625   pdtot=31.06452741493596   visit=258340341\n",
      "signal=2486.7354736328125   pdtot=32.08284747263574   visit=258340363\n",
      "signal=4405.214111328125   pdtot=56.658833149890064   visit=258340449\n",
      "signal=4402.86328125   pdtot=56.6402721346066   visit=258340477\n",
      "signal=7907.71826171875   pdtot=101.6769079150433   visit=258340581\n",
      "signal=7699.178466796875   pdtot=98.97481188743085   visit=258340618\n",
      "signal=13599.0009765625   pdtot=174.2435061866623   visit=258340758\n",
      "signal=13608.283203125   pdtot=174.98542383712726   visit=258340811\n",
      "signal=25268.4228515625   pdtot=324.59466233644645   visit=258341017\n",
      "signal=25206.6083984375   pdtot=323.764234187833   visit=258341101\n",
      "signal=44050.703125   pdtot=565.5661164380869   visit=258341426\n",
      "signal=43899.919921875   pdtot=563.5959897545691   visit=258341550\n",
      "signal=78215.3125   pdtot=1008.1371152802795   visit=258341990\n",
      "signal=78088.33203125   pdtot=1005.5687497255265   visit=258342143\n",
      "signal=88559.109375   pdtot=1142.7346487801174   visit=258342632\n",
      "signal=88052.33984375   pdtot=1137.1916891086944   visit=258342795\n",
      "signal=98501.55078125   pdtot=1269.9181990687503   visit=258343313\n",
      "signal=99111.3359375   pdtot=1277.8173931291951   visit=258343485\n",
      "signal=114279.2421875   pdtot=1470.392179869298   visit=258344037\n",
      "signal=114612.9296875   pdtot=1474.53580044819   visit=258344222\n",
      "signal=135018.5078125   pdtot=1731.6454225781224   visit=258344826\n",
      "signal=134868.5859375   pdtot=1738.958957173154   visit=258345029\n",
      "signal=155575.1796875   pdtot=2007.6135862932142   visit=258345684\n",
      "signal=155591.015625   pdtot=2007.7237368468147   visit=258345905\n",
      "signal=175204.7109375   pdtot=2267.1304067575916   visit=258346613\n",
      "signal=176422.3984375   pdtot=2282.9846763628548   visit=258346852\n",
      "signal=195948.2421875   pdtot=2542.454079030916   visit=258347613\n",
      "signal=195670.0625   pdtot=2538.695476747333   visit=258347868\n",
      "signal=211684.1875   pdtot=2979.7262389184693   visit=258348695\n",
      "signal=211658.953125   pdtot=2982.991247500144   visit=258348982\n"
     ]
    }
   ],
   "source": [
    "BOOTCAMP_REPO_DIR= '/project/bootcamp/repo_RTM-007/'\n",
    "butler = Butler(BOOTCAMP_REPO_DIR)\n",
    "visits = butler.queryMetadata('raw', ['visit'], dataId={'imageType': 'FLAT', 'testType': 'FLAT'})\n",
    "gain = {}\n",
    "exp_time = {}\n",
    "signal = []\n",
    "pdtot = []\n",
    "\n",
    "i = 1\n",
    "for visit1, visit2 in zip(visits[::2], visits[1::2]): # loop over pairs of images\n",
    "    # Get ISR data for first image\n",
    "    dId = {'visit': visit1, 'detector': 2}\n",
    "    raw1 = butler.get('raw', **dId)\n",
    "    bias1 = butler.get('bias', **dId)\n",
    "    time1 = raw1.getInfo().getVisitInfo().getExposureTime()\n",
    "    \n",
    "    # Get ISR data for second image\n",
    "    dId = {'visit': visit2, 'detector': 2}\n",
    "    raw2 = butler.get('raw', **dId)\n",
    "    bias2 = butler.get('bias', **dId)\n",
    "    time2 = raw2.getInfo().getVisitInfo().getExposureTime()\n",
    "    if abs(time1 - time2) > 0.01:\n",
    "        \"Mismatched exptimes\"\n",
    "        continue\n",
    "    \n",
    "    # run ISR on both images\n",
    "    result1 = isr.run(raw1, bias=bias1)\n",
    "    result2 = isr.run(raw2, bias=bias2)\n",
    "    \n",
    "    # get detector and amp\n",
    "    detector = result1.exposure.getDetector()\n",
    "    amp = detector[3]\n",
    "\n",
    "    sub_im1 = result1.exposure.maskedImage[amp.getBBox()]\n",
    "    #arr1 = sub_im1.getImage().getArray()\n",
    "    sub_im2 = result2.exposure.maskedImage[amp.getBBox()]\n",
    "    #arr2 = sub_im2.getImage().getArray()\n",
    "    \n",
    "    # get integrated photodiode signal for each image\n",
    "    pdtot1 = -time1*raw1.getMetadata().getScalar('MONDIODE')\n",
    "    pdtot2 = -time2*raw2.getMetadata().getScalar('MONDIODE')\n",
    "    \n",
    "    import lsst.afw.image as afwImage \n",
    "    x0, y0 = sub_im1.getXY0()\n",
    "    xorg, yorg = 200, 900  # window origin relative to XY0\n",
    "    xsize, ysize = 200, 200  # window size\n",
    "    x0 = x0 + xorg\n",
    "    y0 = y0 + yorg\n",
    "    x1 = x0 + xsize\n",
    "    y1 = y0 + ysize\n",
    "    stat1_im = sub_im1[x0:x1, y0:y1]\n",
    "    stat2_im = sub_im2[x0:x1, y0:y1]\n",
    "    \n",
    "    stats = afwMath.makeStatistics(stat1_im, afwMath.MEDIAN)\n",
    "    stat1 = stats.getValue(afwMath.MEDIAN)\n",
    "    \n",
    "    stats = afwMath.makeStatistics(stat2_im, afwMath.MEDIAN)\n",
    "    stat2 = stats.getValue(afwMath.MEDIAN)\n",
    "    \n",
    "    print(\"signal={}   pdtot={}   visit={}\".format(stat1, pdtot1, visit1))\n",
    "    print(\"signal={}   pdtot={}   visit={}\".format(stat2, pdtot2, visit2))\n",
    "    \n",
    "    signal.append(stat1)\n",
    "    signal.append(stat2)\n",
    "    pdtot.append(pdtot1)\n",
    "    pdtot.append(pdtot2)\n",
    "\n",
    "    "
   ]
  },
  {
   "cell_type": "code",
   "execution_count": 44,
   "metadata": {},
   "outputs": [
    {
     "name": "stdout",
     "output_type": "stream",
     "text": [
      "slope=77.6627657719558, intercept=9.453012543694058, rval=0.9999950599402535, pval=1.4728875343933758e-56, stdev=0.0520456240230089\n"
     ]
    },
    {
     "data": {
      "image/png": "[encoded data removed]",
      "text/plain": [
       "<Figure size 432x288 with 2 Axes>"
      ]
     },
     "metadata": {
      "needs_background": "light"
     },
     "output_type": "display_data"
    }
   ],
   "source": [
    "# set up axes\n",
    "fig, axes = plt.subplots(2, 1, sharex=True)\n",
    "# do a linear fit to the data first cutting on value to limit on low and high end\n",
    "pdarr = numpy.array(pdtot)\n",
    "sigarr = numpy.array(signal)\n",
    "limit_low = 1000\n",
    "limit_high = 150000\n",
    "slope, intercept, rval, pval, stdev = scistats.linregress(\n",
    "    pdarr[(limit_low < sigarr) & (sigarr < limit_high)],\n",
    "    sigarr[(limit_low <  sigarr) & (sigarr < limit_high)])\n",
    "\n",
    "print(\"slope={}, intercept={}, rval={}, pval={}, stdev={}\".format(\n",
    "      slope, intercept, rval, pval, stdev))\n",
    "\n",
    "# make points to plot for the line\n",
    "fitarr = pdarr * slope + intercept\n",
    "axes[0].plot(pdarr, fitarr, label='fit')\n",
    "axes[0].scatter(pdarr, sigarr, label=\"data\")\n",
    "# axes[0].set_xlabel('Photodiode Integrated Signal')\n",
    "axes[0].set_ylabel('Image Signal')\n",
    "axes[0].set_title(\"Linearity Data on CCD:{}\".format(detector.getName()))\n",
    "axes[0].legend(loc='best')\n",
    "\n",
    "# now plot residuals\n",
    "resarr = (fitarr - sigarr) / sigarr\n",
    "axes[1].plot(pdarr[pdarr > 4], resarr[pdarr > 4], '.', label='residuals')\n",
    "axes[1].set_yscale('symlog', linthreshy=0.02)\n",
    "axes[1].set_xlabel('Photodiode Integrated Signal')\n",
    "axes[1].set_ylabel('Linar fit residuals')\n",
    "axes[1].set_title(\"Fractional Residual: (fit - sig)/sig\")\n",
    "axes[1].legend(loc='best')\n",
    "fig.tight_layout()\n"
   ]
  },
  {
   "cell_type": "code",
   "execution_count": 11,
   "metadata": {},
   "outputs": [],
   "source": [
    "afw_display.mtv(sub_im1) # display an example image"
   ]
  },
  {
   "cell_type": "code",
   "execution_count": 16,
   "metadata": {},
   "outputs": [],
   "source": [
    "visit_keys = exp_time.keys()\n",
    "x = [exp_time[visit] for visit in visit_keys]\n",
    "y = [gain[visit] for visit in visit_keys]"
   ]
  },
  {
   "cell_type": "code",
   "execution_count": 18,
   "metadata": {},
   "outputs": [
    {
     "data": {
      "text/plain": [
       "(0, 2)"
      ]
     },
     "execution_count": 18,
     "metadata": {},
     "output_type": "execute_result"
    },
    {
     "data": {
      "image/png": "[encoded data removed]",
      "text/plain": [
       "<Figure size 720x480 with 1 Axes>"
      ]
     },
     "metadata": {
      "needs_background": "light"
     },
     "output_type": "display_data"
    }
   ],
   "source": [
    "plt.scatter(x, y)\n",
    "plt.ylim(0, 2)"
   ]
  },
  {
   "cell_type": "code",
   "execution_count": null,
   "metadata": {},
   "outputs": [],
   "source": []
  }
 ],
 "metadata": {
  "kernelspec": {
   "display_name": "LSST",
   "language": "python",
   "name": "lsst"
  },
  "language_info": {
   "codemirror_mode": {
    "name": "ipython",
    "version": 3
   },
   "file_extension": ".py",
   "mimetype": "text/x-python",
   "name": "python",
   "nbconvert_exporter": "python",
   "pygments_lexer": "ipython3",
   "version": "3.6.6"
  }
 },
 "nbformat": 4,
 "nbformat_minor": 2
}
