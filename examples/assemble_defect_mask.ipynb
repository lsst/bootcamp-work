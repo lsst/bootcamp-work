{
 "cells": [
  {
   "cell_type": "code",
   "execution_count": null,
   "metadata": {},
   "outputs": [],
   "source": [
    "import lsst.afw.image as afwImage\n",
    "import lsst.afw.cameraGeom.utils as cameraGeomUtils\n",
    "import lsst.afw.display as afwDisplay\n",
    "\n",
    "import numpy\n",
    "import os"
   ]
  },
  {
   "cell_type": "code",
   "execution_count": null,
   "metadata": {},
   "outputs": [],
   "source": [
    "amps = {}\n",
    "for i in range(16):\n",
    "    exp = afwImage.ExposureU('/project/bootcamp/data/LCA-11021_RTM-007/7086/bright_defects_raft/v0/44990/S11/E2V-CCD250-195_bright_pixel_mask.fits[%i]'%(i))\n",
    "    md = exp.getMetadata()\n",
    "    amps[md.get('EXTNAME')] = exp"
   ]
  },
  {
   "cell_type": "code",
   "execution_count": null,
   "metadata": {},
   "outputs": [],
   "source": [
    "from lsst.obs.lsst.ts8 import Ts8Mapper\n",
    "mapper = Ts8Mapper()"
   ]
  },
  {
   "cell_type": "code",
   "execution_count": null,
   "metadata": {},
   "outputs": [],
   "source": [
    "detector = mapper.camera['R00_S11']"
   ]
  },
  {
   "cell_type": "code",
   "execution_count": null,
   "metadata": {},
   "outputs": [],
   "source": [
    "outIm = afwImage.ImageU(detector.getBBox())"
   ]
  },
  {
   "cell_type": "code",
   "execution_count": null,
   "metadata": {},
   "outputs": [],
   "source": [
    "for key, item in amps.items():\n",
    "    amp_name = 'C%s'%(key[-2:])\n",
    "    amp = detector[amp_name]\n",
    "    amp_im = amps[key].getMaskedImage().getImage()\n",
    "    arr = amp_im[amp.getRawDataBBox()].getArray()\n",
    "    if amp.getRawFlipX():\n",
    "        arr = numpy.flip(arr, axis=1)\n",
    "    if amp.getRawFlipY():\n",
    "        arr = numpy.flip(arr, axis=0)\n",
    "    box = amp.getBBox()\n",
    "    outView = outIm[box].getArray()\n",
    "    outView[:] = arr"
   ]
  },
  {
   "cell_type": "code",
   "execution_count": null,
   "metadata": {},
   "outputs": [],
   "source": [
    "print(box)"
   ]
  },
  {
   "cell_type": "code",
   "execution_count": null,
   "metadata": {},
   "outputs": [],
   "source": [
    "my_channel = '{}_test_channel'.format(os.environ['USER'])\n",
    "server = 'https://lsst-lspdev.ncsa.illinois.edu'\n",
    "afwDisplay.setDefaultBackend('firefly')\n",
    "afw_display = afwDisplay.getDisplay(frame=1, \n",
    "                                    name=my_channel)"
   ]
  },
  {
   "cell_type": "code",
   "execution_count": null,
   "metadata": {},
   "outputs": [],
   "source": [
    "afw_display.mtv(outIm)"
   ]
  },
  {
   "cell_type": "code",
   "execution_count": null,
   "metadata": {},
   "outputs": [],
   "source": []
  }
 ],
 "metadata": {
  "kernelspec": {
   "display_name": "LSST",
   "language": "python",
   "name": "lsst"
  },
  "language_info": {
   "codemirror_mode": {
    "name": "ipython",
    "version": 3
   },
   "file_extension": ".py",
   "mimetype": "text/x-python",
   "name": "python",
   "nbconvert_exporter": "python",
   "pygments_lexer": "ipython3",
   "version": "3.6.6"
  }
 },
 "nbformat": 4,
 "nbformat_minor": 2
}
