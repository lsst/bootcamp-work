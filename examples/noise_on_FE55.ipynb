{
 "cells": [
  {
   "cell_type": "markdown",
   "metadata": {},
   "source": [
    "# Example notebook for plotting pixel distriubutions and statistics\n",
    "\n",
    "Owner:  **Andy Connolly**\n",
    "\n",
    "Last Verified to Run: **2018-11-15**\n",
    "\n",
    "Verified Stack Release: **w_2018_45**"
   ]
  },
  {
   "cell_type": "markdown",
   "metadata": {},
   "source": [
    "### Setup\n",
    "\n",
    "Before running this notebook, you'll need to set up the `obs_lsst` package. Before doing the setup procedure below, you might want to run the notebook until it crashes so you see what the error message looks like.\n",
    "\n",
    "Step-by-step instructions:\n",
    "\n",
    "1. Start a terminal in JupyterLab. In the terminal, setup the Stack with the command `source /opt/lsst/software/stack/loadLSST.bash` and then issue the command `setup lsst_distrib` to allow you to run scons in a subsequent step.\n",
    "\n",
    "2. Create and/or switch into a folder where you want to put your local versions of the LSST Stack (e.g., `~/repos`)\n",
    "\n",
    "Run the following commands\n",
    "\n",
    "```\n",
    "git clone https://github.com/lsst/obs_lsstCam.git\n",
    "cd obs_lsstCam\n",
    "setup -j -r .\n",
    "scons\n",
    "```\n",
    "\n",
    "3. Add `setup -k -r path_to_repos/obs_lsstCam` to `$HOME/notebooks/.user_setups`.\n",
    "\n",
    "4. Restart your kernel.\n",
    "\n",
    "Just for fun, check what version of the Stack you are using. This notebook has been tested on `w_2018_45`."
   ]
  },
  {
   "cell_type": "code",
   "execution_count": 1,
   "metadata": {},
   "outputs": [
    {
     "name": "stdout",
     "output_type": "stream",
     "text": [
      "lsst_distrib          16.0-1-g3bbe181+31 \tcurrent w_2018_45 setup\n"
     ]
    }
   ],
   "source": [
    "! eups list -s | grep lsst_distrib"
   ]
  },
  {
   "cell_type": "markdown",
   "metadata": {},
   "source": [
    "### Imports"
   ]
  },
  {
   "cell_type": "code",
   "execution_count": 102,
   "metadata": {},
   "outputs": [],
   "source": [
    "%matplotlib inline\n",
    "\n",
    "# system imports\n",
    "from matplotlib import pylab as plt\n",
    "from scipy.optimize import leastsq\n",
    "import numpy as np\n",
    "import os\n",
    "\n",
    "# LSST stack imports\n",
    "from lsst.daf.persistence import Butler\n",
    "import lsst.afw.display as afwDisplay\n",
    "from lsst.ip.isr import IsrTask\n",
    "import lsst.afw.detection as afwDetection\n",
    "import lsst.afw.math as afwMath\n",
    "\n",
    "\n",
    "# Firefly client imports\n",
    "from firefly_client import FireflyClient\n",
    "from IPython.display import IFrame\n",
    "\n",
    "#plotting setup\n",
    "\n",
    "plt.style.use('seaborn-poster')"
   ]
  },
  {
   "cell_type": "markdown",
   "metadata": {},
   "source": [
    "### Set up the config for the ISR task.  This essentially turns off all processing other than overscan and bias correction."
   ]
  },
  {
   "cell_type": "code",
   "execution_count": 3,
   "metadata": {},
   "outputs": [],
   "source": [
    "isr_config = IsrTask.ConfigClass()\n",
    "\n",
    "isr_config.doDark=False\n",
    "isr_config.doFlat=False\n",
    "isr_config.doFringe=False\n",
    "isr_config.doDefect=False\n",
    "isr_config.doAddDistortionModel=False\n",
    "isr_config.doLinearize=False"
   ]
  },
  {
   "cell_type": "markdown",
   "metadata": {},
   "source": [
    "### Construct the `IsrTask` with the above configuration"
   ]
  },
  {
   "cell_type": "code",
   "execution_count": 4,
   "metadata": {},
   "outputs": [],
   "source": [
    "isr = IsrTask(config=isr_config)"
   ]
  },
  {
   "cell_type": "markdown",
   "metadata": {},
   "source": [
    "### Retrieve the data necessary to perform ISR.  This is just the raw data and the bias frame.  Note there are multiple integrations.  This notebook only looks at one of them."
   ]
  },
  {
   "cell_type": "code",
   "execution_count": 5,
   "metadata": {},
   "outputs": [
    {
     "name": "stdout",
     "output_type": "stream",
     "text": [
      "[258334666, 258334978, 258335291, 258335602, 258335913]\n"
     ]
    }
   ],
   "source": [
    "BOOTCAMP_REPO_DIR= '/project/bootcamp/repo_RTM-007/'\n",
    "butler = Butler(BOOTCAMP_REPO_DIR)\n",
    "print(butler.queryMetadata('raw', ['visit'], dataId={'imageType': 'FE55', 'testType': 'FE55'}))\n",
    "\n",
    "dId = {'visit': 258334666, 'detector': 2}\n",
    "raw = butler.get('raw', **dId)\n",
    "bias = butler.get('bias', **dId)"
   ]
  },
  {
   "cell_type": "code",
   "execution_count": 6,
   "metadata": {},
   "outputs": [],
   "source": [
    "result = isr.run(raw, bias=bias)"
   ]
  },
  {
   "cell_type": "markdown",
   "metadata": {},
   "source": [
    "### Set up the necessary classes for using firefly to look at the data."
   ]
  },
  {
   "cell_type": "code",
   "execution_count": 7,
   "metadata": {},
   "outputs": [
    {
     "data": {
      "text/html": [
       "\n",
       "        <iframe\n",
       "            width=\"800\"\n",
       "            height=\"600\"\n",
       "            src=\"https://lsst-lspdev.ncsa.illinois.edu/firefly/slate.html?__wsch=aconnoll_test_channel\"\n",
       "            frameborder=\"0\"\n",
       "            allowfullscreen\n",
       "        ></iframe>\n",
       "        "
      ],
      "text/plain": [
       "<IPython.lib.display.IFrame at 0x7f84b3edd748>"
      ]
     },
     "execution_count": 7,
     "metadata": {},
     "output_type": "execute_result"
    }
   ],
   "source": [
    "my_channel = '{}_test_channel'.format(os.environ['USER'])\n",
    "server = 'https://lsst-lspdev.ncsa.illinois.edu'\n",
    "\n",
    "\n",
    "ff='{}/firefly/slate.html?__wsch={}'.format(server, my_channel)\n",
    "IFrame(ff,800,600)"
   ]
  },
  {
   "cell_type": "code",
   "execution_count": 8,
   "metadata": {},
   "outputs": [
    {
     "data": {
      "text/html": [
       "Open your web browser to <a href=\"https://lsst-lspdev.ncsa.illinois.edu/firefly//slate.html?__wsch=aconnoll_test_channel\"\" target=\"_blank\">this link</a>"
      ],
      "text/plain": [
       "<IPython.core.display.HTML object>"
      ]
     },
     "metadata": {},
     "output_type": "display_data"
    }
   ],
   "source": [
    "afwDisplay.setDefaultBackend('firefly')\n",
    "afw_display = afwDisplay.getDisplay(frame=1, \n",
    "                                    name=my_channel)"
   ]
  },
  {
   "cell_type": "markdown",
   "metadata": {},
   "source": [
    "### Display the frame after ISR"
   ]
  },
  {
   "cell_type": "code",
   "execution_count": 9,
   "metadata": {},
   "outputs": [],
   "source": [
    "afw_display.mtv(result.exposure)"
   ]
  },
  {
   "cell_type": "markdown",
   "metadata": {},
   "source": [
    "### Plot and calculate the noise in each image amp"
   ]
  },
  {
   "cell_type": "code",
   "execution_count": null,
   "metadata": {},
   "outputs": [],
   "source": [
    "xs = []\n",
    "ys = []\n",
    "fits = []\n",
    "fig, axs = plt.subplots(4, 4, figsize=(40, 20), sharex='col', sharey='row')\n",
    "detector = result.exposure.getDetector()\n",
    "masked_img = result.exposure.getMaskedImage()\n",
    "for i,amp in enumerate(detector):\n",
    "    work_img = masked_img[amp.getBBox()]\n",
    "    arr = work_img.getImage().getArray()\n",
    "    \n",
    "    bkgd = np.median(arr) # estimate a background and subtract it\n",
    "    arr -= bkgd # this is pointers so running once means we have changed the array\n",
    "    \n",
    "\n",
    "    # detect sources and set mask bit\n",
    "    thresh = afwDetection.Threshold(100)\n",
    "    fs = afwDetection.FootprintSet(work_img, thresh) # detect hits\n",
    "    fs = afwDetection.FootprintSet(fs, 1, False) # grow the detection footprints\n",
    "    fs.setMask(work_img.mask, \"DETECTED\")\n",
    "    fs.makeHeavy(work_img) # List of pixels plus values\n",
    "\n",
    "    foots = fs.getFootprints()\n",
    "\n",
    "    maskDict = work_img.getMask().getMaskPlaneDict()\n",
    "    detected = maskDict[\"DETECTED\"]\n",
    "\n",
    "    #get pixels and masks\n",
    "    mask_pixels = work_img.getMask().getArray()\n",
    "    pixels =  work_img.getImage().getArray()\n",
    " \n",
    "\n",
    "   \n",
    "    # calculate statistics on images with and without detected mask using StatisticsControl\n",
    "    sctrl = afwMath.StatisticsControl()\n",
    "    sctrl.setAndMask(detected)\n",
    "    stat = afwMath.makeStatistics(work_img, afwMath.STDEV | afwMath.MEAN , sctrl)\n",
    "    lsstMeanDetected = stat.getValue(afwMath.MEAN)\n",
    "    lsstStdDetected = stat.getValue(afwMath.STDEV)\n",
    "\n",
    "    sctrl.setAndMask(~detected)\n",
    "    stat = afwMath.makeStatistics(work_img, afwMath.STDEV | afwMath.MEAN , sctrl)\n",
    "    lsstMean = stat.getValue(afwMath.MEAN)\n",
    "    lsstStd = stat.getValue(afwMath.STDEV)\n",
    "\n",
    "    # calculate statistics on images with and without detected mask using pixel values\n",
    "    sourcePixels = [np.bitwise_and(mask_pixels,2**detected) == 2**detected]\n",
    "    bkgPixels = [np.bitwise_and(mask_pixels,2**detected) != 2**detected]\n",
    "\n",
    "    meanDetected = pixels[sourcePixels].mean()\n",
    "    stdDetected = pixels[sourcePixels].std()\n",
    "\n",
    "    mean = pixels[bkgPixels].mean()\n",
    "    std = pixels[bkgPixels].std()\n",
    "\n",
    "#    print (len(pixels[np.bitwise_and(mask_pixels,2**detected) != 2**detected]) + \n",
    "#           len(pixels[np.bitwise_and(mask_pixels,2**detected) == 2**detected]))\n",
    "#    print (pixels.shape[0]*pixels.shape[1])\n",
    "    \n",
    "    indx = i%4\n",
    "    indy = i//4\n",
    "    \n",
    "    # plot histograms of values\n",
    "    xmin = -50\n",
    "    xmax = 200\n",
    "    bins = axs[indx][indy].hist(pixels[bkgPixels], bins=100, range=(xmin, xmax), density=True, alpha=0.5,\n",
    "                                label='Bkg: LSST {:+.2f}$\\pm${:.2f} \\n    Numpy {:+.2f}$\\pm${:.2f}'.format(lsstMean, lsstStd, mean, std))\n",
    "    axs[indx][indy].hist(pixels[sourcePixels], bins=100, range=(xmin, xmax), density=True,  alpha=0.5,\n",
    "                         label='Source: LSST {:+.2f}$\\pm${:.2f} \\n  Numpy {:+.2f}$\\pm${:.2f}'.format(lsstMeanDetected, lsstStdDetected, \n",
    "                                                                                                     meanDetected, stdDetected))\n",
    "    axs[indx][indy].legend()\n",
    "    axs[indx][indy].set_xlim(xmin, xmax)\n",
    "    if indx == 3:\n",
    "        axs[indx][indy].set_xlabel('Counts (ADU)')\n",
    "    if indy == 0:\n",
    "        axs[indx][indy].set_ylabel('Probability density')\n",
    "plt.tight_layout()"
   ]
  },
  {
   "cell_type": "code",
   "execution_count": null,
   "metadata": {},
   "outputs": [],
   "source": []
  }
 ],
 "metadata": {
  "kernelspec": {
   "display_name": "LSST",
   "language": "python",
   "name": "lsst"
  },
  "language_info": {
   "codemirror_mode": {
    "name": "ipython",
    "version": 3
   },
   "file_extension": ".py",
   "mimetype": "text/x-python",
   "name": "python",
   "nbconvert_exporter": "python",
   "pygments_lexer": "ipython3",
   "version": "3.6.6"
  }
 },
 "nbformat": 4,
 "nbformat_minor": 2
}
