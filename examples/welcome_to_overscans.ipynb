{
 "cells": [
  {
   "cell_type": "code",
   "execution_count": null,
   "metadata": {},
   "outputs": [],
   "source": [
    "%matplotlib inline\n",
    "\n",
    "# system imports\n",
    "from matplotlib import pylab as plt\n",
    "import numpy\n",
    "import os\n",
    "\n",
    "# LSST stack imports\n",
    "from lsst.daf.persistence import Butler\n",
    "import lsst.afw.display as afwDisplay"
   ]
  },
  {
   "cell_type": "code",
   "execution_count": null,
   "metadata": {},
   "outputs": [],
   "source": [
    "import matplotlib\n",
    "matplotlib.rcParams['figure.dpi'] = 120"
   ]
  },
  {
   "cell_type": "code",
   "execution_count": null,
   "metadata": {},
   "outputs": [],
   "source": [
    "my_channel = '{}_test_channel'.format(os.environ['USER'])\n",
    "server = 'https://lsst-lspdev.ncsa.illinois.edu'\n",
    "\n",
    "\n",
    "afwDisplay.setDefaultBackend('firefly')\n",
    "afw_display = afwDisplay.getDisplay(frame=1, \n",
    "                                    name=my_channel)"
   ]
  },
  {
   "cell_type": "code",
   "execution_count": null,
   "metadata": {},
   "outputs": [],
   "source": [
    "BOOTCAMP_REPO_DIR= '/project/bootcamp/repo_RTM-007/'\n",
    "butler = Butler(BOOTCAMP_REPO_DIR)\n",
    "visits = butler.queryMetadata('raw', ['visit'], dataId={'imageType': 'FLAT', 'testType': 'FLAT'})"
   ]
  },
  {
   "cell_type": "code",
   "execution_count": null,
   "metadata": {},
   "outputs": [],
   "source": [
    "dId = {'visit': visits[0], 'detector': 2}\n",
    "raw = butler.get('raw', **dId)"
   ]
  },
  {
   "cell_type": "code",
   "execution_count": null,
   "metadata": {},
   "outputs": [],
   "source": [
    "detector = raw.getDetector()"
   ]
  },
  {
   "cell_type": "code",
   "execution_count": null,
   "metadata": {},
   "outputs": [],
   "source": [
    "afw_display.mtv(raw)"
   ]
  },
  {
   "cell_type": "code",
   "execution_count": null,
   "metadata": {},
   "outputs": [],
   "source": [
    "# for the geometry we've chosen, the y=0 amps are in the top\n",
    "# Normally the read corner would tell you this, but there is currently a bug\n",
    "flipXY = {'C00':(False, True),\n",
    "          'C01':(False, True),\n",
    "          'C02':(False, True),\n",
    "          'C03':(False, True),\n",
    "          'C04':(False, True),\n",
    "          'C05':(False, True),\n",
    "          'C06':(False, True),\n",
    "          'C07':(False, True),\n",
    "          'C10':(True, False),\n",
    "          'C11':(True, False),\n",
    "          'C12':(True, False),\n",
    "          'C13':(True, False),\n",
    "          'C14':(True, False),\n",
    "          'C15':(True, False),\n",
    "          'C16':(True, False),\n",
    "          'C17':(True, False)}"
   ]
  },
  {
   "cell_type": "code",
   "execution_count": null,
   "metadata": {},
   "outputs": [],
   "source": [
    "overscans = {}\n",
    "for key, value in flipXY.items():\n",
    "    bbox = detector[key].getRawHorizontalOverscanBBox()\n",
    "    overscans[key] = raw[bbox].getMaskedImage().getImage().clone() # since these are views into the pixels, we want a copy so we don't mess with the pixels in the original image"
   ]
  },
  {
   "cell_type": "code",
   "execution_count": null,
   "metadata": {},
   "outputs": [],
   "source": [
    "for channel_name, flips in flipXY.items():\n",
    "    # get all the overscans in the same orientation and plot the mean along the y-axis\n",
    "    arr = overscans[channel_name].getArray() # pull out numpy array\n",
    "    oscan = numpy.mean(arr)\n",
    "    fx, fy = flips\n",
    "    if fx:\n",
    "        arr = numpy.flip(arr, axis=1)\n",
    "    if fy:\n",
    "        arr = numpy.flip(arr, axis=0)\n",
    "    # aggregate along y-axis.  It's ok to use array math here since we don't have any masks to begin with.\n",
    "    mean = numpy.mean(arr, axis=0)\n",
    "    plt.plot(mean-oscan, label=channel_name)\n",
    "\n",
    "plt.xlabel('pixel index')\n",
    "plt.ylabel('mean counts along parallel direction')\n",
    "plt.xlim(0, 65)\n",
    "plt.ylim(-0.5, 0.5)\n",
    "plt.legend()"
   ]
  }
 ],
 "metadata": {
  "kernelspec": {
   "display_name": "LSST",
   "language": "python",
   "name": "lsst"
  },
  "language_info": {
   "codemirror_mode": {
    "name": "ipython",
    "version": 3
   },
   "file_extension": ".py",
   "mimetype": "text/x-python",
   "name": "python",
   "nbconvert_exporter": "python",
   "pygments_lexer": "ipython3",
   "version": "3.6.6"
  }
 },
 "nbformat": 4,
 "nbformat_minor": 2
}
