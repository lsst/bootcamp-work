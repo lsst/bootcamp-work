{
 "cells": [
  {
   "cell_type": "markdown",
   "metadata": {},
   "source": [
    "### Imports"
   ]
  },
  {
   "cell_type": "code",
   "execution_count": 2,
   "metadata": {},
   "outputs": [],
   "source": [
    "%matplotlib inline\n",
    "\n",
    "# system imports\n",
    "from matplotlib import pylab as plt\n",
    "import numpy\n",
    "import os\n",
    "\n",
    "# LSST stack imports\n",
    "from lsst.daf.persistence import Butler\n",
    "import lsst.afw.display as afwDisplay\n",
    "from lsst.ip.isr import IsrTask\n",
    "import lsst.afw.math as afwMath\n",
    "\n",
    "\n",
    "# Firefly client imports\n",
    "from IPython.display import IFrame"
   ]
  },
  {
   "cell_type": "code",
   "execution_count": 3,
   "metadata": {},
   "outputs": [],
   "source": [
    "import matplotlib\n",
    "matplotlib.rcParams['figure.dpi'] = 120"
   ]
  },
  {
   "cell_type": "markdown",
   "metadata": {},
   "source": [
    "### Set up the config for the ISR task.  This essentially turns off all processing other than overscan and bias correction."
   ]
  },
  {
   "cell_type": "code",
   "execution_count": 4,
   "metadata": {},
   "outputs": [],
   "source": [
    "isr_config = IsrTask.ConfigClass()\n",
    "\n",
    "isr_config.doDark=False\n",
    "isr_config.doFlat=False\n",
    "isr_config.doFringe=False\n",
    "isr_config.doDefect=False\n",
    "isr_config.doAddDistortionModel=False\n",
    "isr_config.doLinearize=False\n",
    "isr_config.doSaturationInterpolation=False"
   ]
  },
  {
   "cell_type": "markdown",
   "metadata": {},
   "source": [
    "### Construct the `IsrTask` with the above configuration"
   ]
  },
  {
   "cell_type": "code",
   "execution_count": 5,
   "metadata": {},
   "outputs": [],
   "source": [
    "isr = IsrTask(config=isr_config)"
   ]
  },
  {
   "cell_type": "markdown",
   "metadata": {},
   "source": [
    "### Setup firefly to do image visualization"
   ]
  },
  {
   "cell_type": "code",
   "execution_count": 6,
   "metadata": {},
   "outputs": [
    {
     "data": {
      "text/html": [
       "Open your web browser to <a href=\"https://lsst-lspdev.ncsa.illinois.edu/firefly//slate.html?__wsch=youtsumi_test_channel\"\" target=\"_blank\">this link</a>"
      ],
      "text/plain": [
       "<IPython.core.display.HTML object>"
      ]
     },
     "metadata": {},
     "output_type": "display_data"
    }
   ],
   "source": [
    "my_channel = '{}_test_channel'.format(os.environ['USER'])\n",
    "server = 'https://lsst-lspdev.ncsa.illinois.edu'\n",
    "\n",
    "\n",
    "ff='{}/firefly/slate.html?__wsch={}'.format(server, my_channel)\n",
    "IFrame(ff,800,600)\n",
    "\n",
    "afwDisplay.setDefaultBackend('firefly')\n",
    "afw_display = afwDisplay.getDisplay(frame=1, \n",
    "                                    name=my_channel)"
   ]
  },
  {
   "cell_type": "code",
   "execution_count": 6,
   "metadata": {},
   "outputs": [
    {
     "name": "stdout",
     "output_type": "stream",
     "text": [
      "visit 258339739,258339769 -- 1 of 39 -- gain=0.505830, exposure time(s)=0.088000\n",
      "visit 258339807,258339839 -- 2 of 39 -- gain=0.520910, exposure time(s)=0.115000\n",
      "visit 258339875,258339908 -- 3 of 39 -- gain=0.573624, exposure time(s)=0.160000\n",
      "visit 258339945,258339976 -- 4 of 39 -- gain=0.597037, exposure time(s)=0.213000\n",
      "visit 258340014,258340047 -- 5 of 39 -- gain=0.620209, exposure time(s)=0.284000\n",
      "visit 258340086,258340120 -- 6 of 39 -- gain=0.639889, exposure time(s)=0.498000\n",
      "visit 258340159,258340176 -- 7 of 39 -- gain=0.649814, exposure time(s)=0.667000\n",
      "visit 258340202,258340220 -- 8 of 39 -- gain=0.650776, exposure time(s)=0.889000\n",
      "visit 258340244,258340265 -- 9 of 39 -- gain=0.632029, exposure time(s)=1.156000\n",
      "visit 258340290,258340314 -- 10 of 39 -- gain=0.665427, exposure time(s)=1.601000\n",
      "visit 258340341,258340363 -- 11 of 39 -- gain=0.394879, exposure time(s)=2.135000\n",
      "visit 258340392,258340416 -- 12 of 39 -- gain=0.674312, exposure time(s)=2.847000\n",
      "visit 258340449,258340477 -- 13 of 39 -- gain=0.677170, exposure time(s)=3.737000\n",
      "visit 258340511,258340542 -- 14 of 39 -- gain=0.648083, exposure time(s)=4.982000\n",
      "visit 258340581,258340618 -- 15 of 39 -- gain=0.233566, exposure time(s)=6.673000\n",
      "visit 258340662,258340707 -- 16 of 39 -- gain=0.647796, exposure time(s)=8.897000\n",
      "visit 258340758,258340811 -- 17 of 39 -- gain=0.692997, exposure time(s)=11.567000\n",
      "visit 258340873,258340939 -- 18 of 39 -- gain=0.699653, exposure time(s)=16.016000\n",
      "visit 258341017,258341101 -- 19 of 39 -- gain=0.677596, exposure time(s)=21.354000\n",
      "visit 258341198,258341305 -- 20 of 39 -- gain=0.722789, exposure time(s)=28.473000\n",
      "visit 258341426,258341550 -- 21 of 39 -- gain=0.628908, exposure time(s)=37.370000\n",
      "visit 258341693,258341830 -- 22 of 39 -- gain=0.768530, exposure time(s)=49.827000\n",
      "visit 258341990,258342143 -- 23 of 39 -- gain=0.726714, exposure time(s)=66.733000\n",
      "visit 258342307,258342465 -- 24 of 39 -- gain=0.347254, exposure time(s)=71.182000\n",
      "visit 258342632,258342795 -- 25 of 39 -- gain=0.367290, exposure time(s)=75.631000\n",
      "visit 258342968,258343136 -- 26 of 39 -- gain=0.687165, exposure time(s)=80.080000\n",
      "visit 258343313,258343485 -- 27 of 39 -- gain=0.323765, exposure time(s)=84.529000\n",
      "visit 258343670,258343846 -- 28 of 39 -- gain=0.463031, exposure time(s)=88.978000\n",
      "visit 258344037,258344222 -- 29 of 39 -- gain=0.592886, exposure time(s)=97.876000\n",
      "visit 258344422,258344616 -- 30 of 39 -- gain=0.847567, exposure time(s)=106.774000\n",
      "visit 258344826,258345029 -- 31 of 39 -- gain=0.805952, exposure time(s)=115.671000\n",
      "visit 258345246,258345458 -- 32 of 39 -- gain=0.889651, exposure time(s)=124.569000\n",
      "visit 258345684,258345905 -- 33 of 39 -- gain=0.917685, exposure time(s)=133.467000\n",
      "visit 258346139,258346369 -- 34 of 39 -- gain=0.863922, exposure time(s)=142.365000\n",
      "visit 258346613,258346852 -- 35 of 39 -- gain=0.199019, exposure time(s)=151.263000\n",
      "visit 258347105,258347351 -- 36 of 39 -- gain=0.822712, exposure time(s)=160.161000\n",
      "visit 258347613,258347868 -- 37 of 39 -- gain=2.483699, exposure time(s)=169.058000\n",
      "visit 258348138,258348402 -- 38 of 39 -- gain=2.533445, exposure time(s)=177.956000\n",
      "visit 258348695,258348982 -- 39 of 39 -- gain=44.225349, exposure time(s)=200.201000\n"
     ]
    }
   ],
   "source": [
    "BOOTCAMP_REPO_DIR= '/project/bootcamp/repo_RTM-007/'\n",
    "butler = Butler(BOOTCAMP_REPO_DIR)\n",
    "visits = butler.queryMetadata('raw', ['visit'], dataId={'imageType': 'FLAT', 'testType': 'FLAT'})\n",
    "gain = {}\n",
    "exp_time = {}\n",
    "repvalue = {}\n",
    "\n",
    "i = 1\n",
    "for visit1, visit2 in zip(visits[:-1:2], visits[1::2]): # loop over pairs of images\n",
    "    # Get ISR data for first image\n",
    "    dId = {'visit': visit1, 'detector': 2}\n",
    "    raw1 = butler.get('raw', **dId)\n",
    "    bias1 = butler.get('bias', **dId)\n",
    "    time1 = raw1.getInfo().getVisitInfo().getExposureTime()\n",
    "    \n",
    "    # Get ISR data for second image\n",
    "    dId = {'visit': visit2, 'detector': 2}\n",
    "    raw2 = butler.get('raw', **dId)\n",
    "    bias2 = butler.get('bias', **dId)\n",
    "    time2 = raw2.getInfo().getVisitInfo().getExposureTime()\n",
    "    if abs(time1 - time2) > 0.01:\n",
    "        \"Mismatched exptimes\"\n",
    "        continue\n",
    "    \n",
    "    # run ISR on both images\n",
    "    result1 = isr.run(raw1, bias=bias1)\n",
    "    result2 = isr.run(raw2, bias=bias2)\n",
    "    \n",
    "    detector = result1.exposure.getDetector()\n",
    "    amp = detector[3]\n",
    "\n",
    "    sub_im1 = result1.exposure.getMaskedImage()[amp.getBBox()]\n",
    "    #arr1 = sub_im1.getImage().getArray()\n",
    "    sub_im2 = result2.exposure.getMaskedImage()[amp.getBBox()]\n",
    "    #arr2 = sub_im2.getImage().getArray()\n",
    "    \n",
    "    # From RHL, 1/g = <(I1-I2)**2/(I1+I2)>\n",
    "    diff_im = sub_im1.clone()\n",
    "    diff_im -= sub_im2\n",
    "    \n",
    "    sum_im = sub_im1.clone()\n",
    "    sum_im += sub_im2\n",
    "    \n",
    "    diff_im *= diff_im\n",
    "    diff_im /= sum_im\n",
    "    \n",
    "    stats = afwMath.makeStatistics(diff_im, afwMath.MEDIAN | afwMath.MEAN)\n",
    "    rep = afwMath.makeStatistics(sum_im, afwMath.MEDIAN | afwMath.MEAN )\n",
    "    # Compute gain for this amp.\n",
    "    repvalue[visit1] = rep.getValue(afwMath.MEAN) / 2.\n",
    "    gain[visit1] = 1/stats.getValue(afwMath.MEAN)\n",
    "    exp_time[visit1] = time1\n",
    "    print(\"visit %i,%i -- %i of %i -- gain=%f, exposure time(s)=%f\"%(visit1, visit2, i, len(visits)/2, gain[visit1], exp_time[visit1], ))\n",
    "    i += 1"
   ]
  },
  {
   "cell_type": "code",
   "execution_count": 7,
   "metadata": {},
   "outputs": [],
   "source": [
    "afw_display.mtv(sub_im1) # display an example image"
   ]
  },
  {
   "cell_type": "code",
   "execution_count": 8,
   "metadata": {},
   "outputs": [],
   "source": [
    "x = [repvalue[visit] for visit in repvalue.keys()]\n",
    "y = [gain[visit] for visit in gain.keys()]"
   ]
  },
  {
   "cell_type": "code",
   "execution_count": 9,
   "metadata": {},
   "outputs": [
    {
     "data": {
      "text/plain": [
       "[]"
      ]
     },
     "execution_count": 9,
     "metadata": {},
     "output_type": "execute_result"
    },
    {
     "data": {
      "image/png": "[encoded data removed]",
      "text/plain": [
       "<Figure size 720x480 with 1 Axes>"
      ]
     },
     "metadata": {
      "needs_background": "light"
     },
     "output_type": "display_data"
    }
   ],
   "source": [
    "plt.scatter(x, y)\n",
    "plt.ylim(0, 1)\n",
    "plt.semilogx()"
   ]
  },
  {
   "cell_type": "code",
   "execution_count": 10,
   "metadata": {},
   "outputs": [
    {
     "data": {
      "text/plain": [
       "[]"
      ]
     },
     "execution_count": 10,
     "metadata": {},
     "output_type": "execute_result"
    },
    {
     "data": {
      "image/png": "[encoded data removed]",
      "text/plain": [
       "<Figure size 720x480 with 1 Axes>"
      ]
     },
     "metadata": {
      "needs_background": "light"
     },
     "output_type": "display_data"
    }
   ],
   "source": [
    "plt.scatter([exp_time[visit] for visit in repvalue.keys()], y)\n",
    "plt.ylim(0, 1)\n",
    "plt.semilogx()"
   ]
  },
  {
   "cell_type": "code",
   "execution_count": 11,
   "metadata": {},
   "outputs": [
    {
     "data": {
      "text/plain": [
       "Box2I(minimum=Point2I(1536, 0), dimensions=Extent2I(512, 2002))"
      ]
     },
     "execution_count": 11,
     "metadata": {},
     "output_type": "execute_result"
    }
   ],
   "source": [
    "amp.getBBox()"
   ]
  },
  {
   "cell_type": "code",
   "execution_count": 76,
   "metadata": {},
   "outputs": [],
   "source": [
    "def rebin(arr, new_shape):\n",
    "    print(new_shape)\n",
    "    shape = (new_shape[0], arr.shape[0] // new_shape[0],\n",
    "             new_shape[1], arr.shape[1] // new_shape[1])\n",
    "    print(shape, arr.shape[0] // new_shape[0], arr.shape[1] // new_shape[1])\n",
    "    return arr.reshape(shape).mean(-1).mean(1)"
   ]
  },
  {
   "cell_type": "code",
   "execution_count": 52,
   "metadata": {},
   "outputs": [
    {
     "name": "stdout",
     "output_type": "stream",
     "text": [
      "R00_S02\n"
     ]
    }
   ],
   "source": [
    "raw1.getInfo().getMetadata().getScalar(\"MONDIODE\") * raw1.getInfo().getVisitInfo().getExposureTime()\n",
    "print(raw1.getInfo().getDetector().getName())\n"
   ]
  },
  {
   "cell_type": "code",
   "execution_count": 35,
   "metadata": {},
   "outputs": [],
   "source": [
    "arr1 = sub_im1.getImage().getArray()"
   ]
  },
  {
   "cell_type": "code",
   "execution_count": 85,
   "metadata": {},
   "outputs": [
    {
     "name": "stdout",
     "output_type": "stream",
     "text": [
      "(1001, 256)\n",
      "(1001, 2, 256, 2) 2 2\n",
      "visit 258339739,258339769 -- 1 of 39 -- gain=0.505830, exposure time(s)=0.088000\n",
      "(1001, 256)\n",
      "(1001, 2, 256, 2) 2 2\n",
      "visit 258339807,258339839 -- 2 of 39 -- gain=0.520910, exposure time(s)=0.115000\n",
      "(1001, 256)\n",
      "(1001, 2, 256, 2) 2 2\n",
      "visit 258339875,258339908 -- 3 of 39 -- gain=0.573624, exposure time(s)=0.160000\n",
      "(1001, 256)\n",
      "(1001, 2, 256, 2) 2 2\n",
      "visit 258339945,258339976 -- 4 of 39 -- gain=0.597037, exposure time(s)=0.213000\n",
      "(1001, 256)\n",
      "(1001, 2, 256, 2) 2 2\n",
      "visit 258340014,258340047 -- 5 of 39 -- gain=0.620209, exposure time(s)=0.284000\n",
      "(1001, 256)\n",
      "(1001, 2, 256, 2) 2 2\n",
      "visit 258340086,258340120 -- 6 of 39 -- gain=0.639889, exposure time(s)=0.498000\n",
      "(1001, 256)\n",
      "(1001, 2, 256, 2) 2 2\n",
      "visit 258340159,258340176 -- 7 of 39 -- gain=0.649814, exposure time(s)=0.667000\n",
      "(1001, 256)\n",
      "(1001, 2, 256, 2) 2 2\n",
      "visit 258340202,258340220 -- 8 of 39 -- gain=0.650777, exposure time(s)=0.889000\n",
      "(1001, 256)\n",
      "(1001, 2, 256, 2) 2 2\n",
      "visit 258340244,258340265 -- 9 of 39 -- gain=0.632029, exposure time(s)=1.156000\n",
      "(1001, 256)\n",
      "(1001, 2, 256, 2) 2 2\n",
      "visit 258340290,258340314 -- 10 of 39 -- gain=0.665427, exposure time(s)=1.601000\n",
      "(1001, 256)\n",
      "(1001, 2, 256, 2) 2 2\n",
      "visit 258340341,258340363 -- 11 of 39 -- gain=0.394879, exposure time(s)=2.135000\n",
      "(1001, 256)\n",
      "(1001, 2, 256, 2) 2 2\n",
      "visit 258340392,258340416 -- 12 of 39 -- gain=0.674312, exposure time(s)=2.847000\n",
      "(1001, 256)\n",
      "(1001, 2, 256, 2) 2 2\n",
      "visit 258340449,258340477 -- 13 of 39 -- gain=0.677170, exposure time(s)=3.737000\n",
      "(1001, 256)\n",
      "(1001, 2, 256, 2) 2 2\n",
      "visit 258340511,258340542 -- 14 of 39 -- gain=0.648083, exposure time(s)=4.982000\n",
      "(1001, 256)\n",
      "(1001, 2, 256, 2) 2 2\n",
      "visit 258340581,258340618 -- 15 of 39 -- gain=0.233566, exposure time(s)=6.673000\n",
      "(1001, 256)\n",
      "(1001, 2, 256, 2) 2 2\n",
      "visit 258340662,258340707 -- 16 of 39 -- gain=0.647796, exposure time(s)=8.897000\n",
      "(1001, 256)\n",
      "(1001, 2, 256, 2) 2 2\n",
      "visit 258340758,258340811 -- 17 of 39 -- gain=0.692997, exposure time(s)=11.567000\n",
      "(1001, 256)\n",
      "(1001, 2, 256, 2) 2 2\n",
      "visit 258340873,258340939 -- 18 of 39 -- gain=0.699653, exposure time(s)=16.016000\n",
      "(1001, 256)\n",
      "(1001, 2, 256, 2) 2 2\n",
      "visit 258341017,258341101 -- 19 of 39 -- gain=0.677596, exposure time(s)=21.354000\n",
      "(1001, 256)\n",
      "(1001, 2, 256, 2) 2 2\n",
      "visit 258341198,258341305 -- 20 of 39 -- gain=0.722789, exposure time(s)=28.473000\n",
      "(1001, 256)\n",
      "(1001, 2, 256, 2) 2 2\n",
      "visit 258341426,258341550 -- 21 of 39 -- gain=0.628908, exposure time(s)=37.370000\n",
      "(1001, 256)\n",
      "(1001, 2, 256, 2) 2 2\n",
      "visit 258341693,258341830 -- 22 of 39 -- gain=0.768530, exposure time(s)=49.827000\n",
      "(1001, 256)\n",
      "(1001, 2, 256, 2) 2 2\n",
      "visit 258341990,258342143 -- 23 of 39 -- gain=0.726714, exposure time(s)=66.733000\n",
      "(1001, 256)\n",
      "(1001, 2, 256, 2) 2 2\n",
      "visit 258342307,258342465 -- 24 of 39 -- gain=0.347254, exposure time(s)=71.182000\n",
      "(1001, 256)\n",
      "(1001, 2, 256, 2) 2 2\n",
      "visit 258342632,258342795 -- 25 of 39 -- gain=0.367290, exposure time(s)=75.631000\n",
      "(1001, 256)\n",
      "(1001, 2, 256, 2) 2 2\n",
      "visit 258342968,258343136 -- 26 of 39 -- gain=0.687165, exposure time(s)=80.080000\n",
      "(1001, 256)\n",
      "(1001, 2, 256, 2) 2 2\n",
      "visit 258343313,258343485 -- 27 of 39 -- gain=0.323765, exposure time(s)=84.529000\n",
      "(1001, 256)\n",
      "(1001, 2, 256, 2) 2 2\n",
      "visit 258343670,258343846 -- 28 of 39 -- gain=0.463031, exposure time(s)=88.978000\n",
      "(1001, 256)\n",
      "(1001, 2, 256, 2) 2 2\n",
      "visit 258344037,258344222 -- 29 of 39 -- gain=0.592886, exposure time(s)=97.876000\n",
      "(1001, 256)\n",
      "(1001, 2, 256, 2) 2 2\n",
      "visit 258344422,258344616 -- 30 of 39 -- gain=0.847567, exposure time(s)=106.774000\n",
      "(1001, 256)\n",
      "(1001, 2, 256, 2) 2 2\n",
      "visit 258344826,258345029 -- 31 of 39 -- gain=0.805952, exposure time(s)=115.671000\n",
      "(1001, 256)\n",
      "(1001, 2, 256, 2) 2 2\n",
      "visit 258345246,258345458 -- 32 of 39 -- gain=0.889651, exposure time(s)=124.569000\n",
      "(1001, 256)\n",
      "(1001, 2, 256, 2) 2 2\n",
      "visit 258345684,258345905 -- 33 of 39 -- gain=0.917685, exposure time(s)=133.467000\n",
      "(1001, 256)\n",
      "(1001, 2, 256, 2) 2 2\n",
      "visit 258346139,258346369 -- 34 of 39 -- gain=0.863922, exposure time(s)=142.365000\n",
      "(1001, 256)\n",
      "(1001, 2, 256, 2) 2 2\n",
      "visit 258346613,258346852 -- 35 of 39 -- gain=0.199019, exposure time(s)=151.263000\n",
      "(1001, 256)\n",
      "(1001, 2, 256, 2) 2 2\n",
      "visit 258347105,258347351 -- 36 of 39 -- gain=0.822712, exposure time(s)=160.161000\n",
      "(1001, 256)\n",
      "(1001, 2, 256, 2) 2 2\n",
      "visit 258347613,258347868 -- 37 of 39 -- gain=2.483699, exposure time(s)=169.058000\n",
      "(1001, 256)\n",
      "(1001, 2, 256, 2) 2 2\n",
      "visit 258348138,258348402 -- 38 of 39 -- gain=2.533445, exposure time(s)=177.956000\n",
      "(1001, 256)\n",
      "(1001, 2, 256, 2) 2 2\n",
      "visit 258348695,258348982 -- 39 of 39 -- gain=44.225351, exposure time(s)=200.201000\n"
     ]
    }
   ],
   "source": [
    "BOOTCAMP_REPO_DIR= '/project/bootcamp/repo_RTM-007/'\n",
    "butler = Butler(BOOTCAMP_REPO_DIR)\n",
    "visits = butler.queryMetadata('raw', ['visit'], dataId={'imageType': 'FLAT', 'testType': 'FLAT'})\n",
    "ogain = {}\n",
    "gain = {}\n",
    "mgain = {}\n",
    "exp_time = {}\n",
    "\n",
    "i = 1\n",
    "for visit1, visit2 in zip(visits[:-1:2], visits[1::2]): # loop over pairs of images\n",
    "    # Get ISR data for first image\n",
    "    dId = {'visit': visit1, 'detector': 2}\n",
    "    raw1 = butler.get('raw', **dId)\n",
    "    bias1 = butler.get('bias', **dId)\n",
    "    time1 = raw1.getInfo().getVisitInfo().getExposureTime()\n",
    "    \n",
    "    # Get ISR data for second image\n",
    "    dId = {'visit': visit2, 'detector': 2}\n",
    "    raw2 = butler.get('raw', **dId)\n",
    "    bias2 = butler.get('bias', **dId)\n",
    "    time2 = raw2.getInfo().getVisitInfo().getExposureTime()\n",
    "    if abs(time1 - time2) > 0.01:\n",
    "        \"Mismatched exptimes\"\n",
    "        continue\n",
    "    \n",
    "    # run ISR on both images\n",
    "    result1 = isr.run(raw1, bias=bias1)\n",
    "    result2 = isr.run(raw2, bias=bias2)\n",
    "    \n",
    "    detector = result1.exposure.getDetector()\n",
    "    amp = detector[3]\n",
    "\n",
    "    sub_im1 = result1.exposure.getMaskedImage()[amp.getBBox()]\n",
    "    #arr1 = sub_im1.getImage().getArray()\n",
    "    sub_im2 = result2.exposure.getMaskedImage()[amp.getBBox()]\n",
    "    #arr2 = sub_im2.getImage().getArray()\n",
    "    \n",
    "    # From RHL, 1/g = <(I1-I2)**2/(I1+I2)>\n",
    "    diff_im = sub_im1.clone()\n",
    "    diff_im -= sub_im2\n",
    "    \n",
    "    sum_im = sub_im1.clone()\n",
    "    sum_im += sub_im2\n",
    "    \n",
    "    diff_im *= diff_im\n",
    "    diff_im /= sum_im\n",
    "\n",
    "    stats = afwMath.makeStatistics(diff_im, afwMath.MEDIAN | afwMath.MEAN)\n",
    "    diff_im_np = diff_im.getImage().getArray()\n",
    "    diff_im_binned = rebin(diff_im_np,(int(diff_im_np.shape[0]/2),int(diff_im_np.shape[1]/2)))\n",
    "\n",
    "    # Compute gain for this amp.\n",
    "\n",
    "    ogain[visit1] = 1/stats.getValue(afwMath.MEAN)\n",
    "    gain[visit1] = 1/numpy.mean(diff_im_binned)\n",
    "    mgain[visit1] = 1/numpy.median(diff_im_binned)\n",
    "    exp_time[visit1] = time1\n",
    "    print(\"visit %i,%i -- %i of %i -- gain=%f, exposure time(s)=%f\"%(visit1, visit2, i, len(visits)/2, gain[visit1], exp_time[visit1], ))\n",
    "    i += 1\n",
    "    "
   ]
  },
  {
   "cell_type": "code",
   "execution_count": 41,
   "metadata": {},
   "outputs": [
    {
     "data": {
      "text/plain": [
       "[]"
      ]
     },
     "execution_count": 41,
     "metadata": {},
     "output_type": "execute_result"
    },
    {
     "data": {
      "image/png": "[encoded data removed]",
      "text/plain": [
       "<Figure size 720x480 with 1 Axes>"
      ]
     },
     "metadata": {
      "needs_background": "light"
     },
     "output_type": "display_data"
    }
   ],
   "source": [
    "exptime = numpy.array([exp_time[visit] for visit in exp_time.keys()])\n",
    "plt.scatter(exptime*1.1, [gain[visit] for visit in gain.keys()],label=\"mean binned\")\n",
    "plt.scatter(exptime, [mgain[visit] for visit in gain.keys()], label=\"median binned\")\n",
    "plt.scatter(exptime*0.9, [ogain[visit] for visit in gain.keys()],label=\"mean original\")\n",
    "plt.legend()\n",
    "plt.ylim(0, 1)\n",
    "plt.semilogx()"
   ]
  },
  {
   "cell_type": "code",
   "execution_count": 43,
   "metadata": {},
   "outputs": [
    {
     "data": {
      "text/plain": [
       "(1001, 256)"
      ]
     },
     "execution_count": 43,
     "metadata": {},
     "output_type": "execute_result"
    }
   ],
   "source": [
    "diff_im_binned.shape"
   ]
  }
 ],
 "metadata": {
  "kernelspec": {
   "display_name": "LSST",
   "language": "python",
   "name": "lsst"
  },
  "language_info": {
   "codemirror_mode": {
    "name": "ipython",
    "version": 3
   },
   "file_extension": ".py",
   "mimetype": "text/x-python",
   "name": "python",
   "nbconvert_exporter": "python",
   "pygments_lexer": "ipython3",
   "version": "3.6.6"
  }
 },
 "nbformat": 4,
 "nbformat_minor": 2
}
