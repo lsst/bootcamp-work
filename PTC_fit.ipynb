{
 "cells": [
  {
   "cell_type": "markdown",
   "metadata": {},
   "source": [
    "### PTC Fitting\n",
    "This notebook is a modified version of Simon's welcome_to_PTC.ipynb, preserving the parts that access the data, but adding a more detailed evaluation of the parameters of the resulting Photon Transfer Curve."
   ]
  },
  {
   "cell_type": "markdown",
   "metadata": {},
   "source": [
    "### Imports"
   ]
  },
  {
   "cell_type": "code",
   "execution_count": 1,
   "metadata": {},
   "outputs": [],
   "source": [
    "%matplotlib inline\n",
    "\n",
    "# system imports\n",
    "from matplotlib import pylab as plt\n",
    "import numpy\n",
    "import os\n",
    "import scipy.optimize\n",
    "from copy import deepcopy\n",
    "\n",
    "# LSST stack imports\n",
    "from lsst.daf.persistence import Butler\n",
    "#import lsst.afw.display as afwDisplay\n",
    "from lsst.ip.isr import IsrTask\n",
    "import lsst.afw.math as afwMath"
   ]
  },
  {
   "cell_type": "code",
   "execution_count": 2,
   "metadata": {},
   "outputs": [],
   "source": [
    "import matplotlib\n",
    "matplotlib.rcParams['figure.dpi'] = 120"
   ]
  },
  {
   "cell_type": "markdown",
   "metadata": {},
   "source": [
    "This notebook requires the package `obs_lsst`, which is not currently distributed in the LSP. If the following cell raises an exception, see the instructions in `welcome_to_FE55.ipynb`."
   ]
  },
  {
   "cell_type": "code",
   "execution_count": 3,
   "metadata": {},
   "outputs": [],
   "source": [
    "import eups\n",
    "assert eups.getSetupVersion(\"obs_lsst\")"
   ]
  },
  {
   "cell_type": "code",
   "execution_count": 4,
   "metadata": {},
   "outputs": [],
   "source": [
    "# Define the model for the PTC curve and a function to optimize"
   ]
  },
  {
   "cell_type": "code",
   "execution_count": 5,
   "metadata": {},
   "outputs": [],
   "source": [
    "def ptc_func(pars, x):\n",
    "    \"\"\"\n",
    "    Model for variance vs mean.\n",
    "    See Astier et al.\n",
    "    \"\"\"\n",
    "    a00, gain, intcpt = pars\n",
    "    return 0.5/(a00*gain*gain)*(1 - numpy.exp(-2*a00*x*gain)) + intcpt/(gain*gain)"
   ]
  },
  {
   "cell_type": "code",
   "execution_count": 6,
   "metadata": {},
   "outputs": [],
   "source": [
    "def residuals(pars, x, y):\n",
    "    \"Residuals function for least-squares fit of PTC curve.\"\n",
    "    a00, gain, intcpt = pars\n",
    "    return (y - ptc_func(pars, x))/numpy.sqrt(y)"
   ]
  },
  {
   "cell_type": "markdown",
   "metadata": {},
   "source": [
    "### Set up the config for the ISR task.  This essentially turns off all processing other than overscan and bias correction."
   ]
  },
  {
   "cell_type": "code",
   "execution_count": 7,
   "metadata": {},
   "outputs": [],
   "source": [
    "isr_config = IsrTask.ConfigClass()\n",
    "\n",
    "isr_config.doDark=False\n",
    "isr_config.doFlat=False\n",
    "isr_config.doFringe=False\n",
    "isr_config.doDefect=False\n",
    "isr_config.doAddDistortionModel=False\n",
    "isr_config.doLinearize=False\n",
    "isr_config.doSaturationInterpolation=False"
   ]
  },
  {
   "cell_type": "markdown",
   "metadata": {},
   "source": [
    "### Construct the `IsrTask` with the above configuration"
   ]
  },
  {
   "cell_type": "code",
   "execution_count": 8,
   "metadata": {},
   "outputs": [],
   "source": [
    "isr = IsrTask(config=isr_config)"
   ]
  },
  {
   "cell_type": "code",
   "execution_count": 9,
   "metadata": {},
   "outputs": [
    {
     "name": "stdout",
     "output_type": "stream",
     "text": [
      "visit 258339739,258339769 -- 1 of 39 -- mean=91.904087\n",
      "visit 258339807,258339839 -- 2 of 39 -- mean=122.637264\n",
      "visit 258339875,258339908 -- 3 of 39 -- mean=180.398270\n",
      "visit 258339945,258339976 -- 4 of 39 -- mean=236.103258\n",
      "visit 258340014,258340047 -- 5 of 39 -- mean=326.829207\n",
      "visit 258340086,258340120 -- 6 of 39 -- mean=566.379527\n",
      "visit 258340159,258340176 -- 7 of 39 -- mean=768.134973\n",
      "visit 258340202,258340220 -- 8 of 39 -- mean=1036.040064\n",
      "visit 258340244,258340265 -- 9 of 39 -- mean=1347.095688\n",
      "visit 258340290,258340314 -- 10 of 39 -- mean=1895.751761\n",
      "visit 258340341,258340363 -- 11 of 39 -- mean=2484.367278\n",
      "visit 258340392,258340416 -- 12 of 39 -- mean=3331.440980\n",
      "visit 258340449,258340477 -- 13 of 39 -- mean=4398.578437\n",
      "visit 258340511,258340542 -- 14 of 39 -- mean=5840.022160\n",
      "visit 258340581,258340618 -- 15 of 39 -- mean=7690.708476\n",
      "visit 258340662,258340707 -- 16 of 39 -- mean=10460.930685\n",
      "visit 258340758,258340811 -- 17 of 39 -- mean=13597.041777\n",
      "visit 258340873,258340939 -- 18 of 39 -- mean=18814.662266\n",
      "visit 258341017,258341101 -- 19 of 39 -- mean=25183.348343\n",
      "visit 258341198,258341305 -- 20 of 39 -- mean=33438.930556\n",
      "visit 258341426,258341550 -- 21 of 39 -- mean=43859.533027\n",
      "visit 258341693,258341830 -- 22 of 39 -- mean=58012.180495\n",
      "visit 258341990,258342143 -- 23 of 39 -- mean=78018.200204\n",
      "visit 258342307,258342465 -- 24 of 39 -- mean=83361.644988\n",
      "visit 258342632,258342795 -- 25 of 39 -- mean=87965.246106\n",
      "visit 258342968,258343136 -- 26 of 39 -- mean=93482.594641\n",
      "visit 258343313,258343485 -- 27 of 39 -- mean=99010.884984\n",
      "visit 258343670,258343846 -- 28 of 39 -- mean=104012.279720\n",
      "visit 258344037,258344222 -- 29 of 39 -- mean=114495.758429\n",
      "visit 258344422,258344616 -- 30 of 39 -- mean=124385.827881\n",
      "visit 258344826,258345029 -- 31 of 39 -- mean=134729.819526\n",
      "visit 258345246,258345458 -- 32 of 39 -- mean=145127.856117\n",
      "visit 258345684,258345905 -- 33 of 39 -- mean=155426.261074\n",
      "visit 258346139,258346369 -- 34 of 39 -- mean=165347.652971\n",
      "visit 258346613,258346852 -- 35 of 39 -- mean=176243.882267\n",
      "visit 258347105,258347351 -- 36 of 39 -- mean=185573.240277\n",
      "visit 258347613,258347868 -- 37 of 39 -- mean=195439.895791\n",
      "visit 258348138,258348402 -- 38 of 39 -- mean=205110.602974\n",
      "visit 258348695,258348982 -- 39 of 39 -- mean=211603.912308\n"
     ]
    }
   ],
   "source": [
    "BOOTCAMP_REPO_DIR= '/project/bootcamp/repo_RTM-007/'\n",
    "butler = Butler(BOOTCAMP_REPO_DIR)\n",
    "visits = butler.queryMetadata('raw', ['visit'], dataId={'imageType': 'FLAT', 'testType': 'FLAT'})\n",
    "mean = {}\n",
    "var = {}\n",
    "exp_time = {}\n",
    "\n",
    "i = 1\n",
    "for visit1, visit2 in zip(visits[:-1:2], visits[1::2]): # loop over pairs of images\n",
    "    # Get ISR data for first image\n",
    "    dId = {'visit': visit1, 'detector': 2}\n",
    "    raw1 = butler.get('raw', **dId)\n",
    "    bias1 = butler.get('bias', **dId)\n",
    "    time1 = raw1.getInfo().getVisitInfo().getExposureTime()\n",
    "    \n",
    "    # Get ISR data for second image\n",
    "    dId = {'visit': visit2, 'detector': 2}\n",
    "    raw2 = butler.get('raw', **dId)\n",
    "    bias2 = butler.get('bias', **dId)\n",
    "    time2 = raw2.getInfo().getVisitInfo().getExposureTime()\n",
    "    if abs(time1 - time2) > 0.01:\n",
    "        \"Mismatched exptimes\"\n",
    "        continue\n",
    "    \n",
    "    # run ISR on both images\n",
    "    result1 = isr.run(raw1, bias=bias1)\n",
    "    result2 = isr.run(raw2, bias=bias2)\n",
    "    \n",
    "    detector = result1.exposure.getDetector()\n",
    "    amp = detector[3]\n",
    "\n",
    "    sub_im1 = result1.exposure.getMaskedImage()[amp.getBBox()]\n",
    "    sub_im2 = result2.exposure.getMaskedImage()[amp.getBBox()]\n",
    "    \n",
    "    diff_im = sub_im1.clone()\n",
    "    \n",
    "    # Scale the second image to have the same mean\n",
    "    im2_scale = sub_im2.clone()\n",
    "    im2_scale *= afwMath.makeStatistics(sub_im1, afwMath.MEAN).getValue()\n",
    "    im2_scale /= afwMath.makeStatistics(sub_im2, afwMath.MEAN).getValue()\n",
    "    diff_im -= im2_scale\n",
    "    \n",
    "    var[visit1] = afwMath.makeStatistics(diff_im, afwMath.VARIANCE).getValue()/2\n",
    "    mean[visit1] = afwMath.makeStatistics(sub_im2, afwMath.MEAN).getValue()\n",
    "    \n",
    "    print(\"visit %i,%i -- %i of %i -- mean=%f\"%(visit1, visit2, i, len(visits)/2, mean[visit1]))\n",
    "    i += 1\n",
    "    "
   ]
  },
  {
   "cell_type": "code",
   "execution_count": 10,
   "metadata": {},
   "outputs": [],
   "source": [
    "### Fit the PTC"
   ]
  },
  {
   "cell_type": "code",
   "execution_count": 11,
   "metadata": {},
   "outputs": [],
   "source": [
    "visit_keys = mean.keys()\n",
    "x = [mean[visit] for visit in visit_keys]\n",
    "y = [var[visit] for visit in visit_keys]"
   ]
  },
  {
   "cell_type": "code",
   "execution_count": 12,
   "metadata": {},
   "outputs": [],
   "source": [
    "# Make an intial guess of the fit parameters\n",
    "pars = 1e-6, 0.3, 0\n",
    "\n",
    "# Refine the guess by selecting all points with mean < 1e5\n",
    "x = numpy.array(x)\n",
    "y = numpy.array(y)\n",
    "index = list(numpy.where(x < 1e5)[0])\n",
    "results = scipy.optimize.leastsq(residuals, pars, full_output=1, args=(x[index],y[index]))"
   ]
  },
  {
   "cell_type": "code",
   "execution_count": 13,
   "metadata": {},
   "outputs": [],
   "source": [
    "# Set up parameters for an iterative fit, throwing out the points more than sig_cut from the fit\n",
    "pars = (results[:2][0][0], results[:2][0][1], results[:2][0][2])\n",
    "index_old = []\n",
    "count = 1\n",
    "sig_cut = 5"
   ]
  },
  {
   "cell_type": "code",
   "execution_count": 14,
   "metadata": {},
   "outputs": [],
   "source": [
    "while index != index_old and count < 10:\n",
    "    results = scipy.optimize.leastsq(residuals, pars, full_output=1,\n",
    "                                     args=(x[index], y[index]))\n",
    "    sig_resids = (y - ptc_func(pars, x))/numpy.sqrt(y)\n",
    "    index_old = deepcopy(index)\n",
    "    index = list(numpy.where(numpy.abs(sig_resids) < sig_cut)[0])\n",
    "    pars, cov = results[:2]\n",
    "    count += 1\n",
    "\n",
    "ptc_a00 = pars[0]\n",
    "ptc_a00_error = numpy.sqrt(cov[0][0])\n",
    "ptc_gain = pars[1]\n",
    "ptc_error = numpy.sqrt(cov[1][1])\n",
    "ptc_noise = numpy.sqrt(pars[2])\n",
    "ptc_noise_error = 0.5/ptc_noise*numpy.sqrt(cov[2][2])\n",
    "# Cannot assume that the mean values are sorted\n",
    "ptc_turnoff = max(x[index])"
   ]
  },
  {
   "cell_type": "code",
   "execution_count": 15,
   "metadata": {},
   "outputs": [
    {
     "name": "stdout",
     "output_type": "stream",
     "text": [
      "Amplifier:  C13\n",
      "Brighter-fatter k: 2.84e-06 +/- 4.20e-08\n",
      "Gain (e-/ADU):      0.680 +/-  0.002\n",
      "Noise (e-):         4.662 +/-  0.350\n",
      "PTC turnoff (ADU): 1.45e+05\n"
     ]
    }
   ],
   "source": [
    "print('Amplifier:  ' + amp['name'])\n",
    "print('Brighter-fatter k: %6.2e +/- %6.2e' % (ptc_a00, ptc_a00_error))\n",
    "print('Gain (e-/ADU):     %6.3f +/- %6.3f' % (ptc_gain, ptc_error))\n",
    "print('Noise (e-):        %6.3f +/- %6.3f' % (ptc_noise, ptc_noise_error))\n",
    "print('PTC turnoff (ADU): %6.2e' % ptc_turnoff)"
   ]
  },
  {
   "cell_type": "code",
   "execution_count": 16,
   "metadata": {},
   "outputs": [
    {
     "data": {
      "text/plain": [
       "[<matplotlib.lines.Line2D at 0x7f5830250550>]"
      ]
     },
     "execution_count": 16,
     "metadata": {},
     "output_type": "execute_result"
    },
    {
     "data": {
      "image/png": "[encoded data removed]",
      "text/plain": [
       "<Figure size 720x480 with 1 Axes>"
      ]
     },
     "metadata": {
      "needs_background": "light"
     },
     "output_type": "display_data"
    }
   ],
   "source": [
    "plt.scatter(x, y)\n",
    "plt.plot(x, ptc_func(pars, x),color='red')\n",
    "plt.xlabel('Mean (ADU)')\n",
    "plt.ylabel('Variance (ADU^2)')\n",
    "plt.xscale('log')\n",
    "plt.yscale('log')\n",
    "plt.title(amp['name'])\n",
    "plt.plot([ptc_turnoff,ptc_turnoff],[numpy.min(y[index]), numpy.max(y[index])],'k:')"
   ]
  },
  {
   "cell_type": "code",
   "execution_count": 17,
   "metadata": {},
   "outputs": [
    {
     "data": {
      "text/plain": [
       "[<matplotlib.lines.Line2D at 0x7f58336127b8>]"
      ]
     },
     "execution_count": 17,
     "metadata": {},
     "output_type": "execute_result"
    },
    {
     "data": {
      "image/png": "[encoded data removed]",
      "text/plain": [
       "<Figure size 720x480 with 1 Axes>"
      ]
     },
     "metadata": {
      "needs_background": "light"
     },
     "output_type": "display_data"
    }
   ],
   "source": [
    "plt.scatter(x,residuals(pars, x, y))\n",
    "plt.xlabel('Mean (ADU)')\n",
    "plt.ylabel('Residuals (sigma)')\n",
    "plt.xscale('log')\n",
    "plt.ylim([-10,10])\n",
    "plt.title(amp['name'])\n",
    "plt.plot([60, 3e5],[0,0], 'k-')"
   ]
  }
 ],
 "metadata": {
  "kernelspec": {
   "display_name": "LSST",
   "language": "python",
   "name": "lsst"
  },
  "language_info": {
   "codemirror_mode": {
    "name": "ipython",
    "version": 3
   },
   "file_extension": ".py",
   "mimetype": "text/x-python",
   "name": "python",
   "nbconvert_exporter": "python",
   "pygments_lexer": "ipython3",
   "version": "3.6.6"
  }
 },
 "nbformat": 4,
 "nbformat_minor": 2
}
