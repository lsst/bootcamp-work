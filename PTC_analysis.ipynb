{
 "cells": [
  {
   "cell_type": "markdown",
   "metadata": {},
   "source": [
    "# PTC analysis using the DM Software Stack\n",
    "\n",
    "In this notebook we compare three ways of measuring gains:\n",
    "* The formula used in the `welcome_to_PTC.ipynb`\n",
    "* Directly from the slopes of PTC's\n",
    "* From EO Test"
   ]
  },
  {
   "cell_type": "markdown",
   "metadata": {},
   "source": [
    "### Imports"
   ]
  },
  {
   "cell_type": "code",
   "execution_count": null,
   "metadata": {},
   "outputs": [],
   "source": [
    "%matplotlib inline\n",
    "\n",
    "# system imports\n",
    "from matplotlib import pylab as plt\n",
    "import numpy as np\n",
    "import os\n",
    "from scipy import optimize\n",
    "\n",
    "from astropy.table import Table\n",
    "\n",
    "# LSST stack imports\n",
    "from lsst.daf.persistence import Butler\n",
    "import lsst.afw.display as afwDisplay\n",
    "from lsst.ip.isr import IsrTask\n",
    "import lsst.afw.math as afwMath\n",
    "\n",
    "\n",
    "# Firefly client imports\n",
    "from IPython.display import IFrame"
   ]
  },
  {
   "cell_type": "code",
   "execution_count": null,
   "metadata": {},
   "outputs": [],
   "source": [
    "import matplotlib\n",
    "matplotlib.rcParams['figure.dpi'] = 120"
   ]
  },
  {
   "cell_type": "markdown",
   "metadata": {},
   "source": [
    "This notebook requires the package `obs_lsst`, which is not currently distributed in the LSP. If the following cell raises an exception, see the instructions in `welcome_to_FE55.ipynb`."
   ]
  },
  {
   "cell_type": "code",
   "execution_count": null,
   "metadata": {},
   "outputs": [],
   "source": [
    "import eups\n",
    "assert eups.getSetupVersion(\"obs_lsst\")"
   ]
  },
  {
   "cell_type": "markdown",
   "metadata": {},
   "source": [
    "### Set up the config for the ISR task.  This essentially turns off all processing other than overscan and bias correction."
   ]
  },
  {
   "cell_type": "code",
   "execution_count": null,
   "metadata": {},
   "outputs": [],
   "source": [
    "isr_config = IsrTask.ConfigClass()\n",
    "\n",
    "isr_config.doDark=False\n",
    "isr_config.doFlat=False\n",
    "isr_config.doFringe=False\n",
    "isr_config.doDefect=False\n",
    "isr_config.doAddDistortionModel=False\n",
    "isr_config.doLinearize=False\n",
    "isr_config.doSaturationInterpolation=False"
   ]
  },
  {
   "cell_type": "markdown",
   "metadata": {},
   "source": [
    "### Construct the `IsrTask` with the above configuration"
   ]
  },
  {
   "cell_type": "code",
   "execution_count": null,
   "metadata": {},
   "outputs": [],
   "source": [
    "isr = IsrTask(config=isr_config)"
   ]
  },
  {
   "cell_type": "markdown",
   "metadata": {},
   "source": [
    "### Setup firefly to do image visualization"
   ]
  },
  {
   "cell_type": "code",
   "execution_count": null,
   "metadata": {},
   "outputs": [],
   "source": [
    "my_channel = '{}_test_channel'.format(os.environ['USER'])\n",
    "server = 'https://lsst-lspdev.ncsa.illinois.edu'\n",
    "\n",
    "\n",
    "ff='{}/firefly/slate.html?__wsch={}'.format(server, my_channel)\n",
    "IFrame(ff,800,600)\n",
    "\n",
    "afwDisplay.setDefaultBackend('firefly')\n",
    "afw_display = afwDisplay.getDisplay(frame=1, \n",
    "                                    name=my_channel)"
   ]
  },
  {
   "cell_type": "code",
   "execution_count": null,
   "metadata": {},
   "outputs": [],
   "source": [
    "#For a chosen sensor, it is sometimes useful to know the name associated with the index\n",
    "sensor_num = 0\n",
    "sensor_names = ['S00', 'S01', 'S02', 'S10', 'S11', 'S12', 'S20', 'S21', 'S22']\n",
    "sensor_name = sensor_names[sensor_num]"
   ]
  },
  {
   "cell_type": "markdown",
   "metadata": {},
   "source": [
    "## Calculate information for all amps on a given sensor \n",
    "\n",
    "The function below will calculate means, variances, and gains for all flat image pairs in a specified repo"
   ]
  },
  {
   "cell_type": "code",
   "execution_count": null,
   "metadata": {},
   "outputs": [],
   "source": [
    "def calculate_gains_full(rtm_path, sensor_num):\n",
    "    \n",
    "    '''\n",
    "    @params\n",
    "    -----\n",
    "    rtm_path:   <str> Path to data repo for a certain raft\n",
    "    sensor_num: <int> CCD number, must be in range(9)\n",
    "    \n",
    "    @returns\n",
    "    -----\n",
    "    results: <array>, shape=(n_visits / 2, 16)\n",
    "                      elements: [('visit1', 'int'), ('visit2', 'int'), ('index', 'int'), \n",
    "                                 ('gain', 'f4'), ('exp_time', 'f4'), ('mean', 'f4'), \n",
    "                                 ('variance', 'f4')]\n",
    "    \n",
    "    '''\n",
    "    # Initialize empty dictionaries for storing calculations\n",
    "    gain, exp_time = {}, {}\n",
    "    \n",
    "    # Instantiate a butler and get individual exposures\n",
    "    butler = Butler(rtm_path)\n",
    "    visits = butler.queryMetadata('raw', ['visit'], dataId={'imageType': 'FLAT', 'testType': 'FLAT'}) ## what is 'testType' ??\n",
    "    \n",
    "    # Instantiate an empty array for storing all calculations\n",
    "    nn = int(len(visits) / 2)\n",
    "    results = np.empty((nn, 16), dtype=[('visit1', 'int'), ('visit2', 'int'), ('index', 'int'), ('gain', 'f4'), ('exp_time', 'f4'), ('mean', 'f4'), ('variance', 'f4')])\n",
    "    \n",
    "    # Loop over all visit pairs to calculate gains\n",
    "    i = 0\n",
    "    ## Assuming pairs are visits listed one after another\n",
    "    for visit1, visit2 in zip(visits[:-1:2], visits[1::2]): # loop over pairs of images\n",
    "        # Get ISR data for first image\n",
    "        dId = {'visit': visit1, 'detector': sensor_num}\n",
    "        raw1 = butler.get('raw', **dId)\n",
    "        bias1 = butler.get('bias', **dId)\n",
    "        time1 = raw1.getInfo().getVisitInfo().getExposureTime()\n",
    "\n",
    "        # Get ISR data for second image\n",
    "        dId = {'visit': visit2, 'detector': sensor_num}\n",
    "        raw2 = butler.get('raw', **dId)\n",
    "        bias2 = butler.get('bias', **dId)\n",
    "        time2 = raw2.getInfo().getVisitInfo().getExposureTime()\n",
    "        if abs(time1 - time2) > 0.01:\n",
    "            \"Mismatched exptimes\"\n",
    "            continue\n",
    "\n",
    "        # run ISR on both images\n",
    "        result1 = isr.run(raw1, bias=bias1)\n",
    "        result2 = isr.run(raw2, bias=bias2)\n",
    "\n",
    "        detector = result1.exposure.getDetector()\n",
    "        \n",
    "        #Initialize gain and exptime dictionaries with empty lists\n",
    "        gain[visit1] = []\n",
    "        exp_time[visit1] = []        \n",
    "        \n",
    "        # Loop over all the amps\n",
    "        for hduidx in range(16):\n",
    "            # Select amp\n",
    "            amp = detector[hduidx]\n",
    "\n",
    "            sub_im1 = result1.exposure.getMaskedImage()[amp.getBBox()]\n",
    "            arr1 = sub_im1.getImage().getArray()\n",
    "            sub_im2 = result2.exposure.getMaskedImage()[amp.getBBox()]\n",
    "            arr2 = sub_im2.getImage().getArray()\n",
    "            \n",
    "            #Scale arr2 to have the same mean as arr1\n",
    "            scaled_arr2 = arr2 / np.mean(arr2) * np.mean(arr1)\n",
    "            #Get difference between the flats\n",
    "            \n",
    "            diff = arr1 - scaled_arr2\n",
    "\n",
    "            # From RHL, 1/g = <(I1-I2)**2/(I1+I2)>\n",
    "            diff_im = sub_im1.clone()\n",
    "            diff_im -= sub_im2\n",
    "\n",
    "            sum_im = sub_im1.clone()\n",
    "            sum_im += sub_im2\n",
    "\n",
    "            diff_im *= diff_im\n",
    "            diff_im /= sum_im\n",
    "\n",
    "            stats = afwMath.makeStatistics(diff_im, afwMath.MEDIAN | afwMath.MEAN)\n",
    "            # Compute gain for this amp.\n",
    "            gain[visit1].append(1/stats.getValue(afwMath.MEAN))\n",
    "            exp_time[visit1].append(time1)\n",
    "            \n",
    "            #Output all results\n",
    "            results[i,hduidx]['visit1'] = visit1\n",
    "            results[i,hduidx]['visit2'] = visit2\n",
    "            results[i,hduidx]['index'] = i\n",
    "            results[i,hduidx]['gain'] = gain[visit1][hduidx]\n",
    "            results[i,hduidx]['exp_time'] = exp_time[visit1][hduidx]\n",
    "            results[i,hduidx]['mean'] = np.mean(arr1)\n",
    "            results[i,hduidx]['variance'] = np.var(diff) / 2.\n",
    "            \n",
    "                    \n",
    "        print(i+1, ' of %i' %nn)\n",
    "        i += 1    \n",
    "        \n",
    "    return results"
   ]
  },
  {
   "cell_type": "code",
   "execution_count": null,
   "metadata": {},
   "outputs": [],
   "source": [
    "# Set the target data repo -- use raft 7\n",
    "rtm_path = '/project/bootcamp/repo_RTM-007/'\n",
    "\n",
    "# Set the target sensor or loop over all sensors -- use sensor 0\n",
    "ccd_data = []\n",
    "#for ccd_num in range(1):\n",
    "#    ccd_data.append(calculate_gains_full(rtm_path, ccd_num))\n",
    "ccd_data.append(calculate_gains_full(rtm_path, 0))"
   ]
  },
  {
   "cell_type": "markdown",
   "metadata": {},
   "source": [
    "The variable `ccd_data` is a list with 9 elements, one for each ccd. Each element is a (39 x 16) array of information about that ccd. For example, you can access the data a given amp on a given ccd via the following code:"
   ]
  },
  {
   "cell_type": "code",
   "execution_count": null,
   "metadata": {},
   "outputs": [],
   "source": [
    "ccd = 0   #0-8\n",
    "amp = 0   #0-15\n",
    "\n",
    "print('Sensor: %i   Amp: %i' %(ccd, amp))\n",
    "print('[Visit 1, Visit2, Index, Gain, Exp Time, Mean, Variance]')\n",
    "print(ccd_data[ccd][:,amp])\n"
   ]
  },
  {
   "cell_type": "markdown",
   "metadata": {},
   "source": [
    "Now for a given ccd, we can plot the PTC's and the gain distributions for each amp as follows:"
   ]
  },
  {
   "cell_type": "code",
   "execution_count": null,
   "metadata": {},
   "outputs": [],
   "source": [
    "def plot_PTC(ccd_data, ccd_num):\n",
    "    gain_calcs = []\n",
    "    \n",
    "    powerlaw = lambda x, amp, index: amp * (x**index)\n",
    "    \n",
    "    means, variances = [], []\n",
    "    for amp in range(16):\n",
    "        means.append([x[5] for x in ccd_data[ccd_num][:,amp]])\n",
    "        variances.append([x[6] for x in ccd_data[ccd_num][:,amp]])\n",
    "        \n",
    "    fig, axs = plt.subplots(4,4, figsize=(15, 15))\n",
    "\n",
    "    axs = axs.reshape((16,))\n",
    "\n",
    "    amp_num = 0\n",
    "    for ax in axs:\n",
    "        ax.scatter(means[amp_num], variances[amp_num], s=4)\n",
    "        ax.text(0.1, 0.9, 'Amp %i' %amp_num, transform = ax.transAxes)\n",
    "        \n",
    "        #fit a power law cropping off the last 8 points to avoid saturation\n",
    "        logx = np.log10(means[amp_num][:-15])\n",
    "        logy = np.log10(variances[amp_num][:-15])\n",
    "        logyerr = 0.1 / np.asarray(variances[amp_num][:-15])\n",
    "        fitfunc = lambda p, x: p[0] + p[1] * x\n",
    "        errfunc = lambda p, x, y, err: (y - fitfunc(p, x)) / err\n",
    "        pinit = [1.0, -1.0]\n",
    "        out = optimize.leastsq(errfunc, pinit, args=(logx, logy, logyerr), full_output=1)\n",
    "        pfinal = out[0]\n",
    "        covar = out[1]\n",
    "        index = pfinal[1]\n",
    "        amp = 10.0**pfinal[0]\n",
    "        ax.plot(means[amp_num], powerlaw(means[amp_num], amp, index), ls='--', color='black', lw=1)\n",
    "        \n",
    "        #get y-int for read noise\n",
    "        yint = amp\n",
    "        slope = index\n",
    "        ax.text(0.1, 0.8, 'Intercept = %.2f' %yint, transform = ax.transAxes)\n",
    "        #ax.text(0.1, 0.7, 'Gain %.2f' %(1. / slope), transform = ax.transAxes)\n",
    "        \n",
    "        #fit a quadratic leaving off the last three points\n",
    "        quad_fit = np.polyfit(np.asarray(means[amp_num][:-3]), np.asarray(variances[amp_num][:-3]), 2)\n",
    "        quad = np.poly1d(quad_fit)\n",
    "        ax.plot(means[amp_num], quad(means[amp_num]), ls='--', color='red', lw=1)\n",
    "        quad_int = quad(0.0)\n",
    "        \n",
    "        #fit a line leaving off the last three points\n",
    "        line_fit = np.polyfit(np.asarray(means[amp_num][6:-15]), np.asarray(variances[amp_num][6:-15]), 1)\n",
    "        line = np.poly1d(line_fit)\n",
    "        ax.plot(means[amp_num], line(means[amp_num]), ls='--', color='magenta', lw=1)\n",
    "        line_int = line(0.0)\n",
    "        gain_calc = 1.0 / line_fit[0]\n",
    "        \n",
    "        gain_calcs.append(gain_calc)\n",
    "        \n",
    "        #print(\"Amp %i -- Intercepts: linear %4.4f   quadratic %4.4f    power-law %4.4f\" %(amp_num, line_int, quad_int, yint))\n",
    "        \n",
    "        amp_num += 1\n",
    "\n",
    "    #plt.xlabel(\"Mean = (M1 + M2) / 2\")\n",
    "    #plt.ylabel(\"Variance = STD(DIFF) ** 2 / 2\")\n",
    "    plt.show() \n",
    "    \n",
    "    return gain_calcs\n"
   ]
  },
  {
   "cell_type": "markdown",
   "metadata": {},
   "source": [
    "Determine the gains from the slopes"
   ]
  },
  {
   "cell_type": "code",
   "execution_count": null,
   "metadata": {},
   "outputs": [],
   "source": [
    "ptc_curves = plot_PTC(ccd_data, 0)"
   ]
  },
  {
   "cell_type": "code",
   "execution_count": null,
   "metadata": {},
   "outputs": [],
   "source": [
    "print(ptc_curves)"
   ]
  },
  {
   "cell_type": "markdown",
   "metadata": {},
   "source": [
    "Determine gains from the formula in the notebook, taking the median of all visits"
   ]
  },
  {
   "cell_type": "code",
   "execution_count": null,
   "metadata": {},
   "outputs": [],
   "source": [
    "def plot_gains(ccd_data, ccd_num):\n",
    "    gains = []\n",
    "    meds = []\n",
    "    \n",
    "    for amp in range(16):\n",
    "        gains.append([x[3] for x in ccd_data[ccd_num][:,amp]])\n",
    "    \n",
    "    fig, axs = plt.subplots(4,4, figsize=(15, 15))\n",
    "\n",
    "    axs = axs.reshape((16,))\n",
    "\n",
    "    amp_num = 0\n",
    "    for ax in axs:\n",
    "        med = np.median(gains[amp_num])\n",
    "        meds.append(med)\n",
    "        bins = np.linspace(min(gains[amp_num]), max(gains[amp_num]), 50)\n",
    "        ax.hist(gains[amp_num], bins=bins, alpha=0.5, label='Amp %i' %amp_num)\n",
    "        ax.text(0.6, 0.6, \"Median: %.3f\" %med, transform=ax.transAxes)\n",
    "        ax.set_xlabel(\"Gain\")\n",
    "        ax.legend()    \n",
    "        amp_num += 1\n",
    "\n",
    "    plt.show()\n",
    "    \n",
    "    return meds"
   ]
  },
  {
   "cell_type": "code",
   "execution_count": null,
   "metadata": {},
   "outputs": [],
   "source": [
    "rhl_gains = plot_gains(ccd_data, 0)"
   ]
  },
  {
   "cell_type": "code",
   "execution_count": null,
   "metadata": {},
   "outputs": [],
   "source": [
    "print(rhl_gains)"
   ]
  },
  {
   "cell_type": "markdown",
   "metadata": {},
   "source": [
    "Now get gains from EOTEST"
   ]
  },
  {
   "cell_type": "code",
   "execution_count": null,
   "metadata": {},
   "outputs": [],
   "source": [
    "eo_test_gains = list(Table.read('E2V-CCD250-260_eotest_results.fits')['PTC_GAIN'])\n",
    "print(eo_test_gains)"
   ]
  },
  {
   "cell_type": "markdown",
   "metadata": {},
   "source": [
    "Plot all three methods..."
   ]
  },
  {
   "cell_type": "code",
   "execution_count": null,
   "metadata": {},
   "outputs": [],
   "source": [
    "plt.figure()\n",
    "plt.scatter(range(1,17), rhl_gains, label='Welcome to PTC Method')\n",
    "plt.scatter(range(1,17), ptc_curves, label='PTC Slope')\n",
    "plt.scatter(range(1,17), eo_test_gains, label='EOTEST')\n",
    "plt.xlabel(\"Amp\")\n",
    "plt.ylabel(\"Gain\")\n",
    "plt.legend()\n",
    "plt.show()"
   ]
  },
  {
   "cell_type": "markdown",
   "metadata": {},
   "source": [
    "We are curious why the `Welcome to PTC` method and the `PTC Slope` method appear to be separated by a constant factor.\n",
    "\n",
    "The remainder of this notebook is just scratch work"
   ]
  },
  {
   "cell_type": "markdown",
   "metadata": {},
   "source": [
    "### Plot gain versus exposure time"
   ]
  },
  {
   "cell_type": "code",
   "execution_count": null,
   "metadata": {},
   "outputs": [],
   "source": [
    "def plot_gains_versus_exposure(ccd_data, ccd_num):\n",
    "    gain_means, exps_means, gain_stds, exps_stds = [], [], [], []\n",
    "\n",
    "    for amp in range(16):\n",
    "        gain_means.append(np.mean([x[3] for x in ccd_data[ccd_num][:,amp]]))\n",
    "        exps_means.append(np.mean([x[4] for x in ccd_data[ccd_num][:,amp]]))\n",
    "        gain_stds.append(np.std([x[3] for x in ccd_data[ccd_num][:,amp]]))\n",
    "        exps_stds.append(np.std([x[4] for x in ccd_data[ccd_num][:,amp]]))\n",
    "        \n",
    "    #determine when sensor starts to get saturated\n",
    "    thresh_noise_to_sig = 0.1\n",
    "    noise_to_sig = np.asarray(gain_stds) / np.asarray(gain_means)\n",
    "    sat_start = 0\n",
    "    while sat_start < len(noise_to_sig):\n",
    "        if noise_to_sig[sat_start] > thresh_noise_to_sig:\n",
    "            break\n",
    "        sat_start += 1\n",
    "\n",
    "    plt.figure()\n",
    "    amp_num = 0\n",
    "    while amp_num < 16:\n",
    "        plt.plot(ccd_3_gains[amp_num]['exp_time'], ccd_3_gains[amp_num]['gain'], label='Amp %i' %amp_num, lw=0.3)\n",
    "        amp_num += 1\n",
    "\n",
    "    plt.axvline(x=exps_means[sat_start], color='blue', ls='dashed', lw=2, label='Spread begins')\n",
    "\n",
    "    plt.errorbar(exps_means, gain_means, xerr=exps_stds, yerr=gain_stds, \n",
    "                 fmt='s', markersize=2, color='black', capsize=2, label='Mean $\\pm$ STD')\n",
    "\n",
    "    plt.legend(ncol=2)\n",
    "    plt.xlabel(\"Exposure Time (sec)\")\n",
    "    plt.ylabel(\"Gain (electrons / ADU)\")\n",
    "    plt.title(\"Sensor %i\" %ccd_num)\n",
    "    plt.show()"
   ]
  },
  {
   "cell_type": "code",
   "execution_count": null,
   "metadata": {},
   "outputs": [],
   "source": [
    "plot_gains_versus_exposure(ccd_data, 0)"
   ]
  },
  {
   "cell_type": "code",
   "execution_count": null,
   "metadata": {},
   "outputs": [],
   "source": []
  },
  {
   "cell_type": "code",
   "execution_count": null,
   "metadata": {},
   "outputs": [],
   "source": [
    "#Plot log gain versus log exposure time for all amps\n",
    "fig, (ax1, ax2) = plt.subplots(1,2, figsize=(11,5))\n",
    "\n",
    "amp_num = 0\n",
    "while amp_num < 16:\n",
    "    ax1.loglog(ccd_3_gains[amp_num]['exp_time'], ccd_3_gains[amp_num]['gain'], label='Amp %i' %amp_num, lw=0.3)\n",
    "    ax2.plot(ccd_3_gains[amp_num]['exp_time'], ccd_3_gains[amp_num]['gain'], label='Amp %i' %amp_num, lw=0.3)\n",
    "    amp_num += 1\n",
    "\n",
    "ax1.set_title(\"Sensor 3\")\n",
    "ax1.set_ylabel(\"Gain (electrons / ADU)\")\n",
    "ax1.set_xlabel(\"Exposure Time (sec)\")\n",
    "ax1.legend(ncol=2)\n",
    "ax2.set_title(\"Sensor 3\")\n",
    "ax2.set_ylabel(\"Gain (electrons / ADU)\")\n",
    "ax2.set_xlabel(\"Exposure Time (sec)\")\n",
    "ax2.legend(ncol=2)\n",
    "plt.show()\n"
   ]
  },
  {
   "cell_type": "code",
   "execution_count": null,
   "metadata": {},
   "outputs": [],
   "source": [
    "#Find exposure time at which gain starts to go wild\n",
    "for amp_num in range(16):\n",
    "    gains = sorted(ccd_3_gains[amp_num]['gain'])"
   ]
  },
  {
   "cell_type": "markdown",
   "metadata": {},
   "source": [
    "## End test area"
   ]
  },
  {
   "cell_type": "markdown",
   "metadata": {},
   "source": [
    "# Compare"
   ]
  },
  {
   "cell_type": "code",
   "execution_count": null,
   "metadata": {},
   "outputs": [],
   "source": [
    "eo_test_gains = list(Table.read('E2V-CCD250-260_eotest_results.fits')['PTC_GAIN'])\n",
    "print(eo_test_gains)"
   ]
  },
  {
   "cell_type": "code",
   "execution_count": null,
   "metadata": {},
   "outputs": [],
   "source": [
    "BOOTCAMP_REPO_DIR= '/project/bootcamp/repo_RTM-007/'\n",
    "butler = Butler(BOOTCAMP_REPO_DIR)\n",
    "## butler.getKeys('raw')\n",
    "## help(butler)\n",
    "visits = butler.queryMetadata('raw', ['visit'], dataId={'imageType': 'FLAT', 'testType': 'FLAT'})\n",
    "gain = {}\n",
    "exp_time = {}\n",
    "\n",
    "i = 1\n",
    "for visit1, visit2 in zip(visits[:-1:2], visits[1::2]): # loop over pairs of images\n",
    "    # Get ISR data for first image\n",
    "    dId = {'visit': visit1, 'detector': 2}\n",
    "    raw1 = butler.get('raw', **dId)\n",
    "    bias1 = butler.get('bias', **dId)\n",
    "    time1 = raw1.getInfo().getVisitInfo().getExposureTime()\n",
    "    \n",
    "    # Get ISR data for second image\n",
    "    dId = {'visit': visit2, 'detector': 2}\n",
    "    raw2 = butler.get('raw', **dId)\n",
    "    bias2 = butler.get('bias', **dId)\n",
    "    time2 = raw2.getInfo().getVisitInfo().getExposureTime()\n",
    "    if abs(time1 - time2) > 0.01:\n",
    "        \"Mismatched exptimes\"\n",
    "        continue\n",
    "    \n",
    "    # run ISR on both images\n",
    "    result1 = isr.run(raw1, bias=bias1)\n",
    "    result2 = isr.run(raw2, bias=bias2)\n",
    "    \n",
    "    detector = result1.exposure.getDetector()\n",
    "    amp = detector[3]\n",
    "\n",
    "    sub_im1 = result1.exposure.getMaskedImage()[amp.getBBox()]\n",
    "    #arr1 = sub_im1.getImage().getArray()\n",
    "    sub_im2 = result2.exposure.getMaskedImage()[amp.getBBox()]\n",
    "    #arr2 = sub_im2.getImage().getArray()\n",
    "    \n",
    "    # From RHL, 1/g = <(I1-I2)**2/(I1+I2)>\n",
    "    diff_im = sub_im1.clone()\n",
    "    diff_im -= sub_im2\n",
    "    \n",
    "    sum_im = sub_im1.clone()\n",
    "    sum_im += sub_im2\n",
    "    \n",
    "    diff_im *= diff_im\n",
    "    diff_im /= sum_im\n",
    "    \n",
    "    stats = afwMath.makeStatistics(diff_im, afwMath.MEDIAN | afwMath.MEAN)\n",
    "    # Compute gain for this amp.\n",
    "    gain[visit1] = 1/stats.getValue(afwMath.MEAN)\n",
    "    exp_time[visit1] = time1\n",
    "    print(\"visit %i,%i -- %i of %i -- gain=%f, exposure time(s)=%f\"%(visit1, visit2, i, len(visits)/2, gain[visit1], exp_time[visit1], ))\n",
    "    i += 1"
   ]
  },
  {
   "cell_type": "code",
   "execution_count": null,
   "metadata": {},
   "outputs": [],
   "source": [
    "afw_display.mtv(sub_im1) # display an example image"
   ]
  },
  {
   "cell_type": "code",
   "execution_count": null,
   "metadata": {},
   "outputs": [],
   "source": [
    "visit_keys = exp_time.keys()\n",
    "x = [exp_time[visit] for visit in visit_keys]\n",
    "y = [gain[visit] for visit in visit_keys]"
   ]
  },
  {
   "cell_type": "code",
   "execution_count": null,
   "metadata": {},
   "outputs": [],
   "source": [
    "plt.scatter(x, y)\n",
    "plt.ylim(0, 1)"
   ]
  }
 ],
 "metadata": {
  "kernelspec": {
   "display_name": "LSST",
   "language": "python",
   "name": "lsst"
  },
  "language_info": {
   "codemirror_mode": {
    "name": "ipython",
    "version": 3
   },
   "file_extension": ".py",
   "mimetype": "text/x-python",
   "name": "python",
   "nbconvert_exporter": "python",
   "pygments_lexer": "ipython3",
   "version": "3.6.6"
  }
 },
 "nbformat": 4,
 "nbformat_minor": 2
}
