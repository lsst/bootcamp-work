{
 "cells": [
  {
   "cell_type": "markdown",
   "metadata": {},
   "source": [
    "# Example Fe55 notebook\n",
    "\n",
    "Initially written for the bootcamp at SLAC Nov 2018 by Simon Krughoff"
   ]
  },
  {
   "cell_type": "markdown",
   "metadata": {},
   "source": [
    "### Setup\n",
    "\n",
    "Before running this notebook, you'll need to set up the `obs_lsst` package. Before doing the setup procedure below, you might want to run the notebook until it crashes so you see what the error message looks like.\n",
    "\n",
    "Step-by-step instructions:\n",
    "\n",
    "1. Start a terminal in JupyterLab. In the terminal, setup the Stack with the command `source /opt/lsst/software/stack/loadLSST.bash` and then issue the command `setup lsst_distrib` to allow you to run scons in a subsequent step.\n",
    "\n",
    "2. Create and/or switch into a folder where you want to put your local versions of the LSST Stack (e.g., `~/repos`)\n",
    "\n",
    "Run the following commands\n",
    "\n",
    "```\n",
    "git clone https://github.com/lsst/obs_lsstCam.git\n",
    "cd obs_lsstCam\n",
    "setup -j -r .\n",
    "scons\n",
    "```\n",
    "\n",
    "3. Add `setup -k -r path_to_repos/obs_lsstCam` to `$HOME/notebooks/.user_setups`.\n",
    "\n",
    "4. Restart your kernel.\n",
    "\n",
    "Just for fun, check what version of the Stack you are using. This notebook has been tested on `w_2018_45`."
   ]
  },
  {
   "cell_type": "code",
   "execution_count": 1,
   "metadata": {},
   "outputs": [
    {
     "name": "stdout",
     "output_type": "stream",
     "text": [
      "lsst_distrib          16.0-1-g3bbe181+31 \tcurrent w_2018_45 setup\n"
     ]
    }
   ],
   "source": [
    "! eups list -s | grep lsst_distrib"
   ]
  },
  {
   "cell_type": "markdown",
   "metadata": {},
   "source": [
    "### Imports"
   ]
  },
  {
   "cell_type": "code",
   "execution_count": 2,
   "metadata": {},
   "outputs": [],
   "source": [
    "%matplotlib inline\n",
    "\n",
    "# system imports\n",
    "from matplotlib import pylab as plt\n",
    "from scipy.optimize import leastsq\n",
    "import numpy\n",
    "import os\n",
    "\n",
    "# LSST stack imports\n",
    "from lsst.daf.persistence import Butler\n",
    "import lsst.afw.display as afwDisplay\n",
    "from lsst.ip.isr import IsrTask\n",
    "import lsst.afw.detection as afwDetection\n",
    "\n",
    "\n",
    "# Firefly client imports\n",
    "from firefly_client import FireflyClient\n",
    "from IPython.display import IFrame"
   ]
  },
  {
   "cell_type": "markdown",
   "metadata": {},
   "source": [
    "### Set up the config for the ISR task.  This essentially turns off all processing other than overscan and bias correction."
   ]
  },
  {
   "cell_type": "code",
   "execution_count": 3,
   "metadata": {},
   "outputs": [],
   "source": [
    "isr_config = IsrTask.ConfigClass()\n",
    "\n",
    "isr_config.doDark=False\n",
    "isr_config.doFlat=False\n",
    "isr_config.doFringe=False\n",
    "isr_config.doDefect=False\n",
    "isr_config.doAddDistortionModel=False\n",
    "isr_config.doLinearize=False"
   ]
  },
  {
   "cell_type": "markdown",
   "metadata": {},
   "source": [
    "### Construct the `IsrTask` with the above configuration"
   ]
  },
  {
   "cell_type": "code",
   "execution_count": 4,
   "metadata": {},
   "outputs": [],
   "source": [
    "isr = IsrTask(config=isr_config)"
   ]
  },
  {
   "cell_type": "markdown",
   "metadata": {},
   "source": [
    "### Retrieve the data necessary to perform ISR.  This is just the raw data and the bias frame.  Note there are multiple integrations.  This notebook only looks at one of them."
   ]
  },
  {
   "cell_type": "code",
   "execution_count": 5,
   "metadata": {},
   "outputs": [
    {
     "name": "stdout",
     "output_type": "stream",
     "text": [
      "[258334666, 258334978, 258335291, 258335602, 258335913]\n"
     ]
    }
   ],
   "source": [
    "BOOTCAMP_REPO_DIR= '/project/bootcamp/repo_RTM-007/'\n",
    "butler = Butler(BOOTCAMP_REPO_DIR)\n",
    "print(butler.queryMetadata('raw', ['visit'], dataId={'imageType': 'FE55', 'testType': 'FE55'}))\n"
   ]
  },
  {
   "cell_type": "code",
   "execution_count": 6,
   "metadata": {},
   "outputs": [],
   "source": [
    "dId = {'visit': 258334666, 'detector': 2}\n",
    "raw = butler.get('raw', **dId)\n",
    "bias = butler.get('bias', **dId)"
   ]
  },
  {
   "cell_type": "code",
   "execution_count": 7,
   "metadata": {},
   "outputs": [],
   "source": [
    "result = isr.run(raw, bias=bias)"
   ]
  },
  {
   "cell_type": "markdown",
   "metadata": {},
   "source": [
    "### Set up the necessary classes for using firefly to look at the data."
   ]
  },
  {
   "cell_type": "code",
   "execution_count": 8,
   "metadata": {},
   "outputs": [
    {
     "data": {
      "text/html": [
       "\n",
       "        <iframe\n",
       "            width=\"800\"\n",
       "            height=\"600\"\n",
       "            src=\"https://lsst-lspdev.ncsa.illinois.edu/firefly/slate.html?__wsch=danielsf_test_channel\"\n",
       "            frameborder=\"0\"\n",
       "            allowfullscreen\n",
       "        ></iframe>\n",
       "        "
      ],
      "text/plain": [
       "<IPython.lib.display.IFrame at 0x7fcd97dde5c0>"
      ]
     },
     "execution_count": 8,
     "metadata": {},
     "output_type": "execute_result"
    }
   ],
   "source": [
    "my_channel = '{}_test_channel'.format(os.environ['USER'])\n",
    "server = 'https://lsst-lspdev.ncsa.illinois.edu'\n",
    "\n",
    "\n",
    "ff='{}/firefly/slate.html?__wsch={}'.format(server, my_channel)\n",
    "IFrame(ff,800,600)"
   ]
  },
  {
   "cell_type": "code",
   "execution_count": 9,
   "metadata": {},
   "outputs": [
    {
     "data": {
      "text/html": [
       "Open your web browser to <a href=\"https://lsst-lspdev.ncsa.illinois.edu/firefly//slate.html?__wsch=danielsf_test_channel\"\" target=\"_blank\">this link</a>"
      ],
      "text/plain": [
       "<IPython.core.display.HTML object>"
      ]
     },
     "metadata": {},
     "output_type": "display_data"
    }
   ],
   "source": [
    "afwDisplay.setDefaultBackend('firefly')\n",
    "afw_display = afwDisplay.getDisplay(frame=1, \n",
    "                                    name=my_channel)"
   ]
  },
  {
   "cell_type": "markdown",
   "metadata": {},
   "source": [
    "### Disaplay the frame after ISR"
   ]
  },
  {
   "cell_type": "code",
   "execution_count": 10,
   "metadata": {},
   "outputs": [],
   "source": [
    "afw_display.mtv(result.exposure)"
   ]
  },
  {
   "cell_type": "markdown",
   "metadata": {},
   "source": [
    "### Set up the functions doing the fit"
   ]
  },
  {
   "cell_type": "code",
   "execution_count": 6,
   "metadata": {},
   "outputs": [],
   "source": [
    "def double_gaussian(x, params):\n",
    "    (c1, mu1, sigma1, c2, mu2, sigma2) = params\n",
    "    res =  c1 * numpy.exp(-(x - mu1)**2.0/(2.0 * sigma1**2.0)) \\\n",
    "          + c2 * numpy.exp(-(x - mu2)**2.0/(2.0 * sigma2**2.0))\n",
    "    return res\n",
    "\n",
    "def double_gaussian_fit(params, x, y):\n",
    "    fit = double_gaussian( x, params )\n",
    "    return (fit - y)"
   ]
  },
  {
   "cell_type": "markdown",
   "metadata": {},
   "source": [
    "### Loop over amps and fit a double gaussian to the distribution of counts in detections"
   ]
  },
  {
   "cell_type": "code",
   "execution_count": 7,
   "metadata": {},
   "outputs": [
    {
     "name": "stderr",
     "output_type": "stream",
     "text": [
      "/opt/lsst/software/stack/python/miniconda3-4.5.4/envs/lsst-scipipe-fcd27eb/lib/python3.6/site-packages/scipy/optimize/minpack.py:436: RuntimeWarning: Number of calls to function has reached maxfev = 1400.\n",
      "  warnings.warn(errors[info][0], RuntimeWarning)\n"
     ]
    }
   ],
   "source": [
    "xs = []\n",
    "ys = []\n",
    "fits = []\n",
    "\n",
    "for detector_num in range(9):\n",
    "\n",
    "    dId = {'visit': 258334666, 'detector': detector_num}\n",
    "    raw = butler.get('raw', **dId)\n",
    "    bias = butler.get('bias', **dId)\n",
    "\n",
    "    result = isr.run(raw, bias=bias)\n",
    "\n",
    "    detector = result.exposure.getDetector()\n",
    "    for amp in detector:\n",
    "        masked_img = result.exposure.getMaskedImage()\n",
    "        work_img = masked_img[amp.getBBox()]\n",
    "        arr = work_img.getImage().getArray()\n",
    "    \n",
    "        bkgd = numpy.median(arr) # estimate a background and subtract it\n",
    "        arr -= bkgd\n",
    "\n",
    "        thresh = afwDetection.Threshold(100)\n",
    "        fs = afwDetection.FootprintSet(work_img, thresh) # detect hits\n",
    "        fs = afwDetection.FootprintSet(fs, 1, False) # grow the detection footprints\n",
    "        fs.makeHeavy(work_img)\n",
    "\n",
    "        foots = fs.getFootprints()\n",
    "\n",
    "        counts = []\n",
    "        for foot in foots:\n",
    "            if foot.getImageArray().size < 25:  # throw out big footprints/CRs since we know the hits should be in a single pixel modulo the charge diffusion.\n",
    "                counts.append(numpy.sum(foot.getImageArray()))\n",
    "\n",
    "        hist = numpy.histogram(counts, bins=2100.+numpy.array(range(80))*10.) # generate distribution to fit\n",
    "\n",
    "        y = hist[0]\n",
    "        x = [(hist[1][i]+hist[1][i+1])/2 for i in range(len(hist[1])-1)]\n",
    "\n",
    "        fit = leastsq(double_gaussian_fit, [50.,2270.,50.,10.,2550.,40.], args=(x, y)) # starting parameters were determined by examining a representative distribution\n",
    "        xs.append(x)\n",
    "        ys.append(y)\n",
    "        fits.append(fit)"
   ]
  },
  {
   "cell_type": "code",
   "execution_count": 8,
   "metadata": {},
   "outputs": [
    {
     "name": "stdout",
     "output_type": "stream",
     "text": [
      "144\n"
     ]
    }
   ],
   "source": [
    "print(len(fits))"
   ]
  },
  {
   "cell_type": "markdown",
   "metadata": {},
   "source": [
    "### plot distributions for all 16 amps."
   ]
  },
  {
   "cell_type": "code",
   "execution_count": 13,
   "metadata": {},
   "outputs": [
    {
     "data": {
      "image/png": "[encoded data removed]",
      "text/plain": [
       "<Figure size 720x720 with 16 Axes>"
      ]
     },
     "metadata": {
      "needs_background": "light"
     },
     "output_type": "display_data"
    }
   ],
   "source": [
    "fig, axs = plt.subplots(4, 4, figsize=(10, 10))\n",
    "for i in range(16):\n",
    "    x = xs[i]\n",
    "    y = ys[i]\n",
    "    fit = fits[i]\n",
    "    indx = i%4\n",
    "    indy = i//4\n",
    "    axs[indx][indy].bar(x, y, width=10)\n",
    "    axs[indx][indy].plot(x, double_gaussian(x, fit[0]), c='r')\n",
    "    if indx == 3:\n",
    "        axs[indx][indy].set_xlabel('Counts (ADU)')\n",
    "    if indy == 0:\n",
    "        axs[indx][indy].set_ylabel('N')"
   ]
  },
  {
   "cell_type": "code",
   "execution_count": null,
   "metadata": {},
   "outputs": [],
   "source": [
    "afw_display.mtv(work_img) # have a look at an example amp"
   ]
  },
  {
   "cell_type": "code",
   "execution_count": 14,
   "metadata": {},
   "outputs": [],
   "source": [
    "FE55_electrons = 1594"
   ]
  },
  {
   "cell_type": "markdown",
   "metadata": {},
   "source": [
    "### Calculate gain and print them"
   ]
  },
  {
   "cell_type": "code",
   "execution_count": null,
   "metadata": {},
   "outputs": [],
   "source": [
    "for i in range(16*9):\n",
    "    print(\"Gain for amp %s -- %.5f\"%(detector[i].getName(), FE55_electrons/fits[i][0][1]))"
   ]
  },
  {
   "cell_type": "code",
   "execution_count": null,
   "metadata": {},
   "outputs": [],
   "source": []
  }
 ],
 "metadata": {
  "kernelspec": {
   "display_name": "LSST",
   "language": "python",
   "name": "lsst"
  },
  "language_info": {
   "codemirror_mode": {
    "name": "ipython",
    "version": 3
   },
   "file_extension": ".py",
   "mimetype": "text/x-python",
   "name": "python",
   "nbconvert_exporter": "python",
   "pygments_lexer": "ipython3",
   "version": "3.6.6"
  }
 },
 "nbformat": 4,
 "nbformat_minor": 2
}
