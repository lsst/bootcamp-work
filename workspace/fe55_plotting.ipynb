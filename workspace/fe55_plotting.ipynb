{
 "cells": [
  {
   "cell_type": "code",
   "execution_count": 3,
   "metadata": {},
   "outputs": [],
   "source": [
    "%matplotlib ipympl\n",
    "\n",
    "# system imports\n",
    "import matplotlib\n",
    "from matplotlib import pylab as plt\n",
    "from scipy.optimize import leastsq\n",
    "import numpy\n",
    "import os\n",
    "\n",
    "# LSST stack imports\n",
    "from lsst.daf.persistence import Butler\n",
    "import lsst.afw.display as afwDisplay\n",
    "import lsst.afw.display.utils as afwDisplayUtils\n",
    "import lsst.afw.display.utils as afwDisplayUtils\n",
    "from lsst.ip.isr import IsrTask\n",
    "import lsst.afw.detection as afwDetection\n",
    "\n",
    "\n",
    "# Firefly client imports\n",
    "from firefly_client import FireflyClient\n",
    "from IPython.display import IFrame"
   ]
  },
  {
   "cell_type": "code",
   "execution_count": 4,
   "metadata": {},
   "outputs": [],
   "source": [
    "isr_config = IsrTask.ConfigClass()\n",
    "\n",
    "isr_config.doDark=False\n",
    "isr_config.doFlat=False\n",
    "isr_config.doFringe=False\n",
    "isr_config.doDefect=False\n",
    "isr_config.doAddDistortionModel=False\n",
    "isr_config.doLinearize=False"
   ]
  },
  {
   "cell_type": "code",
   "execution_count": 5,
   "metadata": {},
   "outputs": [],
   "source": [
    "isr = IsrTask(config=isr_config)"
   ]
  },
  {
   "cell_type": "code",
   "execution_count": 6,
   "metadata": {},
   "outputs": [
    {
     "name": "stdout",
     "output_type": "stream",
     "text": [
      "[258334666, 258334978, 258335291, 258335602, 258335913]\n"
     ]
    }
   ],
   "source": [
    "BOOTCAMP_REPO_DIR= '/project/bootcamp/repo_RTM-007/'\n",
    "butler = Butler(BOOTCAMP_REPO_DIR)\n",
    "print(butler.queryMetadata('raw', ['visit'], dataId={'imageType': 'FE55', 'testType': 'FE55'}))"
   ]
  },
  {
   "cell_type": "code",
   "execution_count": 7,
   "metadata": {},
   "outputs": [],
   "source": [
    "dId = {'visit': 258334666, 'detector': 2}\n",
    "raw = butler.get('raw', **dId)\n",
    "bias = butler.get('bias', **dId)"
   ]
  },
  {
   "cell_type": "code",
   "execution_count": 8,
   "metadata": {},
   "outputs": [],
   "source": [
    "result = isr.run(raw, bias=bias)"
   ]
  },
  {
   "cell_type": "code",
   "execution_count": 28,
   "metadata": {},
   "outputs": [],
   "source": [
    "detector = result.exposure.getDetector()\n",
    "amp = detector[1]\n",
    "\n",
    "masked_img = result.exposure.getMaskedImage()\n",
    "work_img = masked_img[amp.getBBox()]\n",
    "arr = work_img.getImage().getArray()\n",
    "    \n",
    "bkgd = numpy.median(arr) # estimate a background and subtract it\n",
    "arr -= bkgd\n",
    "\n",
    "thresh = afwDetection.Threshold(100)\n",
    "fs = afwDetection.FootprintSet(work_img, thresh, \"BAD\") # detect hits\n",
    "fs = afwDetection.FootprintSet(fs, 1, False) # grow the detection footprints\n",
    "fs.setMask(work_img.mask, \"DETECTED\")\n",
    "\n",
    "fs.makeHeavy(work_img)\n",
    "\n",
    "foots = fs.getFootprints()"
   ]
  },
  {
   "cell_type": "code",
   "execution_count": 29,
   "metadata": {},
   "outputs": [
    {
     "data": {
      "text/plain": [
       "1322"
      ]
     },
     "execution_count": 29,
     "metadata": {},
     "output_type": "execute_result"
    }
   ],
   "source": [
    "len(foots)"
   ]
  },
  {
   "cell_type": "code",
   "execution_count": 30,
   "metadata": {},
   "outputs": [],
   "source": [
    "#afwDisplay.setDefaultBackend('matplotlib')"
   ]
  },
  {
   "cell_type": "code",
   "execution_count": 31,
   "metadata": {},
   "outputs": [
    {
     "ename": "AttributeError",
     "evalue": "'lsst.afw.detection.footprintSet.FootprintSet' object has no attribute 'getPeaks'",
     "output_type": "error",
     "traceback": [
      "\u001b[0;31m---------------------------------------------------------------------------\u001b[0m",
      "\u001b[0;31mAttributeError\u001b[0m                            Traceback (most recent call last)",
      "\u001b[0;32m<ipython-input-31-a98c5c8dcfd0>\u001b[0m in \u001b[0;36m<module>\u001b[0;34m\u001b[0m\n\u001b[0;32m----> 1\u001b[0;31m \u001b[0mp\u001b[0m\u001b[0;34m=\u001b[0m \u001b[0mfs\u001b[0m\u001b[0;34m.\u001b[0m\u001b[0mgetPeaks\u001b[0m\u001b[0;34m(\u001b[0m\u001b[0;34m)\u001b[0m\u001b[0;34m[\u001b[0m\u001b[0;36m0\u001b[0m\u001b[0;34m]\u001b[0m\u001b[0;34m\u001b[0m\u001b[0m\n\u001b[0m\u001b[1;32m      2\u001b[0m \u001b[0mp\u001b[0m\u001b[0;34m.\u001b[0m\u001b[0mgetCentroid\u001b[0m\u001b[0;34m\u001b[0m\u001b[0m\n",
      "\u001b[0;31mAttributeError\u001b[0m: 'lsst.afw.detection.footprintSet.FootprintSet' object has no attribute 'getPeaks'"
     ]
    }
   ],
   "source": [
    "p= fs.getPeaks()[0]\n",
    "p.getCentroid"
   ]
  },
  {
   "cell_type": "code",
   "execution_count": 33,
   "metadata": {},
   "outputs": [
    {
     "data": {
      "application/vnd.jupyter.widget-view+json": {
       "model_id": "04221bc682094e799183a96b83e3dfaf",
       "version_major": 2,
       "version_minor": 0
      },
      "text/plain": [
       "FigureCanvasNbAgg()"
      ]
     },
     "metadata": {},
     "output_type": "display_data"
    }
   ],
   "source": [
    "# Unfortunately, afwDisplayUtils.drawFootprint does not accept an `alpha` kwarg, so we cannot control\n",
    "# the transparency of the footprints being drawn\n",
    "#plt.figure(figsize=(100,100))\n",
    "afwDisplay.setDefaultMaskTransparency(0.5)\n",
    "display = afwDisplay.Display(backend='matplotlib', reopenPlot=True)\n",
    "display.scale('asinh', 'zscale')\n",
    "display.setMaskTransparency(50) #  \"DETECTED\")\n",
    "display.mtv(work_img)\n",
    "\n",
    "with display.Buffering():\n",
    "    pass\n",
    "if False:\n",
    "    for fs in foots:\n",
    "        \n",
    "        if False:\n",
    "            afwDisplayUtils.drawFootprint(fs,display=display)\n",
    "        else:\n",
    "            display.dot('x', *fs.getPeaks()[0].getCentroid(),ctype=afwDisplay.RED)\n",
    "            afwDisplayUtils.drawFootprint(fs,display=display)\n",
    "\n",
    "#plt.show()\n"
   ]
  },
  {
   "cell_type": "code",
   "execution_count": 13,
   "metadata": {},
   "outputs": [
    {
     "name": "stdout",
     "output_type": "stream",
     "text": [
      "Help on function drawFootprint in module lsst.afw.display.utils:\n",
      "\n",
      "drawFootprint(foot, borderWidth=0.5, origin=None, XY0=None, frame=None, ctype=None, bin=1, peaks=False, symb='+', size=0.4, ctypePeak=None, display='deferToFrame')\n",
      "    Draw an afwDetection::Footprint on a display frame with the specified ctype.  Include an extra borderWidth\n",
      "    pixels If origin is present, it's Added to the Footprint; if XY0 is present is Subtracted from the Footprint\n",
      "    \n",
      "    If peaks is True, also show the object's Peaks using the specified symbol and size and ctypePeak\n",
      "    \n",
      "    All Footprint coordinates are divided by bin, as is right and proper for overlaying on a binned image\n",
      "\n"
     ]
    }
   ],
   "source": [
    "help(afwDisplayUtils.drawFootprint)"
   ]
  },
  {
   "cell_type": "code",
   "execution_count": null,
   "metadata": {},
   "outputs": [],
   "source": [
    "\n"
   ]
  },
  {
   "cell_type": "code",
   "execution_count": null,
   "metadata": {},
   "outputs": [],
   "source": []
  }
 ],
 "metadata": {
  "kernelspec": {
   "display_name": "LSST",
   "language": "python",
   "name": "lsst"
  },
  "language_info": {
   "codemirror_mode": {
    "name": "ipython",
    "version": 3
   },
   "file_extension": ".py",
   "mimetype": "text/x-python",
   "name": "python",
   "nbconvert_exporter": "python",
   "pygments_lexer": "ipython3",
   "version": "3.6.6"
  }
 },
 "nbformat": 4,
 "nbformat_minor": 2
}
