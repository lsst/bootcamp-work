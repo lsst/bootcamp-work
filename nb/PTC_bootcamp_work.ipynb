{
 "cells": [
  {
   "cell_type": "markdown",
   "metadata": {},
   "source": [
    "### Imports"
   ]
  },
  {
   "cell_type": "code",
   "execution_count": null,
   "metadata": {},
   "outputs": [],
   "source": [
    "%matplotlib inline\n",
    "\n",
    "# system imports\n",
    "from matplotlib import pylab as plt\n",
    "import numpy as np\n",
    "import os\n",
    "\n",
    "# LSST stack imports\n",
    "from lsst.daf.persistence import Butler\n",
    "import lsst.afw.display as afwDisplay\n",
    "from lsst.ip.isr import IsrTask\n",
    "import lsst.afw.math as afwMath\n",
    "\n",
    "\n",
    "# Firefly client imports\n",
    "from IPython.display import IFrame"
   ]
  },
  {
   "cell_type": "code",
   "execution_count": null,
   "metadata": {},
   "outputs": [],
   "source": [
    "import matplotlib\n",
    "matplotlib.rcParams['figure.dpi'] = 120"
   ]
  },
  {
   "cell_type": "markdown",
   "metadata": {},
   "source": [
    "This notebook requires the package `obs_lsst`, which is not currently distributed in the LSP. If the following cell raises an exception, see the instructions in `welcome_to_FE55.ipynb`."
   ]
  },
  {
   "cell_type": "code",
   "execution_count": null,
   "metadata": {},
   "outputs": [],
   "source": [
    "import eups\n",
    "assert eups.getSetupVersion(\"obs_lsst\")"
   ]
  },
  {
   "cell_type": "markdown",
   "metadata": {},
   "source": [
    "### Set up the config for the ISR task.  This essentially turns off all processing other than overscan and bias correction."
   ]
  },
  {
   "cell_type": "code",
   "execution_count": null,
   "metadata": {},
   "outputs": [],
   "source": [
    "isr_config = IsrTask.ConfigClass()\n",
    "\n",
    "isr_config.doDark=False\n",
    "isr_config.doFlat=False\n",
    "isr_config.doFringe=False\n",
    "isr_config.doDefect=False\n",
    "isr_config.doAddDistortionModel=False\n",
    "isr_config.doLinearize=False\n",
    "isr_config.doSaturationInterpolation=False"
   ]
  },
  {
   "cell_type": "markdown",
   "metadata": {},
   "source": [
    "### Construct the `IsrTask` with the above configuration"
   ]
  },
  {
   "cell_type": "code",
   "execution_count": null,
   "metadata": {},
   "outputs": [],
   "source": [
    "isr = IsrTask(config=isr_config)"
   ]
  },
  {
   "cell_type": "markdown",
   "metadata": {},
   "source": [
    "### Setup firefly to do image visualization"
   ]
  },
  {
   "cell_type": "code",
   "execution_count": null,
   "metadata": {},
   "outputs": [],
   "source": [
    "my_channel = '{}_test_channel'.format(os.environ['USER'])\n",
    "server = 'https://lsst-lspdev.ncsa.illinois.edu'\n",
    "\n",
    "\n",
    "ff='{}/firefly/slate.html?__wsch={}'.format(server, my_channel)\n",
    "IFrame(ff,800,600)\n",
    "\n",
    "afwDisplay.setDefaultBackend('firefly')\n",
    "afw_display = afwDisplay.getDisplay(frame=1, \n",
    "                                    name=my_channel)"
   ]
  },
  {
   "cell_type": "code",
   "execution_count": null,
   "metadata": {},
   "outputs": [],
   "source": [
    "def calculate_gains(rtm_path, sensor, hduidx):\n",
    "    \n",
    "    '''\n",
    "    @params\n",
    "    \n",
    "    rtm_path: str\n",
    "    \n",
    "    detector: 0-8\n",
    "    \n",
    "    hduidx: range??\n",
    "    \n",
    "    @returns\n",
    "    results: array, [('visit1', 'int'), ('visit2', 'int'), ('index', 'int'), ('gain', 'f4'), ('exp_time', 'f4')]\n",
    "    \n",
    "    '''\n",
    "\n",
    "    ## Initialize the Butler to point to RTM data\n",
    "    butler = Butler(rtm_path)\n",
    "\n",
    "    ## Get individual exposures\n",
    "    visits = butler.queryMetadata('raw', ['visit'], dataId={'imageType': 'FLAT', 'testType': 'FLAT'}) ## what is 'testType' ??\n",
    "    gain = {}\n",
    "    exp_time = {}\n",
    "    \n",
    "    visits = visits[:10]              #Remove when ready to look at all available visits\n",
    "    \n",
    "    #Initialize an empty array for storing the output\n",
    "    nn = int(len(visits) / 2)    \n",
    "    results = np.empty(nn, dtype=[('visit1', 'int'), ('visit2', 'int'), ('index', 'int'), ('gain', 'f4'), ('exp_time', 'f4')])\n",
    "\n",
    "    i = 0\n",
    "    ## Assuming pairs are visits listed one after another\n",
    "    for visit1, visit2 in zip(visits[:-1:2], visits[1::2]): # loop over pairs of images\n",
    "        # Get ISR data for first image\n",
    "        dId = {'visit': visit1, 'detector': sensor}\n",
    "        raw1 = butler.get('raw', **dId)\n",
    "        bias1 = butler.get('bias', **dId)\n",
    "        time1 = raw1.getInfo().getVisitInfo().getExposureTime()\n",
    "\n",
    "        # Get ISR data for second image\n",
    "        dId = {'visit': visit2, 'detector': sensor}\n",
    "        raw2 = butler.get('raw', **dId)\n",
    "        bias2 = butler.get('bias', **dId)\n",
    "        time2 = raw2.getInfo().getVisitInfo().getExposureTime()\n",
    "        if abs(time1 - time2) > 0.01:\n",
    "            \"Mismatched exptimes\"\n",
    "            continue\n",
    "\n",
    "        # run ISR on both images\n",
    "        result1 = isr.run(raw1, bias=bias1)\n",
    "        result2 = isr.run(raw2, bias=bias2)\n",
    "\n",
    "        detector = result1.exposure.getDetector()\n",
    "        amp = detector[hduidx]\n",
    "\n",
    "        sub_im1 = result1.exposure.getMaskedImage()[amp.getBBox()]\n",
    "        #arr1 = sub_im1.getImage().getArray()\n",
    "        sub_im2 = result2.exposure.getMaskedImage()[amp.getBBox()]\n",
    "        #arr2 = sub_im2.getImage().getArray()\n",
    "\n",
    "        # From RHL, 1/g = <(I1-I2)**2/(I1+I2)>\n",
    "        diff_im = sub_im1.clone()\n",
    "        diff_im -= sub_im2\n",
    "\n",
    "        sum_im = sub_im1.clone()\n",
    "        sum_im += sub_im2\n",
    "\n",
    "        diff_im *= diff_im\n",
    "        diff_im /= sum_im\n",
    "\n",
    "        stats = afwMath.makeStatistics(diff_im, afwMath.MEDIAN | afwMath.MEAN)\n",
    "        # Compute gain for this amp.\n",
    "        gain[visit1] = 1/stats.getValue(afwMath.MEAN)\n",
    "        exp_time[visit1] = time1\n",
    "        results[i]['visit1'] = visit1\n",
    "        results[i]['visit2'] = visit2\n",
    "        results[i]['index'] = i\n",
    "        results[i]['gain'] = gain[visit1]\n",
    "        results[i]['exp_time'] = exp_time[visit1]\n",
    "        #print(\"visit %i,%i -- %i of %i -- gain=%f, exposure time(s)=%f\"%(visit1, visit2, i, len(visits)/2, gain[visit1], exp_time[visit1], ))\n",
    "        print(i, visit1, visit2)\n",
    "        i += 1\n",
    "        \n",
    "    return(results)"
   ]
  },
  {
   "cell_type": "code",
   "execution_count": null,
   "metadata": {},
   "outputs": [],
   "source": [
    "sensor2_amp2_gains = calculate_gains( '/project/bootcamp/repo_RTM-007/', 2, 2)"
   ]
  },
  {
   "cell_type": "code",
   "execution_count": null,
   "metadata": {},
   "outputs": [],
   "source": [
    "sensor2_amp2_gains"
   ]
  },
  {
   "cell_type": "code",
   "execution_count": null,
   "metadata": {},
   "outputs": [],
   "source": [
    "BOOTCAMP_REPO_DIR= '/project/bootcamp/repo_RTM-007/'\n",
    "butler = Butler(BOOTCAMP_REPO_DIR)\n",
    "## butler.getKeys('raw')\n",
    "## help(butler)\n",
    "visits = butler.queryMetadata('raw', ['visit'], dataId={'imageType': 'FLAT', 'testType': 'FLAT'})\n",
    "gain = {}\n",
    "exp_time = {}\n",
    "\n",
    "i = 1\n",
    "for visit1, visit2 in zip(visits[:-1:2], visits[1::2]): # loop over pairs of images\n",
    "    # Get ISR data for first image\n",
    "    dId = {'visit': visit1, 'detector': 2}\n",
    "    raw1 = butler.get('raw', **dId)\n",
    "    bias1 = butler.get('bias', **dId)\n",
    "    time1 = raw1.getInfo().getVisitInfo().getExposureTime()\n",
    "    \n",
    "    # Get ISR data for second image\n",
    "    dId = {'visit': visit2, 'detector': 2}\n",
    "    raw2 = butler.get('raw', **dId)\n",
    "    bias2 = butler.get('bias', **dId)\n",
    "    time2 = raw2.getInfo().getVisitInfo().getExposureTime()\n",
    "    if abs(time1 - time2) > 0.01:\n",
    "        \"Mismatched exptimes\"\n",
    "        continue\n",
    "    \n",
    "    # run ISR on both images\n",
    "    result1 = isr.run(raw1, bias=bias1)\n",
    "    result2 = isr.run(raw2, bias=bias2)\n",
    "    \n",
    "    detector = result1.exposure.getDetector()\n",
    "    amp = detector[3]\n",
    "\n",
    "    sub_im1 = result1.exposure.getMaskedImage()[amp.getBBox()]\n",
    "    #arr1 = sub_im1.getImage().getArray()\n",
    "    sub_im2 = result2.exposure.getMaskedImage()[amp.getBBox()]\n",
    "    #arr2 = sub_im2.getImage().getArray()\n",
    "    \n",
    "    # From RHL, 1/g = <(I1-I2)**2/(I1+I2)>\n",
    "    diff_im = sub_im1.clone()\n",
    "    diff_im -= sub_im2\n",
    "    \n",
    "    sum_im = sub_im1.clone()\n",
    "    sum_im += sub_im2\n",
    "    \n",
    "    diff_im *= diff_im\n",
    "    diff_im /= sum_im\n",
    "    \n",
    "    stats = afwMath.makeStatistics(diff_im, afwMath.MEDIAN | afwMath.MEAN)\n",
    "    # Compute gain for this amp.\n",
    "    gain[visit1] = 1/stats.getValue(afwMath.MEAN)\n",
    "    exp_time[visit1] = time1\n",
    "    print(\"visit %i,%i -- %i of %i -- gain=%f, exposure time(s)=%f\"%(visit1, visit2, i, len(visits)/2, gain[visit1], exp_time[visit1], ))\n",
    "    i += 1"
   ]
  },
  {
   "cell_type": "code",
   "execution_count": null,
   "metadata": {},
   "outputs": [],
   "source": [
    "afw_display.mtv(sub_im1) # display an example image"
   ]
  },
  {
   "cell_type": "code",
   "execution_count": null,
   "metadata": {},
   "outputs": [],
   "source": [
    "visit_keys = exp_time.keys()\n",
    "x = [exp_time[visit] for visit in visit_keys]\n",
    "y = [gain[visit] for visit in visit_keys]"
   ]
  },
  {
   "cell_type": "code",
   "execution_count": null,
   "metadata": {},
   "outputs": [],
   "source": [
    "plt.scatter(x, y)\n",
    "plt.ylim(0, 1)"
   ]
  }
 ],
 "metadata": {
  "kernelspec": {
   "display_name": "LSST",
   "language": "python",
   "name": "lsst"
  },
  "language_info": {
   "codemirror_mode": {
    "name": "ipython",
    "version": 3
   },
   "file_extension": ".py",
   "mimetype": "text/x-python",
   "name": "python",
   "nbconvert_exporter": "python",
   "pygments_lexer": "ipython3",
   "version": "3.6.6"
  }
 },
 "nbformat": 4,
 "nbformat_minor": 2
}
